{
 "cells": [
  {
   "cell_type": "code",
   "execution_count": null,
   "metadata": {},
   "outputs": [],
   "source": [
    "## PRECIO DIA AMAZON"
   ]
  },
  {
   "cell_type": "code",
   "execution_count": null,
   "metadata": {},
   "outputs": [],
   "source": [
    "precio_dia = driver.find_elements(By.CSS_SELECTOR, 'span[class=\"sc-e0c7d9f7-0 bPkjPs\"]')\n",
    "resultados = []\n",
    "\n",
    "for price_element in precio_dia:\n",
    "    price_text = price_element.text\n",
    "    if price_text.isdigit() or not re.search('[A-Za-z]', price_text):\n",
    "        resultados.append(price_text)"
   ]
  },
  {
   "cell_type": "code",
   "execution_count": null,
   "metadata": {},
   "outputs": [],
   "source": [
    "resultados = resultados[:-36]"
   ]
  },
  {
   "cell_type": "code",
   "execution_count": null,
   "metadata": {},
   "outputs": [],
   "source": [
    "resultados"
   ]
  }
 ],
 "metadata": {
  "language_info": {
   "name": "python"
  }
 },
 "nbformat": 4,
 "nbformat_minor": 2
}
