{
 "cells": [
  {
   "cell_type": "code",
   "execution_count": 3,
   "metadata": {},
   "outputs": [
    {
     "name": "stdout",
     "output_type": "stream",
     "text": [
      "    ID_Categoria                  Categoría\n",
      "0              1                 Televisión\n",
      "1              2                Informática\n",
      "2              3                  Telefonía\n",
      "3              4      Gran electrodoméstico\n",
      "4              5                      Hogar\n",
      "5              6            Belleza y salud\n",
      "6              7            Entretenimiento\n",
      "7              8               Smartwatches\n",
      "8              9                  Movilidad\n",
      "9             10  Accesorios de informática\n",
      "10            11                      Audio\n",
      "11            12                 Fotografía\n",
      "12            13                  Smarthome\n"
     ]
    }
   ],
   "source": [
    "import pandas as pd\n",
    "\n",
    "# Lista de categorías\n",
    "categorias = [\n",
    "    \"Televisión\",\n",
    "    \"Informática\",\n",
    "    \"Telefonía\",\n",
    "    \"Gran electrodoméstico\",\n",
    "    \"Hogar\",\n",
    "    \"Belleza y salud\",\n",
    "    \"Entretenimiento\",\n",
    "    \"Smartwatches\",\n",
    "    \"Movilidad\",\n",
    "    \"Accesorios de informática\",\n",
    "    \"Audio\",\n",
    "    \"Fotografía\",\n",
    "    \"Smarthome\"\n",
    "]\n",
    "\n",
    "# Crear un DataFrame\n",
    "df = pd.DataFrame({\n",
    "    'ID_Categoria': range(1, len(categorias) + 1),\n",
    "    'Categoría': categorias\n",
    "})\n",
    "\n",
    "# Imprimir el DataFrame\n",
    "print(df)\n",
    "\n",
    "\n",
    "\n",
    "\n"
   ]
  }
 ],
 "metadata": {
  "kernelspec": {
   "display_name": "Python 3",
   "language": "python",
   "name": "python3"
  },
  "language_info": {
   "codemirror_mode": {
    "name": "ipython",
    "version": 3
   },
   "file_extension": ".py",
   "mimetype": "text/x-python",
   "name": "python",
   "nbconvert_exporter": "python",
   "pygments_lexer": "ipython3",
   "version": "3.11.6"
  }
 },
 "nbformat": 4,
 "nbformat_minor": 2
}
