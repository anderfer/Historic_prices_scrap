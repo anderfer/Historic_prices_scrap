{
 "cells": [
  {
   "cell_type": "code",
   "execution_count": 2,
   "metadata": {},
   "outputs": [],
   "source": [
    "from selenium import webdriver\n",
    "from selenium.webdriver.common.by import By\n",
    "from selenium.webdriver.common.keys import Keys\n",
    "from webdriver_manager.chrome import ChromeDriverManager\n",
    "from PIL import Image\n",
    "from io import BytesIO\n",
    "import pytesseract\n",
    "import pyautogui\n",
    "import csv\n",
    "import os\n",
    "import time\n",
    "import re\n",
    "import pandas as pd"
   ]
  },
  {
   "cell_type": "code",
   "execution_count": null,
   "metadata": {},
   "outputs": [],
   "source": [
    "## NOMBRES PRODUCTOS AMAZON"
   ]
  },
  {
   "cell_type": "code",
   "execution_count": null,
   "metadata": {},
   "outputs": [],
   "source": [
    "chrome_options = webdriver.ChromeOptions()\n",
    "chrome_options.add_extension(r'driver/Chollometro-Info-de-precios-alertas-y-más.crx')\n",
    "chrome_options.add_argument(r'user-data-dir=C:\\Users\\ferna\\Desktop\\IRONHACK\\Web Scraping\\your-code\\cookies')\n",
    "\n",
    "driver = webdriver.Chrome(ChromeDriverManager().install(), options=chrome_options)\n",
    "url = 'https://www.amazon.es/deal/248a989b/?_encoding=UTF8&showVariations=true&pd_rd_i=B09DGP7JLW&pd_rd_w=mMqGU&content-id=amzn1.sym.e7803c25-5b6d-4230-a260-a9ca7a958708&pf_rd_p=e7803c25-5b6d-4230-a260-a9ca7a958708&pf_rd_r=M6RAE043V0DPM1V5JMAV&pd_rd_wg=3nNfs&pd_rd_r=f8070789-501c-43d5-a91f-20ba3f0e2366'\n",
    "\n",
    "driver.get(url)"
   ]
  },
  {
   "cell_type": "code",
   "execution_count": 8,
   "metadata": {},
   "outputs": [],
   "source": [
    "div_elements = driver.find_elements(By.CSS_SELECTOR, 'a[title]')\n"
   ]
  },
  {
   "cell_type": "code",
   "execution_count": 9,
   "metadata": {},
   "outputs": [
    {
     "data": {
      "text/plain": [
       "[<selenium.webdriver.remote.webelement.WebElement (session=\"bc2b51d925317f87c920444f20a2056a\", element=\"B229DB85A287201605561E245D7AD4CA_element_725\")>,\n",
       " <selenium.webdriver.remote.webelement.WebElement (session=\"bc2b51d925317f87c920444f20a2056a\", element=\"B229DB85A287201605561E245D7AD4CA_element_726\")>,\n",
       " <selenium.webdriver.remote.webelement.WebElement (session=\"bc2b51d925317f87c920444f20a2056a\", element=\"B229DB85A287201605561E245D7AD4CA_element_727\")>,\n",
       " <selenium.webdriver.remote.webelement.WebElement (session=\"bc2b51d925317f87c920444f20a2056a\", element=\"B229DB85A287201605561E245D7AD4CA_element_728\")>,\n",
       " <selenium.webdriver.remote.webelement.WebElement (session=\"bc2b51d925317f87c920444f20a2056a\", element=\"B229DB85A287201605561E245D7AD4CA_element_676\")>,\n",
       " <selenium.webdriver.remote.webelement.WebElement (session=\"bc2b51d925317f87c920444f20a2056a\", element=\"B229DB85A287201605561E245D7AD4CA_element_699\")>,\n",
       " <selenium.webdriver.remote.webelement.WebElement (session=\"bc2b51d925317f87c920444f20a2056a\", element=\"B229DB85A287201605561E245D7AD4CA_element_670\")>,\n",
       " <selenium.webdriver.remote.webelement.WebElement (session=\"bc2b51d925317f87c920444f20a2056a\", element=\"B229DB85A287201605561E245D7AD4CA_element_722\")>,\n",
       " <selenium.webdriver.remote.webelement.WebElement (session=\"bc2b51d925317f87c920444f20a2056a\", element=\"B229DB85A287201605561E245D7AD4CA_element_650\")>,\n",
       " <selenium.webdriver.remote.webelement.WebElement (session=\"bc2b51d925317f87c920444f20a2056a\", element=\"B229DB85A287201605561E245D7AD4CA_element_729\")>,\n",
       " <selenium.webdriver.remote.webelement.WebElement (session=\"bc2b51d925317f87c920444f20a2056a\", element=\"B229DB85A287201605561E245D7AD4CA_element_730\")>,\n",
       " <selenium.webdriver.remote.webelement.WebElement (session=\"bc2b51d925317f87c920444f20a2056a\", element=\"B229DB85A287201605561E245D7AD4CA_element_731\")>,\n",
       " <selenium.webdriver.remote.webelement.WebElement (session=\"bc2b51d925317f87c920444f20a2056a\", element=\"B229DB85A287201605561E245D7AD4CA_element_732\")>,\n",
       " <selenium.webdriver.remote.webelement.WebElement (session=\"bc2b51d925317f87c920444f20a2056a\", element=\"B229DB85A287201605561E245D7AD4CA_element_733\")>,\n",
       " <selenium.webdriver.remote.webelement.WebElement (session=\"bc2b51d925317f87c920444f20a2056a\", element=\"B229DB85A287201605561E245D7AD4CA_element_734\")>,\n",
       " <selenium.webdriver.remote.webelement.WebElement (session=\"bc2b51d925317f87c920444f20a2056a\", element=\"B229DB85A287201605561E245D7AD4CA_element_735\")>,\n",
       " <selenium.webdriver.remote.webelement.WebElement (session=\"bc2b51d925317f87c920444f20a2056a\", element=\"B229DB85A287201605561E245D7AD4CA_element_736\")>,\n",
       " <selenium.webdriver.remote.webelement.WebElement (session=\"bc2b51d925317f87c920444f20a2056a\", element=\"B229DB85A287201605561E245D7AD4CA_element_737\")>,\n",
       " <selenium.webdriver.remote.webelement.WebElement (session=\"bc2b51d925317f87c920444f20a2056a\", element=\"B229DB85A287201605561E245D7AD4CA_element_738\")>,\n",
       " <selenium.webdriver.remote.webelement.WebElement (session=\"bc2b51d925317f87c920444f20a2056a\", element=\"B229DB85A287201605561E245D7AD4CA_element_739\")>,\n",
       " <selenium.webdriver.remote.webelement.WebElement (session=\"bc2b51d925317f87c920444f20a2056a\", element=\"B229DB85A287201605561E245D7AD4CA_element_740\")>,\n",
       " <selenium.webdriver.remote.webelement.WebElement (session=\"bc2b51d925317f87c920444f20a2056a\", element=\"B229DB85A287201605561E245D7AD4CA_element_741\")>,\n",
       " <selenium.webdriver.remote.webelement.WebElement (session=\"bc2b51d925317f87c920444f20a2056a\", element=\"B229DB85A287201605561E245D7AD4CA_element_742\")>,\n",
       " <selenium.webdriver.remote.webelement.WebElement (session=\"bc2b51d925317f87c920444f20a2056a\", element=\"B229DB85A287201605561E245D7AD4CA_element_743\")>,\n",
       " <selenium.webdriver.remote.webelement.WebElement (session=\"bc2b51d925317f87c920444f20a2056a\", element=\"B229DB85A287201605561E245D7AD4CA_element_744\")>,\n",
       " <selenium.webdriver.remote.webelement.WebElement (session=\"bc2b51d925317f87c920444f20a2056a\", element=\"B229DB85A287201605561E245D7AD4CA_element_745\")>,\n",
       " <selenium.webdriver.remote.webelement.WebElement (session=\"bc2b51d925317f87c920444f20a2056a\", element=\"B229DB85A287201605561E245D7AD4CA_element_746\")>,\n",
       " <selenium.webdriver.remote.webelement.WebElement (session=\"bc2b51d925317f87c920444f20a2056a\", element=\"B229DB85A287201605561E245D7AD4CA_element_747\")>,\n",
       " <selenium.webdriver.remote.webelement.WebElement (session=\"bc2b51d925317f87c920444f20a2056a\", element=\"B229DB85A287201605561E245D7AD4CA_element_748\")>,\n",
       " <selenium.webdriver.remote.webelement.WebElement (session=\"bc2b51d925317f87c920444f20a2056a\", element=\"B229DB85A287201605561E245D7AD4CA_element_749\")>,\n",
       " <selenium.webdriver.remote.webelement.WebElement (session=\"bc2b51d925317f87c920444f20a2056a\", element=\"B229DB85A287201605561E245D7AD4CA_element_750\")>,\n",
       " <selenium.webdriver.remote.webelement.WebElement (session=\"bc2b51d925317f87c920444f20a2056a\", element=\"B229DB85A287201605561E245D7AD4CA_element_751\")>,\n",
       " <selenium.webdriver.remote.webelement.WebElement (session=\"bc2b51d925317f87c920444f20a2056a\", element=\"B229DB85A287201605561E245D7AD4CA_element_752\")>,\n",
       " <selenium.webdriver.remote.webelement.WebElement (session=\"bc2b51d925317f87c920444f20a2056a\", element=\"B229DB85A287201605561E245D7AD4CA_element_753\")>]"
      ]
     },
     "execution_count": 9,
     "metadata": {},
     "output_type": "execute_result"
    }
   ],
   "source": [
    "div_elements"
   ]
  },
  {
   "cell_type": "code",
   "execution_count": 10,
   "metadata": {},
   "outputs": [],
   "source": [
    "nombres_productos = []\n",
    "\n",
    "for div in div_elements:\n",
    "    product_title = div.get_attribute('title')\n",
    "    nombres_productos.append(product_title)"
   ]
  },
  {
   "cell_type": "code",
   "execution_count": 16,
   "metadata": {},
   "outputs": [],
   "source": [
    "nombres_productos = nombres_productos[4:12]"
   ]
  },
  {
   "cell_type": "code",
   "execution_count": 17,
   "metadata": {},
   "outputs": [
    {
     "data": {
      "text/plain": [
       "['Lenovo IdeaPad 3 Gen 6 - Ordenador Portátil 15.6&#34; FullHD (AMD Ryzen 7 5700U, 8GB RAM, 512GB SSD, AMD Radeon Graphics, Windows 11 Home) Azul - Teclado QWERTY Español',\n",
       " 'Lenovo IdeaPad 3 Gen 6 - Ordenador Portátil 15.6&#34; FullHD (AMD Ryzen 7 5700U, 8GB RAM, 512GB SSD, AMD Radeon Graphics, Windows 11 Home) Azul - Teclado QWERTY Español',\n",
       " 'Lenovo IdeaPad Gaming 3 Gen 7 - Ordenador Portátil Gaming 15.6&#34; FullHD (Intel Core i7-12650H, 10C, 16GB RAM, 512GB SSD, NVIDIA GeForce RTX 3050-4GB, Sin Sistema Operativo) Gris, Teclado QWERTY Español',\n",
       " 'Lenovo IdeaPad Gaming 3 Gen 7 - Ordenador Portátil Gaming 15.6&#34; FullHD (Intel Core i7-12650H, 10C, 16GB RAM, 512GB SSD, NVIDIA GeForce RTX 3050-4GB, Sin Sistema Operativo) Gris, Teclado QWERTY Español',\n",
       " 'Lenovo IdeaPad Gaming 3 Gen 6 - Ordenador Portátil Gaming 15.6&#34; FullHD 60Hz (AMD Ryzen 5 5600H, 16GB RAM, 512GB SSD, NVIDIA GeForce RTX 3050 Ti-4GB, Windows 11 Home) Negro - Teclado QWERTY Español',\n",
       " 'Lenovo IdeaPad Gaming 3 Gen 6 - Ordenador Portátil Gaming 15.6&#34; FullHD 60Hz (AMD Ryzen 5 5600H, 16GB RAM, 512GB SSD, NVIDIA GeForce RTX 3050 Ti-4GB, Windows 11 Home) Negro - Teclado QWERTY Español',\n",
       " 'Lenovo IdeaPad 1 Gen 7 - Ordenador Portátil 15.6&#34; FullHD (AMD Ryzen 7 5700U, 8GB RAM, 512GB SSD, AMD Radeon Graphics, WiFi 6, Windows 11 Home) Azul - Teclado QWERTY Español',\n",
       " 'Lenovo IdeaPad 1 Gen 7 - Ordenador Portátil 15.6&#34; FullHD (AMD Ryzen 7 5700U, 8GB RAM, 512GB SSD, AMD Radeon Graphics, WiFi 6, Windows 11 Home) Azul - Teclado QWERTY Español']"
      ]
     },
     "execution_count": 17,
     "metadata": {},
     "output_type": "execute_result"
    }
   ],
   "source": [
    "nombres_productos"
   ]
  },
  {
   "cell_type": "code",
   "execution_count": 18,
   "metadata": {},
   "outputs": [],
   "source": [
    "nombres_sin_duplicados = list(set(nombres_productos))\n"
   ]
  },
  {
   "cell_type": "code",
   "execution_count": 19,
   "metadata": {},
   "outputs": [
    {
     "data": {
      "text/plain": [
       "['Lenovo IdeaPad Gaming 3 Gen 6 - Ordenador Portátil Gaming 15.6&#34; FullHD 60Hz (AMD Ryzen 5 5600H, 16GB RAM, 512GB SSD, NVIDIA GeForce RTX 3050 Ti-4GB, Windows 11 Home) Negro - Teclado QWERTY Español',\n",
       " 'Lenovo IdeaPad 3 Gen 6 - Ordenador Portátil 15.6&#34; FullHD (AMD Ryzen 7 5700U, 8GB RAM, 512GB SSD, AMD Radeon Graphics, Windows 11 Home) Azul - Teclado QWERTY Español',\n",
       " 'Lenovo IdeaPad Gaming 3 Gen 7 - Ordenador Portátil Gaming 15.6&#34; FullHD (Intel Core i7-12650H, 10C, 16GB RAM, 512GB SSD, NVIDIA GeForce RTX 3050-4GB, Sin Sistema Operativo) Gris, Teclado QWERTY Español',\n",
       " 'Lenovo IdeaPad 1 Gen 7 - Ordenador Portátil 15.6&#34; FullHD (AMD Ryzen 7 5700U, 8GB RAM, 512GB SSD, AMD Radeon Graphics, WiFi 6, Windows 11 Home) Azul - Teclado QWERTY Español']"
      ]
     },
     "execution_count": 19,
     "metadata": {},
     "output_type": "execute_result"
    }
   ],
   "source": [
    "nombres_sin_duplicados"
   ]
  },
  {
   "cell_type": "code",
   "execution_count": 20,
   "metadata": {},
   "outputs": [],
   "source": [
    "df = pd.DataFrame(nombres_sin_duplicados)\n",
    "df.to_csv(\"productos_amazon.csv\")"
   ]
  },
  {
   "cell_type": "code",
   "execution_count": null,
   "metadata": {},
   "outputs": [],
   "source": [
    "## NOMBRES PRODUCTOS WORTEN"
   ]
  },
  {
   "cell_type": "code",
   "execution_count": null,
   "metadata": {},
   "outputs": [],
   "source": [
    "chrome_options = webdriver.ChromeOptions()\n",
    "chrome_options.add_extension(r'driver/Chollometro-Info-de-precios-alertas-y-más.crx')\n",
    "chrome_options.add_argument(r'user-data-dir=C:\\Users\\ferna\\Desktop\\IRONHACK\\Web Scraping\\your-code\\cookies')\n",
    "\n",
    "driver = webdriver.Chrome(ChromeDriverManager().install(), options=chrome_options)\n",
    "url = 'https://www.worten.es/ofertas-promociones/black-friday'\n",
    "\n",
    "\n",
    "driver.get(url)"
   ]
  },
  {
   "cell_type": "code",
   "execution_count": null,
   "metadata": {},
   "outputs": [],
   "source": [
    "div_elements = driver.find_elements(By.CSS_SELECTOR, 'div.product-card__name-and-features > h3 > span')"
   ]
  },
  {
   "cell_type": "code",
   "execution_count": null,
   "metadata": {},
   "outputs": [],
   "source": [
    "nombres = [div.text for div in div_elements]\n"
   ]
  },
  {
   "cell_type": "code",
   "execution_count": null,
   "metadata": {},
   "outputs": [],
   "source": [
    "df = pd.DataFrame(nombres)\n",
    "df.to_csv(\"productos worten.csv\")"
   ]
  },
  {
   "cell_type": "code",
   "execution_count": null,
   "metadata": {},
   "outputs": [],
   "source": [
    "## NOMBRES PRODUCTOS MEDIAMARK"
   ]
  },
  {
   "cell_type": "code",
   "execution_count": 3,
   "metadata": {},
   "outputs": [
    {
     "name": "stderr",
     "output_type": "stream",
     "text": [
      "C:\\Users\\ferna\\AppData\\Local\\Temp\\ipykernel_19368\\2266648707.py:5: DeprecationWarning: executable_path has been deprecated, please pass in a Service object\n",
      "  driver = webdriver.Chrome(ChromeDriverManager().install(), options=chrome_options)\n"
     ]
    }
   ],
   "source": [
    "chrome_options = webdriver.ChromeOptions()\n",
    "chrome_options.add_extension(r'driver/Chollometro-Info-de-precios-alertas-y-más.crx')\n",
    "chrome_options.add_argument(r'user-data-dir=C:\\Users\\ferna\\Desktop\\IRONHACK\\Web Scraping\\your-code\\cookies')\n",
    "\n",
    "driver = webdriver.Chrome(ChromeDriverManager().install(), options=chrome_options)\n",
    "\n",
    "url = 'https://www.mediamarkt.es/es/campaign/black-friday#product-grid-1sIGwuniyotk1v7gh9ycOk'\n",
    "\n",
    "driver.get(url)"
   ]
  },
  {
   "cell_type": "code",
   "execution_count": null,
   "metadata": {},
   "outputs": [],
   "source": [
    "div_elements = driver.find_elements(By.CSS_SELECTOR, 'div.product-card__name-and-features > h3 > span')"
   ]
  },
  {
   "cell_type": "code",
   "execution_count": null,
   "metadata": {},
   "outputs": [],
   "source": [
    "nombres = [div.text for div in div_elements]"
   ]
  },
  {
   "cell_type": "code",
   "execution_count": null,
   "metadata": {},
   "outputs": [],
   "source": [
    "df = pd.DataFrame(nombres)\n",
    "df.to_csv(\"productos_mediamark.csv\")"
   ]
  },
  {
   "cell_type": "code",
   "execution_count": null,
   "metadata": {},
   "outputs": [],
   "source": [
    "## JUNTAR LOS TRES EN UNO"
   ]
  },
  {
   "cell_type": "code",
   "execution_count": null,
   "metadata": {},
   "outputs": [],
   "source": [
    "archivos = ['productos_amazon.csv', 'productos_worten.csv', 'productos_amazon.csv']\n",
    "dataframes = []\n",
    "\n",
    "for archivo in archivos:\n",
    "    df = pd.read_csv(archivo)\n",
    "    dataframes.append(df)\n",
    "\n",
    "resultado = pd.concat(dataframes, ignore_index=True)\n",
    "\n",
    "resultado.to_csv('productos.csv', index=False)\n",
    "\n"
   ]
  }
 ],
 "metadata": {
  "kernelspec": {
   "display_name": "Python 3",
   "language": "python",
   "name": "python3"
  },
  "language_info": {
   "codemirror_mode": {
    "name": "ipython",
    "version": 3
   },
   "file_extension": ".py",
   "mimetype": "text/x-python",
   "name": "python",
   "nbconvert_exporter": "python",
   "pygments_lexer": "ipython3",
   "version": "3.11.6"
  }
 },
 "nbformat": 4,
 "nbformat_minor": 2
}
