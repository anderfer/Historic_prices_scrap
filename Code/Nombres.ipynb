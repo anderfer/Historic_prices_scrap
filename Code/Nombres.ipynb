{
 "cells": [
  {
   "cell_type": "code",
   "execution_count": 2,
   "metadata": {},
   "outputs": [],
   "source": [
    "from selenium import webdriver\n",
    "from selenium.webdriver.common.by import By\n",
    "from selenium.webdriver.common.keys import Keys\n",
    "from webdriver_manager.chrome import ChromeDriverManager\n",
    "from PIL import Image\n",
    "from io import BytesIO\n",
    "import pytesseract\n",
    "import pyautogui\n",
    "import csv\n",
    "import os\n",
    "import time\n",
    "import re\n",
    "import pandas as pd"
   ]
  },
  {
   "cell_type": "code",
   "execution_count": null,
   "metadata": {},
   "outputs": [],
   "source": [
    "## NOMBRES PRODUCTOS AMAZON"
   ]
  },
  {
   "cell_type": "code",
   "execution_count": 44,
   "metadata": {},
   "outputs": [
    {
     "name": "stderr",
     "output_type": "stream",
     "text": [
      "C:\\Users\\ferna\\AppData\\Local\\Temp\\ipykernel_6816\\1520520193.py:5: DeprecationWarning: executable_path has been deprecated, please pass in a Service object\n",
      "  driver = webdriver.Chrome(ChromeDriverManager().install(), options=chrome_options)\n"
     ]
    }
   ],
   "source": [
    "chrome_options = webdriver.ChromeOptions()\n",
    "chrome_options.add_extension(r'driver/Chollometro-Info-de-precios-alertas-y-más.crx')\n",
    "chrome_options.add_argument(r'user-data-dir=C:\\Users\\ferna\\Desktop\\IRONHACK\\Web Scraping\\your-code\\cookies')\n",
    "\n",
    "driver = webdriver.Chrome(ChromeDriverManager().install(), options=chrome_options)\n",
    "url = 'https://www.amazon.es/deal/248a989b/?_encoding=UTF8&showVariations=true&pd_rd_i=B09DGP7JLW&pd_rd_w=mMqGU&content-id=amzn1.sym.e7803c25-5b6d-4230-a260-a9ca7a958708&pf_rd_p=e7803c25-5b6d-4230-a260-a9ca7a958708&pf_rd_r=M6RAE043V0DPM1V5JMAV&pd_rd_wg=3nNfs&pd_rd_r=f8070789-501c-43d5-a91f-20ba3f0e2366'\n",
    "\n",
    "driver.get(url)"
   ]
  },
  {
   "cell_type": "code",
   "execution_count": 55,
   "metadata": {},
   "outputs": [],
   "source": [
    "div_elements = driver.find_elements(By.CSS_SELECTOR, 'a[title]')\n"
   ]
  },
  {
   "cell_type": "code",
   "execution_count": 56,
   "metadata": {},
   "outputs": [],
   "source": [
    "div_elements = div_elements[0:14]"
   ]
  },
  {
   "cell_type": "code",
   "execution_count": 57,
   "metadata": {},
   "outputs": [],
   "source": [
    "nombres_productos = []\n",
    "\n",
    "for div in div_elements:\n",
    "    product_title = div.get_attribute('title')\n",
    "    nombres_productos.append(product_title)"
   ]
  },
  {
   "cell_type": "code",
   "execution_count": 61,
   "metadata": {},
   "outputs": [],
   "source": [
    "nombres_productos = nombres_productos[4:12]"
   ]
  },
  {
   "cell_type": "code",
   "execution_count": 62,
   "metadata": {},
   "outputs": [
    {
     "data": {
      "text/plain": [
       "['Lenovo IdeaPad 3 Gen 6 - Ordenador Portátil 15.6&#34; FullHD (Intel Core i3-1115G4, 8GB RAM, 256GB SSD, Intel UHD Graphics, Sin Sistema Operativo) Gris - Teclado QWERTY Español',\n",
       " 'Lenovo IdeaPad 3 Gen 6 - Ordenador Portátil 15.6&#34; FullHD (Intel Core i3-1115G4, 8GB RAM, 256GB SSD, Intel UHD Graphics, Sin Sistema Operativo) Gris - Teclado QWERTY Español',\n",
       " 'Lenovo LOQ Gen 8 - Ordenador Portátil Gaming 15.6&#34; FullHD (Intel Core i5-12450H, 16GB RAM, 512GB SSD, NVIDIA GeForce RTX 4050 6GB, Sin Sistema Operativo) Gris - Teclado QWERTY Español',\n",
       " 'Lenovo LOQ Gen 8 - Ordenador Portátil Gaming 15.6&#34; FullHD (Intel Core i5-12450H, 16GB RAM, 512GB SSD, NVIDIA GeForce RTX 4050 6GB, Sin Sistema Operativo) Gris - Teclado QWERTY Español',\n",
       " 'Lenovo IdeaPad 3 Gen 7 - Ordenador Portátil 17.3&#34; FullHD (AMD Ryzen 5 5625U, 8GB RAM, 512GB SSD, AMD Radeon Graphics, Windows 11 Home) Gris - Teclado QWERTY Español',\n",
       " 'Lenovo IdeaPad 3 Gen 7 - Ordenador Portátil 17.3&#34; FullHD (AMD Ryzen 5 5625U, 8GB RAM, 512GB SSD, AMD Radeon Graphics, Windows 11 Home) Gris - Teclado QWERTY Español',\n",
       " 'Lenovo IdeaPad Flex 5 Gen 7 - Ordenador Portátil Convertible 14&#34; WUXGA Táctil (Intel Core i5-1235U, 16GB RAM, 512GB SSD, Iris Xe Graphics, WiFi 6, Windows 11 Home) Azul - Teclado QWERTY Español',\n",
       " 'Lenovo IdeaPad Flex 5 Gen 7 - Ordenador Portátil Convertible 14&#34; WUXGA Táctil (Intel Core i5-1235U, 16GB RAM, 512GB SSD, Iris Xe Graphics, WiFi 6, Windows 11 Home) Azul - Teclado QWERTY Español']"
      ]
     },
     "execution_count": 62,
     "metadata": {},
     "output_type": "execute_result"
    }
   ],
   "source": [
    "nombres_productos"
   ]
  },
  {
   "cell_type": "code",
   "execution_count": 63,
   "metadata": {},
   "outputs": [],
   "source": [
    "nombres_sin_duplicados = list(set(nombres_productos))\n"
   ]
  },
  {
   "cell_type": "code",
   "execution_count": 64,
   "metadata": {},
   "outputs": [
    {
     "data": {
      "text/plain": [
       "['Lenovo IdeaPad Flex 5 Gen 7 - Ordenador Portátil Convertible 14&#34; WUXGA Táctil (Intel Core i5-1235U, 16GB RAM, 512GB SSD, Iris Xe Graphics, WiFi 6, Windows 11 Home) Azul - Teclado QWERTY Español',\n",
       " 'Lenovo IdeaPad 3 Gen 7 - Ordenador Portátil 17.3&#34; FullHD (AMD Ryzen 5 5625U, 8GB RAM, 512GB SSD, AMD Radeon Graphics, Windows 11 Home) Gris - Teclado QWERTY Español',\n",
       " 'Lenovo LOQ Gen 8 - Ordenador Portátil Gaming 15.6&#34; FullHD (Intel Core i5-12450H, 16GB RAM, 512GB SSD, NVIDIA GeForce RTX 4050 6GB, Sin Sistema Operativo) Gris - Teclado QWERTY Español',\n",
       " 'Lenovo IdeaPad 3 Gen 6 - Ordenador Portátil 15.6&#34; FullHD (Intel Core i3-1115G4, 8GB RAM, 256GB SSD, Intel UHD Graphics, Sin Sistema Operativo) Gris - Teclado QWERTY Español']"
      ]
     },
     "execution_count": 64,
     "metadata": {},
     "output_type": "execute_result"
    }
   ],
   "source": [
    "nombres_sin_duplicados"
   ]
  },
  {
   "cell_type": "code",
   "execution_count": 65,
   "metadata": {},
   "outputs": [],
   "source": [
    "df = pd.DataFrame(nombres_sin_duplicados)\n"
   ]
  },
  {
   "cell_type": "code",
   "execution_count": 66,
   "metadata": {},
   "outputs": [],
   "source": [
    "df.replace('\"', '', regex=True, inplace=True)"
   ]
  },
  {
   "cell_type": "code",
   "execution_count": 67,
   "metadata": {},
   "outputs": [],
   "source": [
    "product_ids = [1, 2, 3, 4]\n",
    "category_id = [2, 2, 2, 2]\n",
    "df['product ID'] = product_ids\n",
    "df['category ID'] = category_id"
   ]
  },
  {
   "cell_type": "code",
   "execution_count": 68,
   "metadata": {},
   "outputs": [],
   "source": [
    "df.to_csv(\"productos_amazon.csv\")"
   ]
  },
  {
   "cell_type": "code",
   "execution_count": null,
   "metadata": {},
   "outputs": [],
   "source": [
    "## NOMBRES PRODUCTOS WORTEN"
   ]
  },
  {
   "cell_type": "code",
   "execution_count": null,
   "metadata": {},
   "outputs": [],
   "source": [
    "chrome_options = webdriver.ChromeOptions()\n",
    "chrome_options.add_extension(r'driver/Chollometro-Info-de-precios-alertas-y-más.crx')\n",
    "chrome_options.add_argument(r'user-data-dir=C:\\Users\\ferna\\Desktop\\IRONHACK\\Web Scraping\\your-code\\cookies')\n",
    "\n",
    "driver = webdriver.Chrome(ChromeDriverManager().install(), options=chrome_options)\n",
    "url = 'https://www.worten.es/ofertas-promociones/black-friday'\n",
    "\n",
    "\n",
    "driver.get(url)"
   ]
  },
  {
   "cell_type": "code",
   "execution_count": null,
   "metadata": {},
   "outputs": [],
   "source": [
    "div_elements = driver.find_elements(By.CSS_SELECTOR, 'div.product-card__name-and-features > h3 > span')"
   ]
  },
  {
   "cell_type": "code",
   "execution_count": null,
   "metadata": {},
   "outputs": [],
   "source": [
    "nombres = [div.text for div in div_elements]\n"
   ]
  },
  {
   "cell_type": "code",
   "execution_count": null,
   "metadata": {},
   "outputs": [],
   "source": [
    "df = pd.DataFrame(nombres)\n"
   ]
  },
  {
   "cell_type": "code",
   "execution_count": null,
   "metadata": {},
   "outputs": [],
   "source": [
    "df.replace('\"', '', regex=True, inplace=True)"
   ]
  },
  {
   "cell_type": "code",
   "execution_count": null,
   "metadata": {},
   "outputs": [],
   "source": [
    "product_ids = [57, 58, 69, 80, 91, 100, 101, 102, 103, 104, 59, 60, 61, 62, 63, 64, 65, 66, 67, 68, 70, 71, 71, 73, 74, 75, 76, 77, 78, 79, 81, 82, 83, 84, 85, 86, 87, 88, 89, 90, 92, 93, 94, 95, 96, 97, 98, 99]\n",
    "category_id = [3, 2, 4, 1, 5, 6, 8, 9, 11, 10, 7, 12, 13]\n",
    "df['product ID'] = product_ids\n",
    "df['category ID'] = category_id"
   ]
  },
  {
   "cell_type": "code",
   "execution_count": null,
   "metadata": {},
   "outputs": [],
   "source": [
    "df.to_csv(\"productos worten.csv\")"
   ]
  },
  {
   "cell_type": "code",
   "execution_count": null,
   "metadata": {},
   "outputs": [],
   "source": [
    "## NOMBRES PRODUCTOS MEDIAMARK"
   ]
  },
  {
   "cell_type": "code",
   "execution_count": 3,
   "metadata": {},
   "outputs": [
    {
     "name": "stderr",
     "output_type": "stream",
     "text": [
      "C:\\Users\\ferna\\AppData\\Local\\Temp\\ipykernel_6816\\4048181967.py:5: DeprecationWarning: executable_path has been deprecated, please pass in a Service object\n",
      "  driver = webdriver.Chrome(ChromeDriverManager().install(), options=chrome_options)\n"
     ]
    }
   ],
   "source": [
    "chrome_options = webdriver.ChromeOptions()\n",
    "chrome_options.add_extension(r'driver/Chollometro-Info-de-precios-alertas-y-más.crx')\n",
    "chrome_options.add_argument(r'user-data-dir=C:\\Users\\ferna\\Desktop\\IRONHACK\\Web Scraping\\your-code\\cookies')\n",
    "\n",
    "driver = webdriver.Chrome(ChromeDriverManager().install(), options=chrome_options)\n",
    "\n",
    "url = 'https://www.mediamarkt.es/es/campaign/black-friday#product-grid-1sIGwuniyotk1v7gh9ycOk'\n",
    "\n",
    "driver.get(url)"
   ]
  },
  {
   "cell_type": "code",
   "execution_count": 8,
   "metadata": {},
   "outputs": [],
   "source": [
    "##Nombres columna 1 mediamark\n",
    "div_elements = driver.find_elements(By.CSS_SELECTOR, 'div:nth-child(3) > div.sc-835d3f28-0.vQekK.sc-70352c54-6.bexQtG > div:nth-child(1) > a > div > div > div > div.sc-dff0cbb9-0.ivDpvq > div.sc-baeb2da0-0.gZhgnJ')"
   ]
  },
  {
   "cell_type": "code",
   "execution_count": 9,
   "metadata": {},
   "outputs": [
    {
     "data": {
      "text/plain": [
       "['Móvil - Samsung Galaxy S23 Ultra 5G, Botanic Green, 512GB, 12GB RAM, 6.8\" QHD+, Qualcomm Snapdragon 8, Gen 2 Octa-Core, 5000mAh, Android 13',\n",
       " 'Portátil - VivoBook 15 F1500EA-EJ3587W,15.6\" Full HD, Intel® Core™ i3-1115G4, 8GB RAM,256GB SSD, UHD, Windows 11 Home',\n",
       " 'Lavadora carga frontal - Bosch WGG254Z1ES, 10 Kg, 1400 rpm, 14 programas, SpeedPerfect, Blanco',\n",
       " 'TV LED 55\" - 55NANO756QC, UHD 4K, Procesador de Gran Potencia 4K α5 Gen 5, Smart TV, DVB-T2 (H.265), Azul oscuro ceniza',\n",
       " 'Freidora de aire - Moulinex Easy Fry & Grill XXL EZ801D, 6.5 L, Con Separador, Cocina 2 platos a la Vez, 1830 W, 220 °C, 16 funciones, Táctil, Inox.',\n",
       " 'Depiladora IPL - Philips Lumea S7000 BRI923/00, Luz pulsada, 12 meses sin vello, 3 cabezales, cara y cuerpo, 250.000 pulsos, 5 ajustes luz',\n",
       " 'Smartwatch - Samsung Watch 4 BT, 40 mm, 1.2\", Exynos W920, 16 GB, 240 mAh, IP68, Gold',\n",
       " 'Patinete eléctrico - Navee N65, Hasta 65 km, Doble freno, Luz delantera y trasera, Negro',\n",
       " 'AirPods Pro (2023 2ª gen), Conexión USB-C, Inalámbricos, Bluetooth®, Estuche de carga inalámbrica, Chip H2, Siri, Blanco',\n",
       " 'Reproductor multimedia - Chromecast con Google TV (4K), HDMI, Mando con control por voz, Nieve',\n",
       " 'Consola - Sony PlayStation 5 Standard, 825 GB, 4K, 1 mando, Chasis C + Call Of Duty: Modern Warfare 3 (código de descarga)',\n",
       " 'Mini Drone - MINI 3 PRO (DJI RC), 48 MP, Vídeo 4K, Hasta 35 min, Wi-fi, Bluetooth, Blanco',\n",
       " 'Pack de 2 Echo Show 5 (3.ª generación) Antracita - Pantalla táctil inteligente de 5.5”con Alexa']"
      ]
     },
     "execution_count": 9,
     "metadata": {},
     "output_type": "execute_result"
    }
   ],
   "source": [
    "nombres = [div.text for div in div_elements]\n",
    "nombres"
   ]
  },
  {
   "cell_type": "code",
   "execution_count": 11,
   "metadata": {},
   "outputs": [],
   "source": [
    "df = pd.DataFrame(nombres)\n"
   ]
  },
  {
   "cell_type": "code",
   "execution_count": 13,
   "metadata": {},
   "outputs": [],
   "source": [
    "df.replace('\"', '', regex=True, inplace=True)\n"
   ]
  },
  {
   "cell_type": "code",
   "execution_count": 18,
   "metadata": {},
   "outputs": [],
   "source": [
    "product_ids = [44, 45, 49, 50, 51, 52, 53, 54, 55, 56, 46, 47, 48]\n",
    "category_id = [3, 2, 4, 1, 5, 6, 8, 9, 11, 10, 7, 12, 13]\n",
    "df['product ID'] = product_ids\n",
    "df['category ID'] = category_id"
   ]
  },
  {
   "cell_type": "code",
   "execution_count": 19,
   "metadata": {},
   "outputs": [
    {
     "data": {
      "text/html": [
       "<div>\n",
       "<style scoped>\n",
       "    .dataframe tbody tr th:only-of-type {\n",
       "        vertical-align: middle;\n",
       "    }\n",
       "\n",
       "    .dataframe tbody tr th {\n",
       "        vertical-align: top;\n",
       "    }\n",
       "\n",
       "    .dataframe thead th {\n",
       "        text-align: right;\n",
       "    }\n",
       "</style>\n",
       "<table border=\"1\" class=\"dataframe\">\n",
       "  <thead>\n",
       "    <tr style=\"text-align: right;\">\n",
       "      <th></th>\n",
       "      <th>0</th>\n",
       "      <th>product ID</th>\n",
       "      <th>category ID</th>\n",
       "    </tr>\n",
       "  </thead>\n",
       "  <tbody>\n",
       "    <tr>\n",
       "      <th>0</th>\n",
       "      <td>Móvil - Samsung Galaxy S23 Ultra 5G, Botanic G...</td>\n",
       "      <td>44</td>\n",
       "      <td>3</td>\n",
       "    </tr>\n",
       "    <tr>\n",
       "      <th>1</th>\n",
       "      <td>Portátil - VivoBook 15 F1500EA-EJ3587W,15.6 Fu...</td>\n",
       "      <td>45</td>\n",
       "      <td>2</td>\n",
       "    </tr>\n",
       "    <tr>\n",
       "      <th>2</th>\n",
       "      <td>Lavadora carga frontal - Bosch WGG254Z1ES, 10 ...</td>\n",
       "      <td>49</td>\n",
       "      <td>4</td>\n",
       "    </tr>\n",
       "    <tr>\n",
       "      <th>3</th>\n",
       "      <td>TV LED 55 - 55NANO756QC, UHD 4K, Procesador de...</td>\n",
       "      <td>50</td>\n",
       "      <td>1</td>\n",
       "    </tr>\n",
       "    <tr>\n",
       "      <th>4</th>\n",
       "      <td>Freidora de aire - Moulinex Easy Fry &amp; Grill X...</td>\n",
       "      <td>51</td>\n",
       "      <td>5</td>\n",
       "    </tr>\n",
       "    <tr>\n",
       "      <th>5</th>\n",
       "      <td>Depiladora IPL - Philips Lumea S7000 BRI923/00...</td>\n",
       "      <td>52</td>\n",
       "      <td>6</td>\n",
       "    </tr>\n",
       "    <tr>\n",
       "      <th>6</th>\n",
       "      <td>Smartwatch - Samsung Watch 4 BT, 40 mm, 1.2, E...</td>\n",
       "      <td>53</td>\n",
       "      <td>8</td>\n",
       "    </tr>\n",
       "    <tr>\n",
       "      <th>7</th>\n",
       "      <td>Patinete eléctrico - Navee N65, Hasta 65 km, D...</td>\n",
       "      <td>54</td>\n",
       "      <td>9</td>\n",
       "    </tr>\n",
       "    <tr>\n",
       "      <th>8</th>\n",
       "      <td>AirPods Pro (2023 2ª gen), Conexión USB-C, Ina...</td>\n",
       "      <td>55</td>\n",
       "      <td>11</td>\n",
       "    </tr>\n",
       "    <tr>\n",
       "      <th>9</th>\n",
       "      <td>Reproductor multimedia - Chromecast con Google...</td>\n",
       "      <td>56</td>\n",
       "      <td>10</td>\n",
       "    </tr>\n",
       "    <tr>\n",
       "      <th>10</th>\n",
       "      <td>Consola - Sony PlayStation 5 Standard, 825 GB,...</td>\n",
       "      <td>46</td>\n",
       "      <td>7</td>\n",
       "    </tr>\n",
       "    <tr>\n",
       "      <th>11</th>\n",
       "      <td>Mini Drone - MINI 3 PRO (DJI RC), 48 MP, Vídeo...</td>\n",
       "      <td>47</td>\n",
       "      <td>12</td>\n",
       "    </tr>\n",
       "    <tr>\n",
       "      <th>12</th>\n",
       "      <td>Pack de 2 Echo Show 5 (3.ª generación) Antraci...</td>\n",
       "      <td>48</td>\n",
       "      <td>13</td>\n",
       "    </tr>\n",
       "  </tbody>\n",
       "</table>\n",
       "</div>"
      ],
      "text/plain": [
       "                                                    0  product ID  category ID\n",
       "0   Móvil - Samsung Galaxy S23 Ultra 5G, Botanic G...          44            3\n",
       "1   Portátil - VivoBook 15 F1500EA-EJ3587W,15.6 Fu...          45            2\n",
       "2   Lavadora carga frontal - Bosch WGG254Z1ES, 10 ...          49            4\n",
       "3   TV LED 55 - 55NANO756QC, UHD 4K, Procesador de...          50            1\n",
       "4   Freidora de aire - Moulinex Easy Fry & Grill X...          51            5\n",
       "5   Depiladora IPL - Philips Lumea S7000 BRI923/00...          52            6\n",
       "6   Smartwatch - Samsung Watch 4 BT, 40 mm, 1.2, E...          53            8\n",
       "7   Patinete eléctrico - Navee N65, Hasta 65 km, D...          54            9\n",
       "8   AirPods Pro (2023 2ª gen), Conexión USB-C, Ina...          55           11\n",
       "9   Reproductor multimedia - Chromecast con Google...          56           10\n",
       "10  Consola - Sony PlayStation 5 Standard, 825 GB,...          46            7\n",
       "11  Mini Drone - MINI 3 PRO (DJI RC), 48 MP, Vídeo...          47           12\n",
       "12  Pack de 2 Echo Show 5 (3.ª generación) Antraci...          48           13"
      ]
     },
     "execution_count": 19,
     "metadata": {},
     "output_type": "execute_result"
    }
   ],
   "source": [
    "df"
   ]
  },
  {
   "cell_type": "code",
   "execution_count": 20,
   "metadata": {},
   "outputs": [],
   "source": [
    "df.to_csv(\"productos_mediamark1.csv\")"
   ]
  },
  {
   "cell_type": "code",
   "execution_count": 38,
   "metadata": {},
   "outputs": [],
   "source": [
    "##Nombres columna 2 mediamark\n",
    "div_elements = driver.find_elements(By.CSS_SELECTOR, 'div:nth-child(3) > div.sc-835d3f28-0.vQekK.sc-70352c54-6.bexQtG > div:nth-child(2) > a > div > div > div > div.sc-dff0cbb9-0.ivDpvq > div.sc-baeb2da0-0.gZhgnJ')"
   ]
  },
  {
   "cell_type": "code",
   "execution_count": 39,
   "metadata": {},
   "outputs": [
    {
     "data": {
      "text/plain": [
       "['Móvil - Google Pixel 7a, Carbón, 128 GB, 8 GB RAM, 6.1 \" OLED Full HD+, Google Tensor G2, 4.385 mAh, Android',\n",
       " 'Tablet - Samsung Galaxy Tab A8, 64 GB eMMC, Gris Oscuro, WiFi, 10.5\" WUXGA, 4 GB RAM, Unisoc T618, Android 11',\n",
       " 'Frigorífico combi - Balay 3KFD765BI Cristal, No Frost, 203 cm, 368 l, Cajón ExtraFresh, Iluminación LED, Blanco',\n",
       " 'TV Neo QLED 65\" - Samsung TQ65QN90CATXXC, UHD 4K, Smart TV, Quantum Matrix, Dolby Atmos, Smart Hub, Plataforma NTF, Carbón Silver',\n",
       " 'Cafetera superautomática - Krups Roma EA81K870, 1450 W, 15 bar, 1.7 L, 3 temperaturas, 2 tazas, Sistema Thermoblock, Kit de limpieza incluido, Negro',\n",
       " 'Moldeador - Cecotec Bamba CeramicCare AirGlam W, Tecnología iónica, 8 en 1, 3 velocidades, 3 temperaturas, 8 accesorios, Coanda, Cerámico, White Gold',\n",
       " 'Smartwatch - Amazfit GTS 4 Mini, 1.65\" FHD AMOLED, 135 - 190 mm, 5 ATM, Bluetooth 5.2, 15 días, Mint Blue',\n",
       " 'Patinete eléctrico - Smartgyro Rockway Pro C, 1000 W, Capacidad máxima 75 kg, 15.000 mAh, Hasta 25 km/h, Negro',\n",
       " 'Barra de sonido - Samsung HW-Q930C/ZF, Bluetooth, Dolby Atmos inalámbrico, 42W, 9.1.4 canales, Compatible con asistentes de voz, WiFi, Negro',\n",
       " 'Repetidor WiFi - TP-Link RE450 Doble Banda , 3 antenas, MU-MIMO, Ethernet Gigabit, WPS, AC1750',\n",
       " \"PS5 Marvel's Spiderman 2\",\n",
       " 'Cámara deportiva - GoPro Hero 11 Black, Sin funda, 5.3K, 24.7 MP, SuperFoto, HDR, HyperSmooth 5.0, Slo-Mo x8, Negro',\n",
       " 'Cámara de vigilancia IP - Xiaomi Smart Camera C200, Full HD, 360 grados de visión, Blanco']"
      ]
     },
     "execution_count": 39,
     "metadata": {},
     "output_type": "execute_result"
    }
   ],
   "source": [
    "nombres = [div.text for div in div_elements]\n",
    "nombres"
   ]
  },
  {
   "cell_type": "code",
   "execution_count": 40,
   "metadata": {},
   "outputs": [],
   "source": [
    "df = pd.DataFrame(nombres)"
   ]
  },
  {
   "cell_type": "code",
   "execution_count": 41,
   "metadata": {},
   "outputs": [],
   "source": [
    "df.replace('\"', '', regex=True, inplace=True)"
   ]
  },
  {
   "cell_type": "code",
   "execution_count": 42,
   "metadata": {},
   "outputs": [],
   "source": [
    "product_ids = [5, 6, 10, 11, 12, 13, 14, 15, 16, 17, 7, 8, 9]\n",
    "category_id = [3, 2, 4, 1, 5, 6, 8, 9, 11, 10, 7, 12, 13]\n",
    "df['product ID'] = product_ids\n",
    "df['category ID'] = category_id"
   ]
  },
  {
   "cell_type": "code",
   "execution_count": 43,
   "metadata": {},
   "outputs": [],
   "source": [
    "df.to_csv(\"productos_mediamark2.csv\")"
   ]
  },
  {
   "cell_type": "code",
   "execution_count": 27,
   "metadata": {},
   "outputs": [],
   "source": [
    "##Nombres columna 3 mediamark\n",
    "\n",
    "div_elements = driver.find_elements(By.CSS_SELECTOR, 'div:nth-child(3) > div.sc-835d3f28-0.vQekK.sc-70352c54-6.bexQtG > div:nth-child(3) > a > div > div > div > div.sc-dff0cbb9-0.ivDpvq > div.sc-baeb2da0-0.gZhgnJ')"
   ]
  },
  {
   "cell_type": "code",
   "execution_count": 28,
   "metadata": {},
   "outputs": [
    {
     "data": {
      "text/plain": [
       "['Móvil - Xiaomi Redmi Note 12 Pro 5G, Azul, 256 GB, 8 GB RAM, 6.67\" AMOLED FHD+ 120Hz, MediaTek Dimensity 1080 2,6 Ghz, 5000 mAh, Android',\n",
       " 'Portátil - Lenovo IdeaPad 1 15ALC7, 15.6\" FullHD, AMD Ryzen™ 5 5500U, 16GB RAM, 512GB SSD, Radeon™ Onboard Graphics, Windows 11 Home',\n",
       " 'Lavavajillas - DF455HSS con Vapor, 14 servicios, 10 programas, 60 cm,LED táctil, Tercera bandeja, Truesteam™, QuadWash™, Acero antihuellas',\n",
       " 'TV OLED 77\" - OLED77C35LA, OLED 4K, Inteligente α9 4K Gen6, Smart TV, DVB-T2 (H.265), Negro',\n",
       " 'Centro de planchado - Philips PSG6022/20, 2400 W, Depósito de 1,8 L, 6.5 bares, SteamGlide Plus, Blanco/Azul',\n",
       " 'Secador - Dyson Supersonic™ Origin, 1600 W, 3 Velocidades, Incluye Boquilla concentradora, Negro/ Níquel',\n",
       " 'Smartwatch - Samsung Galaxy Watch6 BT 44mm, 1.47\", Exynos W930, 16GB, 2GB RAM, 425mAh, Grafito',\n",
       " 'Bicicleta eléctrica - Youin You Ride Texas, 250 W, 25km/h, 20 \", Suspensión frontal, Pantalla LCD, Negro',\n",
       " 'Auriculares inalámbricos - Sony WH-CH720NB, Cancelación ruido (Noise Cancelling), 35h, Carga Rápida, Con Asistente, Bluetooth, De Diadema, ANC, Negro',\n",
       " 'Disco duro SSD interno 1TB - WD_Black SN850 NVMe SSD para consolas PS5™, Con licencia oficial, 7000MB/s, Negro',\n",
       " 'PS5 Grand Theft Auto V',\n",
       " 'Cámara EVIL - Canon EOS M50 Mark II 15-45, Con objetivo EF-M 15-45 mm IS STM, 24.1 MP, 4K, Montura EF-M, Negro',\n",
       " 'Cámara de seguridad - Ezviz TY1 4MP, WQHD 2560 x 1440, WiFi, Visión nocturna, Two-way audio, Interior, Blanco']"
      ]
     },
     "execution_count": 28,
     "metadata": {},
     "output_type": "execute_result"
    }
   ],
   "source": [
    "nombres = [div.text for div in div_elements]\n",
    "nombres"
   ]
  },
  {
   "cell_type": "code",
   "execution_count": 29,
   "metadata": {},
   "outputs": [],
   "source": [
    "df = pd.DataFrame(nombres)"
   ]
  },
  {
   "cell_type": "code",
   "execution_count": 30,
   "metadata": {},
   "outputs": [],
   "source": [
    "df.replace('\"', '', regex=True, inplace=True)"
   ]
  },
  {
   "cell_type": "code",
   "execution_count": 31,
   "metadata": {},
   "outputs": [],
   "source": [
    "product_ids = [18, 19, 23, 24, 25, 26, 27, 28, 29, 30, 20, 21, 22]\n",
    "category_id = [3, 2, 4, 1, 5, 6, 8, 9, 11, 10, 7, 12, 13]\n",
    "df['product ID'] = product_ids\n",
    "df['category ID'] = category_id"
   ]
  },
  {
   "cell_type": "code",
   "execution_count": 32,
   "metadata": {},
   "outputs": [],
   "source": [
    "df.to_csv(\"productos_mediamark3.csv\")"
   ]
  },
  {
   "cell_type": "code",
   "execution_count": 33,
   "metadata": {},
   "outputs": [],
   "source": [
    "##Nombres columna 4 mediamark\n",
    "div_elements = driver.find_elements(By.CSS_SELECTOR, 'div:nth-child(3) > div.sc-835d3f28-0.vQekK.sc-70352c54-6.bexQtG > div:nth-child(4) > a > div > div > div > div.sc-dff0cbb9-0.ivDpvq > div.sc-baeb2da0-0.gZhgnJ')"
   ]
  },
  {
   "cell_type": "code",
   "execution_count": 34,
   "metadata": {},
   "outputs": [
    {
     "data": {
      "text/plain": [
       "['iPhone 14, Blanco estrella, 128 GB, 5G, 6.1\" OLED Super Retina XDR, Chip A15 Bionic, iOS',\n",
       " 'All in one - 24-cb1005ns, 23.8\" Full HD, Intel® Core™ i3-1215U, 8GB RAM, 512GB SSD, W11 H, Blanco',\n",
       " 'Placa inducción - Balay 3EB967FRE, 3 zonas, 32 cm, Negro',\n",
       " 'TV LED 50\" - Xiaomi TV A2, UHD 4K, Smart TV, HDR10, Dolby Vision, Dolby Audio™, DTS-HD®, Inmersive Limitless Unibody, Negro',\n",
       " 'Aspirador escoba - Dyson v11™ Fluffy, Potencia 185 W, Incluye accesorios, Autonomía 60 min, Plata',\n",
       " 'Afeitadora - Braun Series 5 51-R1200s, 3 Cuchillas, Afeitadora eléctrica para barba, EasyClean, Wet & Dry, Rojo',\n",
       " 'Apple Watch Series 9 (2023), GPS, 41 mm, Gesto de doble toque, Caja de aluminio blanco estrella, Correa deportiva blanco estrella, Talla S/M',\n",
       " 'Patinete eléctrico - Xiaomi Electric Scooter 4, Vel. 25 km/hm, Autonomía 35 km, Batería 7650mAh, Pantalla, Bluetooth, Negro',\n",
       " 'Altavoz de gran potencia - Vieta Pro Party 2, 100W, Hasta 9hs, Efecto de luces, FM, Karoake, Negro',\n",
       " 'Auriculares gaming - Razer Barracuda X, Micrófono extraíble, Cancelación de ruido pasiva, Bluetooth 5.2, Negro',\n",
       " 'Nintendo Switch Sonic Superstars',\n",
       " 'Cámara Bridge - Panasonic Lumix FZ300, 26-600 mm f/2.8, Vídeo en 4K, Wi-Fi, Negro',\n",
       " 'Cámara de vigilancia IP - TP-Link Tapo C320WS, 2K QHD, Sensor Nocturno, IP66, Control por voz, Blanco']"
      ]
     },
     "execution_count": 34,
     "metadata": {},
     "output_type": "execute_result"
    }
   ],
   "source": [
    "nombres = [div.text for div in div_elements]\n",
    "nombres"
   ]
  },
  {
   "cell_type": "code",
   "execution_count": 35,
   "metadata": {},
   "outputs": [],
   "source": [
    "df = pd.DataFrame(nombres)"
   ]
  },
  {
   "cell_type": "code",
   "execution_count": 36,
   "metadata": {},
   "outputs": [],
   "source": [
    "product_ids = [31, 32, 36, 37, 38, 39, 40, 41, 42, 43, 33, 34, 35]\n",
    "category_id = [3, 2, 4, 1, 5, 6, 8, 9, 11, 10, 7, 12, 13]\n",
    "df['product ID'] = product_ids\n",
    "df['category ID'] = category_id"
   ]
  },
  {
   "cell_type": "code",
   "execution_count": 37,
   "metadata": {},
   "outputs": [],
   "source": [
    "df.to_csv(\"productos_mediamark4.csv\")"
   ]
  },
  {
   "cell_type": "code",
   "execution_count": null,
   "metadata": {},
   "outputs": [],
   "source": [
    "## JUNTAR LOS TRES EN UNO"
   ]
  },
  {
   "cell_type": "code",
   "execution_count": null,
   "metadata": {},
   "outputs": [],
   "source": [
    "archivos = ['productos_amazon.csv', 'productos_worten.csv', 'productos_amazon.csv']\n",
    "dataframes = []\n",
    "\n",
    "for archivo in archivos:\n",
    "    df = pd.read_csv(archivo)\n",
    "    dataframes.append(df)\n",
    "\n",
    "resultado = pd.concat(dataframes, ignore_index=True)\n",
    "\n",
    "resultado.to_csv('productos.csv', index=False)\n",
    "\n"
   ]
  }
 ],
 "metadata": {
  "kernelspec": {
   "display_name": "Python 3",
   "language": "python",
   "name": "python3"
  },
  "language_info": {
   "codemirror_mode": {
    "name": "ipython",
    "version": 3
   },
   "file_extension": ".py",
   "mimetype": "text/x-python",
   "name": "python",
   "nbconvert_exporter": "python",
   "pygments_lexer": "ipython3",
   "version": "3.11.6"
  }
 },
 "nbformat": 4,
 "nbformat_minor": 2
}
