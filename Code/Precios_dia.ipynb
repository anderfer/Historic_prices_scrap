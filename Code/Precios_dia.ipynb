{
 "cells": [
  {
   "cell_type": "code",
   "execution_count": 1,
   "metadata": {},
   "outputs": [],
   "source": [
    "import pandas as pd"
   ]
  },
  {
   "cell_type": "code",
   "execution_count": null,
   "metadata": {},
   "outputs": [],
   "source": [
    "## COIDOG SIN TERMINAR/ PROBANDO COSAS"
   ]
  },
  {
   "cell_type": "code",
   "execution_count": 58,
   "metadata": {},
   "outputs": [],
   "source": [
    "mediamarkt = pd.read_csv(\"../data/CSV/extracciones_mediamarkt.csv\", index_col=None)"
   ]
  },
  {
   "cell_type": "code",
   "execution_count": 59,
   "metadata": {},
   "outputs": [],
   "source": [
    "mediamarkt['Fecha'] = pd.to_datetime(mediamarkt['Fecha'])"
   ]
  },
  {
   "cell_type": "code",
   "execution_count": 70,
   "metadata": {},
   "outputs": [],
   "source": [
    "worten = pd.read_csv(\"../data/CSV/extracciones_worten.csv\", index_col=None)"
   ]
  },
  {
   "cell_type": "code",
   "execution_count": 71,
   "metadata": {},
   "outputs": [],
   "source": [
    "worten['Fecha'] = pd.to_datetime(worten['Fecha'])"
   ]
  },
  {
   "cell_type": "code",
   "execution_count": 89,
   "metadata": {},
   "outputs": [],
   "source": [
    "amazon = pd.read_csv(\"../data/CSV/extracciones_amazon.csv\", index_col=None)"
   ]
  },
  {
   "cell_type": "code",
   "execution_count": 90,
   "metadata": {},
   "outputs": [],
   "source": [
    "amazon['Fecha'] = pd.to_datetime(amazon['Fecha'])"
   ]
  },
  {
   "cell_type": "code",
   "execution_count": 91,
   "metadata": {},
   "outputs": [
    {
     "data": {
      "text/plain": [
       "Unnamed: 0               int64\n",
       "Product ID               int64\n",
       "N_Extraccion            object\n",
       "Fecha           datetime64[ns]\n",
       "Precio                 float64\n",
       "Shop_id                  int64\n",
       "product_url             object\n",
       "dtype: object"
      ]
     },
     "execution_count": 91,
     "metadata": {},
     "output_type": "execute_result"
    }
   ],
   "source": [
    "amazon.dtypes"
   ]
  },
  {
   "cell_type": "code",
   "execution_count": 92,
   "metadata": {},
   "outputs": [
    {
     "data": {
      "text/plain": [
       "Unnamed: 0              object\n",
       "Product ID               int64\n",
       "N_Extraccion            object\n",
       "Fecha           datetime64[ns]\n",
       "Precio                 float64\n",
       "Shop_id                  int64\n",
       "product_url             object\n",
       "dtype: object"
      ]
     },
     "execution_count": 92,
     "metadata": {},
     "output_type": "execute_result"
    }
   ],
   "source": [
    "worten.dtypes"
   ]
  },
  {
   "cell_type": "code",
   "execution_count": 97,
   "metadata": {},
   "outputs": [
    {
     "data": {
      "text/plain": [
       "array([ 65,  68,  70,  98,   8,   1,   2, 102, 100,  96,  95,  94,  92,\n",
       "        91,  84,  83,  82,  67,  47,  45,  28,  19,  15,  12,  11,  10,\n",
       "         9,   6,   4,   3,  93,  80,  79,  69,  66,  57,  48,  46,  32,\n",
       "        20,  14,  13,   7,   5,  62,  61,  60,  59,  58,  56,  55,  54,\n",
       "        64,  86, 103, 104, 101,  90,  89,  88,  85,  78,  77,  76,  75,\n",
       "        74,  73,  72,  71,  63,  53,  52,  51,  50,  49,  44,  43,  42,\n",
       "        41,  40,  39,  38,  37,  36,  35,  34,  33,  31,  30,  29,  27,\n",
       "        26,  25,  24,  23,  22,  21,  18,  17,  16], dtype=int64)"
      ]
     },
     "execution_count": 97,
     "metadata": {},
     "output_type": "execute_result"
    }
   ],
   "source": [
    "mediamarkt['Product ID'].unique()"
   ]
  },
  {
   "cell_type": "code",
   "execution_count": 93,
   "metadata": {},
   "outputs": [],
   "source": [
    "productos = pd.read_csv('../data/CSV/productos.csv')"
   ]
  },
  {
   "cell_type": "code",
   "execution_count": 94,
   "metadata": {},
   "outputs": [
    {
     "data": {
      "text/plain": [
       "product ID       int64\n",
       "Nombre          object\n",
       "category ID    float64\n",
       "brand_id       float64\n",
       "dtype: object"
      ]
     },
     "execution_count": 94,
     "metadata": {},
     "output_type": "execute_result"
    }
   ],
   "source": [
    "productos.dtypes"
   ]
  },
  {
   "cell_type": "code",
   "execution_count": 95,
   "metadata": {},
   "outputs": [],
   "source": [
    "marcas = pd.read_csv('../data/CSV/marcas.csv')"
   ]
  },
  {
   "cell_type": "code",
   "execution_count": 96,
   "metadata": {},
   "outputs": [
    {
     "data": {
      "text/plain": [
       "brand       object\n",
       "brand_id     int64\n",
       "dtype: object"
      ]
     },
     "execution_count": 96,
     "metadata": {},
     "output_type": "execute_result"
    }
   ],
   "source": [
    "marcas.dtypes"
   ]
  }
 ],
 "metadata": {
  "kernelspec": {
   "display_name": "Python 3",
   "language": "python",
   "name": "python3"
  },
  "language_info": {
   "codemirror_mode": {
    "name": "ipython",
    "version": 3
   },
   "file_extension": ".py",
   "mimetype": "text/x-python",
   "name": "python",
   "nbconvert_exporter": "python",
   "pygments_lexer": "ipython3",
   "version": "3.11.6"
  }
 },
 "nbformat": 4,
 "nbformat_minor": 2
}
