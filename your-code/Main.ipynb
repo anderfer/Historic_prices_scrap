{
 "cells": [
  {
   "cell_type": "code",
   "execution_count": 1,
   "metadata": {},
   "outputs": [],
   "source": [
    "from selenium import webdriver\n",
    "from selenium.webdriver.common.action_chains import ActionChains\n",
    "from selenium.webdriver.common.by import By\n",
    "from selenium import webdriver\n",
    "from selenium.webdriver.common.action_chains import ActionChains\n",
    "import io\n",
    "import json\n",
    "import time\n",
    "from io import BytesIO\n",
    "import pytesseract\n",
    "from PIL import Image\n"
   ]
  },
  {
   "cell_type": "code",
   "execution_count": null,
   "metadata": {},
   "outputs": [],
   "source": [
    "#%pip install selenium==4.7.2"
   ]
  },
  {
   "cell_type": "code",
   "execution_count": null,
   "metadata": {},
   "outputs": [],
   "source": [
    "path = r\"C:\\Users\\ferna\\Desktop\\IRONHACK\\Web Scraping\\your-code\\driver\\chromedriver.exe\""
   ]
  },
  {
   "cell_type": "code",
   "execution_count": null,
   "metadata": {},
   "outputs": [],
   "source": [
    "\n",
    "chrome_options = webdriver.ChromeOptions()\n",
    "chrome_options.add_extension(r'driver/Chollometro-Info-de-precios-alertas-y-más.crx')\n",
    "chrome_options.add_argument(r'user-data-dir=C:\\Users\\ferna\\Desktop\\IRONHACK\\Web Scraping\\your-code\\cookies') \n"
   ]
  },
  {
   "cell_type": "code",
   "execution_count": null,
   "metadata": {},
   "outputs": [],
   "source": [
    "driver = webdriver.Chrome(executable_path=path, options=chrome_options)\n",
    "url = 'https://www.mediamarkt.es/es/campaign/black-friday#product-grid-1sIGwuniyotk1v7gh9ycOk'\n",
    "driver.get(url)"
   ]
  },
  {
   "cell_type": "code",
   "execution_count": null,
   "metadata": {},
   "outputs": [],
   "source": [
    "tv = driver.find_element(By.CSS_SELECTOR, '#product-grid-1sIGwuniyotk1v7gh9ycOk > div:nth-child(3) > div.sc-835d3f28-0.vQekK.sc-70352c54-6.bexQtG > div:nth-child(1) > a > div > div > div > div.sc-dff0cbb9-0.ivDpvq > div.sc-baeb2da0-0.gZhgnJ > p')\n",
    "tv.click()"
   ]
  },
  {
   "cell_type": "code",
   "execution_count": null,
   "metadata": {},
   "outputs": [],
   "source": [
    "extension = driver.find_element(By.CSS_SELECTOR, '#assistant')"
   ]
  },
  {
   "cell_type": "code",
   "execution_count": null,
   "metadata": {},
   "outputs": [],
   "source": [
    "shadow_root = driver.execute_script('return arguments[0].shadowRoot', extension)\n",
    "\n",
    "shadow_root "
   ]
  },
  {
   "cell_type": "code",
   "execution_count": null,
   "metadata": {},
   "outputs": [],
   "source": [
    "shadow_root.find_elements(By.CSS_SELECTOR, '#react-node-wrapper > div > div > div > div')[0].click()"
   ]
  },
  {
   "cell_type": "code",
   "execution_count": null,
   "metadata": {},
   "outputs": [],
   "source": [
    "shadow_root.find_elements(By.CSS_SELECTOR, '#react-node-wrapper > div > div > div > div > div._iconContainer_1rkzr_20 > div._container_6oko0_1.productStats > div._icon_6oko0_18')[0].click()\n"
   ]
  },
  {
   "cell_type": "code",
   "execution_count": null,
   "metadata": {},
   "outputs": [],
   "source": [
    "element_to_hover_over = shadow_root.find_element(By.CSS_SELECTOR, 'div > div > div > div._container_14c2v_1 > div._content_14c2v_69 > div > div._graphWrapper_15sxl_7 > div > div:nth-child(2) > div:nth-child(1) > svg > g:nth-child(2) > g > path:nth-child(2)')\n",
    "element_to_hover_over\n"
   ]
  },
  {
   "cell_type": "code",
   "execution_count": null,
   "metadata": {},
   "outputs": [],
   "source": [
    "action = ActionChains(driver)\n",
    "action.move_to_element(element_to_hover_over).perform()\n",
    "time.sleep(5)"
   ]
  },
  {
   "cell_type": "code",
   "execution_count": null,
   "metadata": {},
   "outputs": [],
   "source": [
    "screenshot = driver.get_screenshot_as_png()\n",
    "x, y, width, height = (50, 350, 800, 100)\n",
    "image = Image.open(BytesIO(screenshot))\n",
    "window_screenshot = image.crop((x, y, x + width, y + height))\n",
    "window_screenshot.save(\"ventana_flotante.png\")"
   ]
  },
  {
   "cell_type": "code",
   "execution_count": 4,
   "metadata": {},
   "outputs": [],
   "source": [
    "pytesseract.pytesseract.tesseract_cmd = r'C:\\Archivos de programa\\Tesseract-OCR\\tesseract.exe'"
   ]
  },
  {
   "cell_type": "code",
   "execution_count": 5,
   "metadata": {},
   "outputs": [],
   "source": [
    "image = Image.open(\"ventana_flotante.png\")\n",
    "texto_extraido = pytesseract.image_to_string(image)\n",
    "\n",
    "\n"
   ]
  },
  {
   "cell_type": "code",
   "execution_count": 6,
   "metadata": {},
   "outputs": [
    {
     "data": {
      "text/plain": [
       "'1,000€\\n\\n__—_~* &\\n| @ MEDIAMARKT u u u\\n500€ | 2023/08/03 20:10:10\\n| 1379.00€\\n\\n&Chollometro\\n'"
      ]
     },
     "execution_count": 6,
     "metadata": {},
     "output_type": "execute_result"
    }
   ],
   "source": [
    "texto_extraido"
   ]
  },
  {
   "cell_type": "code",
   "execution_count": null,
   "metadata": {},
   "outputs": [],
   "source": []
  },
  {
   "cell_type": "code",
   "execution_count": null,
   "metadata": {},
   "outputs": [],
   "source": []
  },
  {
   "cell_type": "code",
   "execution_count": null,
   "metadata": {},
   "outputs": [],
   "source": []
  }
 ],
 "metadata": {
  "kernelspec": {
   "display_name": "Python 3 (ipykernel)",
   "language": "python",
   "name": "python3"
  },
  "language_info": {
   "codemirror_mode": {
    "name": "ipython",
    "version": 3
   },
   "file_extension": ".py",
   "mimetype": "text/x-python",
   "name": "python",
   "nbconvert_exporter": "python",
   "pygments_lexer": "ipython3",
   "version": "3.11.6"
  }
 },
 "nbformat": 4,
 "nbformat_minor": 5
}
