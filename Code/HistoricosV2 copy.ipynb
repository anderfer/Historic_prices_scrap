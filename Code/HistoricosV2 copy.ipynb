{
 "cells": [
  {
   "cell_type": "code",
   "execution_count": 1,
   "metadata": {},
   "outputs": [],
   "source": [
    "from selenium import webdriver\n",
    "from selenium.webdriver.common.by import By\n",
    "from selenium.webdriver.common.keys import Keys\n",
    "from webdriver_manager.chrome import ChromeDriverManager\n",
    "from selenium.webdriver.common.action_chains import ActionChains\n",
    "from selenium.common.exceptions import NoSuchElementException\n",
    "from PIL import Image\n",
    "from io import BytesIO\n",
    "import pytesseract\n",
    "import pyautogui\n",
    "import csv\n",
    "import os\n",
    "import time\n",
    "import re\n",
    "import pandas as pd\n",
    "import easyocr\n",
    "pytesseract.pytesseract.tesseract_cmd = r'C:\\Archivos de programa\\Tesseract-OCR\\tesseract.exe'\n",
    "path = r\"C:\\Users\\ferna\\Desktop\\IRONHACK\\Web Scraping\\your-code\\driver\\chromedriver.exe\"\n",
    "\n",
    "chrome_options = webdriver.ChromeOptions()\n",
    "chrome_options.add_extension(r'driver/Chollometro-Info-de-precios-alertas-y-más.crx')\n",
    "chrome_options.add_argument(r'user-data-dir=C:\\Users\\ferna\\Desktop\\IRONHACK\\Web Scraping\\your-code\\cookies') \n",
    "chrome_options.add_argument('--start-maximized')\n"
   ]
  },
  {
   "cell_type": "code",
   "execution_count": null,
   "metadata": {},
   "outputs": [],
   "source": [
    "## USANDO LOS URL SACADOS ANTERIORMENTE SE PRUEBA UN NUEVO METODO DE OCR"
   ]
  },
  {
   "cell_type": "code",
   "execution_count": 25,
   "metadata": {},
   "outputs": [
    {
     "ename": "TypeError",
     "evalue": "object of type 'WebElement' has no len()",
     "output_type": "error",
     "traceback": [
      "\u001b[1;31m---------------------------------------------------------------------------\u001b[0m",
      "\u001b[1;31mTypeError\u001b[0m                                 Traceback (most recent call last)",
      "\u001b[1;32mc:\\Users\\ferna\\Desktop\\IRONHACK\\Historic_prices_scrap\\Code\\HistoricosV2.ipynb Cell 5\u001b[0m line \u001b[0;36m1\n\u001b[1;32m----> <a href='vscode-notebook-cell:/c%3A/Users/ferna/Desktop/IRONHACK/Historic_prices_scrap/Code/HistoricosV2.ipynb#X10sZmlsZQ%3D%3D?line=0'>1</a>\u001b[0m \u001b[39mlen\u001b[39;49m(wishlist)\n",
      "\u001b[1;31mTypeError\u001b[0m: object of type 'WebElement' has no len()"
     ]
    }
   ],
   "source": [
    "product_ids = [64, 65, 68, 70, 86, 98, 8, 1, 2, 4, 3, 103, 104, 102, 101, 100, 96, 95, 94, 93, 92, 91, 90, 89, 88, 85, 84, 83, 82, 80, 79, 78, 77, 76, 75, 74, 73, 72, 71, 69, 67, 66, 63, 62, 61, 60, 59, 58, 57, 56, 55, 54, 53, 52, 51, 50, 49, 48, 47, 46, 45, 44, 43, 42, 41, 40, 39,38,37,36,35,34,33,32,31,30,29,28,27,26,25,24,23,22,21,20,19,18,17,16,15,14,13,12,11,10,9,7,6,5]"
   ]
  },
  {
   "cell_type": "code",
   "execution_count": 55,
   "metadata": {},
   "outputs": [],
   "source": [
    "## DIRECTO DESDE URL\n",
    "\n",
    "df = pd.read_csv('urls_mediamarkt')"
   ]
  },
  {
   "cell_type": "code",
   "execution_count": 60,
   "metadata": {},
   "outputs": [
    {
     "name": "stderr",
     "output_type": "stream",
     "text": [
      "Neither CUDA nor MPS are available - defaulting to CPU. Note: This module is much faster with a GPU.\n"
     ]
    },
    {
     "name": "stderr",
     "output_type": "stream",
     "text": [
      "C:\\Users\\ferna\\AppData\\Local\\Temp\\ipykernel_14428\\215627852.py:11: DeprecationWarning: executable_path has been deprecated, please pass in a Service object\n",
      "  driver = webdriver.Chrome(ChromeDriverManager().install(), options=chrome_options)\n"
     ]
    }
   ],
   "source": [
    "urls = df['product_url']\n",
    "\n",
    "num_capturas = 374  \n",
    "\n",
    "reader = easyocr.Reader(['en'])\n",
    "\n",
    "\n",
    "product_ids = df['Product ID']\n",
    "\n",
    "for i in range(len(urls)):\n",
    "    driver = webdriver.Chrome(ChromeDriverManager().install(), options=chrome_options)\n",
    "    driver.get(urls[i])\n",
    "    \n",
    "    try:\n",
    "        extension = driver.find_element(By.CSS_SELECTOR, '#assistant')\n",
    "        shadow_root = driver.execute_script('return arguments[0].shadowRoot', extension)\n",
    "\n",
    "        time.sleep(4)\n",
    "        shadow_root.find_elements(By.CSS_SELECTOR, 'div > div > div > div > div._logoContainer_1rkzr_42._opacity-100_1rkzr_52 > svg > path:nth-child(1)')[0].click()\n",
    "        time.sleep(2)\n",
    "        shadow_root.find_elements(By.CSS_SELECTOR, 'div > div > div > div > div._iconContainer_1rkzr_20 > div._container_6oko0_1.productStats > div._icon_6oko0_18 > svg')[0].click()\n",
    "    except IndexError:\n",
    "        print(\"La extensión no fue encontrada. Regresando a la pantalla anterior.\")\n",
    "        driver.back()\n",
    "\n",
    "    # Vuelve a intentar encontrar la extensión después de retroceder\n",
    "        try:\n",
    "            extension = driver.find_element(By.CSS_SELECTOR, '#assistant')\n",
    "            shadow_root = driver.execute_script('return arguments[0].shadowRoot', extension)\n",
    "\n",
    "            time.sleep(4)\n",
    "            shadow_root.find_elements(By.CSS_SELECTOR, 'div > div > div > div > div._logoContainer_1rkzr_42._opacity-100_1rkzr_52 > svg > path:nth-child(1)')[0].click()\n",
    "            time.sleep(2)\n",
    "            shadow_root.find_elements(By.CSS_SELECTOR, 'div > div > div > div > div._iconContainer_1rkzr_20 > div._container_6oko0_1.productStats > div._icon_6oko0_18 > svg')[0].click()\n",
    "        \n",
    "        except IndexError:\n",
    "            print(\"La extensión sigue sin encontrarse. Revisa el flujo del programa.\")\n",
    "\n",
    "    x_inicial = 112\n",
    "    y_inicial = 495\n",
    "\n",
    "    with open(f'extracciones_mediamarkt6.csv', 'a', newline='') as csvfile:\n",
    "        csv_writer = csv.writer(csvfile)\n",
    "        product_id = product_ids[i]\n",
    "        product_url = urls[i]\n",
    "        shop_id = 1\n",
    "        # Añadir una columna \"Product ID\"\n",
    "        csv_writer.writerow(['Product ID', 'N_Extracción', 'Fecha', 'Precio', 'Shop_id', 'product_url', 'texto_entreno'])  # Encabezado del CSV\n",
    "\n",
    "        for j in range(num_capturas):\n",
    "            # Definir las coordenadas de recorte (a, b, width, height)\n",
    "            a, b, width, height = (110, 370, 750, 48)\n",
    "\n",
    "            # Mueve el ratón a la nueva posición\n",
    "            pyautogui.moveTo(x_inicial, y_inicial)\n",
    "            ##time.sleep(0.5)\n",
    "            # Toma una captura de pantalla\n",
    "            screenshot = driver.get_screenshot_as_png()\n",
    "            image = Image.open(BytesIO(screenshot))\n",
    "\n",
    "            # Recorta la imagen y guárdala con un número distinto cada vez\n",
    "            image_cortada = image.crop((a, b, a + width, b + height))\n",
    "            image_cortada.save(f\"ventana_flotante_{i}_{j}.png\")\n",
    "\n",
    "            texto_extraído = reader.readtext(f\"ventana_flotante_{i}_{j}.png\")\n",
    "\n",
    "            fecha = \"0\"\n",
    "            precio = 0.0\n",
    "\n",
    "            try:\n",
    "    # Intentar extraer la fecha\n",
    "                fecha = texto_extraído[0][1].replace('.', ':')  # Formatear la fecha si es necesario\n",
    "\n",
    "    # Intentar extraer el precio y formatearlo\n",
    "                precio_str = texto_extraído[1][1].split(' ')[0]  # Eliminar el símbolo de euro\n",
    "                precio = precio_str.replace(',', '.')  # Convertir ',' a '.' y redondear a dos decimales\n",
    "\n",
    "            except IndexError:\n",
    "    # Manejar la excepción si hay un error de índice\n",
    "                fecha = \"0\"\n",
    "                precio = 0.0\n",
    "            \n",
    "\n",
    "            csv_writer.writerow([product_id, f\"Extracción {j}\", fecha, precio, shop_id, product_url, texto_extraído])\n",
    "\n",
    "            os.remove(f\"ventana_flotante_{i}_{j}.png\")\n",
    "\n",
    "            x_inicial += 1.95\n",
    "\n",
    "\n",
    "    driver.quit()\n",
    "\n",
    "# Cierra el navegador al final de todas las repeticiones\n",
    "driver.quit()"
   ]
  },
  {
   "cell_type": "code",
   "execution_count": 19,
   "metadata": {},
   "outputs": [
    {
     "name": "stderr",
     "output_type": "stream",
     "text": [
      "C:\\Users\\ferna\\AppData\\Local\\Temp\\ipykernel_14428\\3928003282.py:3: DeprecationWarning: executable_path has been deprecated, please pass in a Service object\n",
      "  driver = webdriver.Chrome(ChromeDriverManager().install(), options=chrome_options)\n"
     ]
    }
   ],
   "source": [
    "url= 'https://www.worten.es/cliente/cuenta#/myWishlist'\n",
    "\n",
    "driver = webdriver.Chrome(ChromeDriverManager().install(), options=chrome_options)\n",
    "driver.get(url)\n"
   ]
  },
  {
   "cell_type": "code",
   "execution_count": 45,
   "metadata": {},
   "outputs": [],
   "source": [
    "enlaces = driver.find_elements(By.CSS_SELECTOR, 'a.w-product__url[href^=\"/productos/\"]')\n",
    "urls = [enlace.get_attribute('href') for enlace in enlaces]\n"
   ]
  },
  {
   "cell_type": "code",
   "execution_count": 49,
   "metadata": {},
   "outputs": [
    {
     "data": {
      "text/plain": [
       "31"
      ]
     },
     "execution_count": 49,
     "metadata": {},
     "output_type": "execute_result"
    }
   ],
   "source": [
    "product_ids = [1,2,4,3,103,104,102,100,96,95,94,93,92,91,90,89,88,86,85,84,83,82,80,79,78,77,76,75,74,73,72]\n",
    "len(product_ids)"
   ]
  },
  {
   "cell_type": "code",
   "execution_count": null,
   "metadata": {},
   "outputs": [],
   "source": [
    "## TODOS LOS URL DE AMAZON"
   ]
  },
  {
   "cell_type": "code",
   "execution_count": 80,
   "metadata": {},
   "outputs": [
    {
     "data": {
      "text/plain": [
       "['https://www.amazon.es/dp/B0CDMXJ7N6/?coliid=I120B7QWX1XSQG&colid=5M7C23FQFP2M&psc=1&ref_=list_c_wl_lv_ov_lig_dp_it',\n",
       " 'https://www.amazon.es/dp/B0BZQVWYHT/?coliid=I2TH4E7HPLITPG&colid=5M7C23FQFP2M&psc=0&ref_=list_c_wl_lv_ov_lig_dp_it',\n",
       " 'https://www.amazon.es/dp/B0BK94F97M/?coliid=I1SSAV2TNBFDPQ&colid=5M7C23FQFP2M&psc=1&ref_=list_c_wl_lv_ov_lig_dp_it',\n",
       " 'https://www.amazon.es/dp/B09NMBJSCL/?coliid=I3D4ROYTWMHHOF&colid=5M7C23FQFP2M&psc=1&ref_=list_c_wl_lv_ov_lig_dp_it',\n",
       " 'https://www.amazon.es/dp/B09XXXZNB5/?coliid=I1L0FS89891ULR&colid=5M7C23FQFP2M&psc=1&ref_=list_c_wl_lv_ov_lig_dp_it',\n",
       " 'https://www.amazon.es/dp/B086D26RCX/?coliid=I51I013S5RX28&colid=5M7C23FQFP2M&psc=1&ref_=list_c_wl_lv_ov_lig_dp_it',\n",
       " 'https://www.amazon.es/dp/B086BR2Y7H/?coliid=I1IZ3XXKQC8RX1&colid=5M7C23FQFP2M&psc=1&ref_=list_c_wl_lv_ov_lig_dp_it',\n",
       " 'https://www.amazon.es/dp/B08F2TKVHN/?coliid=I21046DT19AWC6&colid=5M7C23FQFP2M&psc=1&ref_=list_c_wl_lv_ov_lig_dp_it',\n",
       " 'https://www.amazon.es/dp/B0865YZWGP/?coliid=I268ZE7PBUJ9Q&colid=5M7C23FQFP2M&psc=1&ref_=list_c_wl_lv_ov_lig_dp_it',\n",
       " 'https://www.amazon.es/dp/B00BFAHLLK/?coliid=I2WAL0DMJ7QYIB&colid=5M7C23FQFP2M&psc=1&ref_=list_c_wl_lv_ov_lig_dp_it',\n",
       " 'https://www.amazon.es/dp/B08JMC6MHF/?coliid=I1QD55I7D4WFCU&colid=5M7C23FQFP2M&psc=1&ref_=list_c_wl_lv_ov_lig_dp_it',\n",
       " 'https://www.amazon.es/dp/B08DGK825Q/?coliid=IPXF2OVC95V7F&colid=5M7C23FQFP2M&psc=1&ref_=list_c_wl_lv_ov_lig_dp_it',\n",
       " 'https://www.amazon.es/dp/B00LPG2KBA/?coliid=I7UX1LXLNMSEA&colid=5M7C23FQFP2M&psc=1&ref_=list_c_wl_lv_ov_lig_dp_it',\n",
       " 'https://www.amazon.es/dp/B0BS72Q8C2/?coliid=I282G31IV70NLJ&colid=5M7C23FQFP2M&psc=1&ref_=list_c_wl_lv_ov_lig_dp_it',\n",
       " 'https://www.amazon.es/dp/B076L63TL2/?coliid=I8FOOOVYHGP1L&colid=5M7C23FQFP2M&psc=1&ref_=list_c_wl_lv_ov_lig_dp_it',\n",
       " 'https://www.amazon.es/dp/B01LVWLWM9/?coliid=I2QPDXEIZNKSCI&colid=5M7C23FQFP2M&psc=1&ref_=list_c_wl_lv_ov_lig_dp_it',\n",
       " 'https://www.amazon.es/dp/B079FYLBP9/?coliid=I1YHV5B1X3KOB&colid=5M7C23FQFP2M&psc=1&ref_=list_c_wl_lv_ov_lig_dp_it',\n",
       " 'https://www.amazon.es/dp/B01FLQSL30/?coliid=I3R6NVJDKZ7JTF&colid=5M7C23FQFP2M&psc=1&ref_=list_c_wl_lv_ov_lig_dp_it',\n",
       " 'https://www.amazon.es/dp/B0055ZONUS/?coliid=I33LZ6V3SUKTAY&colid=5M7C23FQFP2M&psc=1&ref_=list_c_wl_lv_ov_lig_dp_it',\n",
       " 'https://www.amazon.es/dp/B09YVQZ4NF/?coliid=I2PXKPZPOU633N&colid=5M7C23FQFP2M&psc=1&ref_=list_c_wl_lv_ov_lig_dp_it',\n",
       " 'https://www.amazon.es/dp/B08HNHNN4R/?coliid=IOTA1A6T0O4K0&colid=5M7C23FQFP2M&psc=1&ref_=list_c_wl_lv_ov_lig_dp_it',\n",
       " 'https://www.amazon.es/dp/B09YVQZ4M3/?coliid=I29DWS4G3QKXF9&colid=5M7C23FQFP2M&psc=1&ref_=list_c_wl_lv_ov_lig_dp_it',\n",
       " 'https://www.amazon.es/dp/B0C6B1QPCW/?coliid=I2MRH8EMVJXP5V&colid=5M7C23FQFP2M&psc=1&ref_=list_c_wl_lv_ov_lig_dp_it',\n",
       " 'https://www.amazon.es/dp/B0B2J9F8GC/?coliid=I3AL864F3V7U6Q&colid=5M7C23FQFP2M&psc=1&ref_=list_c_wl_lv_ov_lig_dp_it',\n",
       " 'https://www.amazon.es/dp/B01LY856ZO/?coliid=I1XUOJZBFMB2GX&colid=5M7C23FQFP2M&psc=1&ref_=list_c_wl_lv_ov_lig_dp_it',\n",
       " 'https://www.amazon.es/dp/B094V96DJQ/?coliid=I2HAL0D8W3ZXM3&colid=5M7C23FQFP2M&psc=1&ref_=list_c_wl_lv_ov_lig_dp_it',\n",
       " 'https://www.amazon.es/dp/B07CP9X7RF/?coliid=I2TTXQKGY1JVNJ&colid=5M7C23FQFP2M&psc=1&ref_=list_c_wl_lv_ov_lig_dp_it',\n",
       " 'https://www.amazon.es/dp/B07QFGLQ2W/?coliid=I283H23A1O21BH&colid=5M7C23FQFP2M&psc=1&ref_=list_c_wl_lv_ov_lig_dp_it',\n",
       " 'https://www.amazon.es/dp/B01FH8JY6U/?coliid=I2RV03VHL90I3&colid=5M7C23FQFP2M&psc=1&ref_=list_c_wl_lv_ov_lig_dp_it',\n",
       " 'https://www.amazon.es/dp/B0969H1D3F/?coliid=I2KKZIRPI7TPCS&colid=5M7C23FQFP2M&psc=1&ref_=list_c_wl_lv_ov_lig_dp_it',\n",
       " 'https://www.amazon.es/dp/B08DFLPTW7/?coliid=I27P955Q0UT1G6&colid=5M7C23FQFP2M&psc=0&ref_=list_c_wl_lv_ov_lig_dp_it',\n",
       " 'https://www.amazon.es/dp/B09647MVLZ/?coliid=I3RIK62FCT1GI7&colid=5M7C23FQFP2M&psc=1&ref_=list_c_wl_lv_ov_lig_dp_it',\n",
       " 'https://www.amazon.es/dp/B0BHTPSTVN/?coliid=I1NVC7X0QBI4WN&colid=5M7C23FQFP2M&psc=1&ref_=list_c_wl_lv_ov_lig_dp_it',\n",
       " 'https://www.amazon.es/dp/B01LXWYTGQ/?coliid=I32QHSPCOQ9SG9&colid=5M7C23FQFP2M&psc=1&ref_=list_c_wl_lv_ov_lig_dp_it',\n",
       " 'https://www.amazon.es/dp/B0BHTQ99B6/?coliid=I2YSTVTVKHCWN0&colid=5M7C23FQFP2M&psc=1&ref_=list_c_wl_lv_ov_lig_dp_it',\n",
       " 'https://www.amazon.es/dp/B099FLQN6R/?coliid=I16DTO1TAOOPAP&colid=5M7C23FQFP2M&psc=0&ref_=list_c_wl_lv_ov_lig_dp_it',\n",
       " 'https://www.amazon.es/dp/B0BXF4BL8T/?coliid=I3TBEAT2A8NR9C&colid=5M7C23FQFP2M&psc=1&ref_=list_c_wl_lv_ov_lig_dp_it',\n",
       " 'https://www.amazon.es/dp/B085M7LQ9S/?coliid=I3N1H5N68QM3LN&colid=5M7C23FQFP2M&psc=1&ref_=list_c_wl_lv_ov_lig_dp_it',\n",
       " 'https://www.amazon.es/dp/B083PCSNN9/?coliid=I2PPE44BO0UVP0&colid=5M7C23FQFP2M&psc=1&ref_=list_c_wl_lv_ov_lig_dp_it',\n",
       " 'https://www.amazon.es/dp/B08LBYQG11/?coliid=I1D9SYPTEAMRQA&colid=5M7C23FQFP2M&psc=0&ref_=list_c_wl_lv_ov_lig_dp_it',\n",
       " 'https://www.amazon.es/dp/B0CHX9WTR6/?coliid=I1KDQI2S1ELHRN&colid=5M7C23FQFP2M&psc=1&ref_=list_c_wl_lv_ov_lig_dp_it',\n",
       " 'https://www.amazon.es/dp/B0CGTYQVC7/?coliid=I1FXPKN9EZP95S&colid=5M7C23FQFP2M&psc=0&ref_=list_c_wl_lv_ov_lig_dp_it',\n",
       " 'https://www.amazon.es/dp/B099SG1PDM/?coliid=IUHHNQJDH0QFL&colid=5M7C23FQFP2M&psc=1&ref_=list_c_wl_lv_ov_lig_dp_it',\n",
       " 'https://www.amazon.es/dp/B07H297ZHS/?coliid=I272G1066U28GT&colid=5M7C23FQFP2M&psc=0&ref_=list_c_wl_lv_ov_lig_dp_it',\n",
       " 'https://www.amazon.es/dp/B0B8J4Z5DW/?coliid=I3FZGICVV62JZK&colid=5M7C23FQFP2M&psc=1&ref_=list_c_wl_lv_ov_lig_dp_it',\n",
       " 'https://www.amazon.es/dp/B09V5B4HVR/?coliid=I3A3WQZ0ULORT&colid=5M7C23FQFP2M&psc=1&ref_=list_c_wl_lv_ov_lig_dp_it',\n",
       " 'https://www.amazon.es/dp/B0C6B4831Z/?coliid=I3GS5DNFXYXLKP&colid=5M7C23FQFP2M&psc=1&ref_=list_c_wl_lv_ov_lig_dp_it',\n",
       " 'https://www.amazon.es/dp/B09B2S8WKD/?coliid=I13UA4ED4K25JN&colid=5M7C23FQFP2M&psc=1&ref_=list_c_wl_lv_ov_lig_dp_it',\n",
       " 'https://www.amazon.es/dp/B0C4B5BTTN/?coliid=I25KRZR6VHU7BA&colid=5M7C23FQFP2M&psc=1&ref_=list_c_wl_lv_ov_lig_dp_it',\n",
       " 'https://www.amazon.es/dp/B098BYN3X3/?coliid=I1726LP1U680C7&colid=5M7C23FQFP2M&psc=1&ref_=list_c_wl_lv_ov_lig_dp_it',\n",
       " 'https://www.amazon.es/dp/B0BBNF88L7/?coliid=I2JX7CDE2O1VB&colid=5M7C23FQFP2M&psc=0&ref_=list_c_wl_lv_ov_lig_dp_it',\n",
       " 'https://www.amazon.es/dp/B0BRYF8XL8/?coliid=I1OGALQOX5IPHN&colid=5M7C23FQFP2M&psc=1&ref_=list_c_wl_lv_ov_lig_dp_it',\n",
       " 'https://www.amazon.es/dp/B09X5G16ZM/?coliid=I3S64K6496E3V7&colid=5M7C23FQFP2M&psc=1&ref_=list_c_wl_lv_ov_lig_dp_it',\n",
       " 'https://www.amazon.es/dp/B0C7L3DZ69/?coliid=I2VLLAHIVH9Q1Z&colid=5M7C23FQFP2M&psc=1&ref_=list_c_wl_lv_ov_lig_dp_it',\n",
       " 'https://www.amazon.es/dp/B07YTJCYY9/?coliid=I3HI58A3DXSFBH&colid=5M7C23FQFP2M&psc=1&ref_=list_c_wl_lv_ov_lig_dp_it',\n",
       " 'https://www.amazon.es/dp/B0CHX92K1P/?coliid=IFG9B46DRZDM&colid=5M7C23FQFP2M&psc=1&ref_=list_c_wl_lv_ov_lig_dp_it',\n",
       " 'https://www.amazon.es/dp/B0C5JS7GRX/?coliid=I1BG14VBSU913T&colid=5M7C23FQFP2M&psc=1&ref_=list_c_wl_lv_ov_lig_dp_it',\n",
       " 'https://www.amazon.es/dp/B0B97V9BH5/?coliid=I2ZFEUADWQ317L&colid=5M7C23FQFP2M&psc=0&ref_=list_c_wl_lv_ov_lig_dp_it',\n",
       " 'https://www.amazon.es/dp/B0BZSM3SNW/?coliid=I2KT17JPR02HO1&colid=5M7C23FQFP2M&psc=1&ref_=list_c_wl_lv_ov_lig_dp_it',\n",
       " 'https://www.amazon.es/dp/B01LW30PQZ/?coliid=I1E9TWEQODIA9E&colid=5M7C23FQFP2M&psc=1&ref_=list_c_wl_lv_ov_lig_dp_it',\n",
       " 'https://www.amazon.es/dp/B098TVZ6TS/?coliid=I2WHLG1PHI9FP2&colid=5M7C23FQFP2M&psc=1&ref_=list_c_wl_lv_ov_lig_dp_it',\n",
       " 'https://www.amazon.es/dp/B0127HAGK2/?coliid=I29E4U3NZWLEBM&colid=5M7C23FQFP2M&psc=1&ref_=list_c_wl_lv_ov_lig_dp_it',\n",
       " 'https://www.amazon.es/dp/B0CCB284SJ/?coliid=IOBT28E7QPEGK&colid=5M7C23FQFP2M&psc=0&ref_=list_c_wl_lv_ov_lig_dp_it',\n",
       " 'https://www.amazon.es/dp/B0BDKKF3QC/?coliid=I3E1AMPB32CMGX&colid=5M7C23FQFP2M&psc=1&ref_=list_c_wl_lv_ov_lig_dp_it',\n",
       " 'https://www.amazon.es/dp/B07VNTFHD5/?coliid=I3SD40RVNBSNT0&colid=5M7C23FQFP2M&psc=0&ref_=list_c_wl_lv_ov_lig_dp_it',\n",
       " 'https://www.amazon.es/dp/B0BTDX26B2/?coliid=I1X8NUINB6AU08&colid=5M7C23FQFP2M&psc=1&ref_=list_c_wl_lv_ov_lig_dp_it',\n",
       " 'https://www.amazon.es/dp/B09KLXSZLR/?coliid=IT9KOPJJHXZPY&colid=5M7C23FQFP2M&psc=1&ref_=list_c_wl_lv_ov_lig_dp_it',\n",
       " 'https://www.amazon.es/dp/B0CDTX52V6/?coliid=I10ZQQK0CRTDS7&colid=5M7C23FQFP2M&psc=1&ref_=list_c_wl_lv_ov_lig_dp_it',\n",
       " 'https://www.amazon.es/dp/B09NMLRY89/?coliid=I3DQ9WQ4D14UOC&colid=5M7C23FQFP2M&psc=0&ref_=list_c_wl_lv_ov_lig_dp_it',\n",
       " 'https://www.amazon.es/dp/B0BZSN6K47/?coliid=I1KEU68U5DIXX5&colid=5M7C23FQFP2M&psc=1&ref_=list_c_wl_lv_ov_lig_dp_it',\n",
       " 'https://www.amazon.es/dp/B0BHTQLM4K/?coliid=I3K0WK0E8833FG&colid=5M7C23FQFP2M&psc=1&ref_=list_c_wl_lv_ov_lig_dp_it',\n",
       " 'https://www.amazon.es/dp/B095YN4TML/?coliid=I1SC0K0B6JWK2D&colid=5M7C23FQFP2M&psc=1&ref_=list_c_wl_lv_ov_lig_dp_it',\n",
       " 'https://www.amazon.es/dp/B0BV6TXW8W/?coliid=I1GIDOWFQTC9CA&colid=5M7C23FQFP2M&psc=1&ref_=list_c_wl_lv_ov_lig_dp_it',\n",
       " 'https://www.amazon.es/dp/B09WZNL9FP/?coliid=I4OXYSIKA9E2K&colid=5M7C23FQFP2M&psc=1&ref_=list_c_wl_lv_ov_lig_dp_it',\n",
       " 'https://www.amazon.es/dp/B0888P87V2/?coliid=I14A4LCXTBYVZE&colid=5M7C23FQFP2M&psc=1&ref_=list_c_wl_lv_ov_lig_dp_it',\n",
       " 'https://www.amazon.es/dp/B0C4P9W7KD/?coliid=I3I3781CNG5HGU&colid=5M7C23FQFP2M&psc=1&ref_=list_c_wl_lv_ov_lig_dp_it',\n",
       " 'https://www.amazon.es/dp/B010RXXY48/?coliid=I1WYVYF76KBAAE&colid=5M7C23FQFP2M&psc=1&ref_=list_c_wl_lv_ov_lig_dp_it',\n",
       " 'https://www.amazon.es/dp/B0BPY7HSC4/?coliid=I3D0AJU945I5BL&colid=5M7C23FQFP2M&psc=1&ref_=list_c_wl_lv_ov_lig_dp_it',\n",
       " 'https://www.amazon.es/dp/B0B59NW3V2/?coliid=I3LG935PKYLAPV&colid=5M7C23FQFP2M&psc=1&ref_=list_c_wl_lv_ov_lig_dp_it',\n",
       " 'https://www.amazon.es/dp/B0B6ZVSQ1N/?coliid=I3ENM0QVH22TQ0&colid=5M7C23FQFP2M&psc=1&ref_=list_c_wl_lv_ov_lig_dp_it',\n",
       " 'https://www.amazon.es/dp/B0814Y7KFD/?coliid=I5RTGA0AV107P&colid=5M7C23FQFP2M&psc=1&ref_=list_c_wl_lv_ov_lig_dp_it',\n",
       " 'https://www.amazon.es/dp/B00INSX904/?coliid=I6P8IKGN1V0BO&colid=5M7C23FQFP2M&psc=1&ref_=list_c_wl_lv_ov_lig_dp_it',\n",
       " 'https://www.amazon.es/dp/B0BQSS5RKM/?coliid=I3V9MPVECH5UVM&colid=5M7C23FQFP2M&psc=1&ref_=list_c_wl_lv_ov_lig_dp_it',\n",
       " 'https://www.amazon.es/dp/B0BBH27L1S/?coliid=I35QNC9SEKIWFE&colid=5M7C23FQFP2M&psc=1&ref_=list_c_wl_lv_ov_lig_dp_it',\n",
       " 'https://www.amazon.es/dp/B0BL1PYL4Z/?coliid=IQ5CYT295FC3E&colid=5M7C23FQFP2M&psc=0&ref_=list_c_wl_lv_ov_lig_dp_it',\n",
       " 'https://www.amazon.es/dp/B0C7X5Q6R1/?coliid=I1T2HKKE978IMS&colid=5M7C23FQFP2M&psc=1&ref_=list_c_wl_lv_ov_lig_dp_it',\n",
       " 'https://www.amazon.es/dp/B09MTTYZP1/?coliid=I1A0VJKZC9O71X&colid=5M7C23FQFP2M&psc=1&ref_=list_c_wl_lv_ov_lig_dp_it',\n",
       " 'https://www.amazon.es/dp/B0BZJK1ZTY/?coliid=IO9YP9UU7PQ0B&colid=5M7C23FQFP2M&psc=1&ref_=list_c_wl_lv_ov_lig_dp_it']"
      ]
     },
     "execution_count": 80,
     "metadata": {},
     "output_type": "execute_result"
    }
   ],
   "source": [
    "from selenium import webdriver\n",
    "from selenium.webdriver.common.by import By\n",
    "\n",
    "# Inicia el navegador (asegúrate de tener el driver correspondiente instalado y en el PATH)\n",
    "\n",
    "# Encuentra todos los elementos <h2>\n",
    "h2_elements = driver.find_elements(By.XPATH, '//h2')\n",
    "\n",
    "# Inicializa una lista para almacenar las URLs encontradas\n",
    "all_urls = []\n",
    "\n",
    "# Itera sobre los elementos <h2> y encuentra los elementos <a> dentro de cada uno\n",
    "for h2_element in h2_elements:\n",
    "    # Encuentra los elementos <a> dentro del elemento <h2>\n",
    "    a_elements = h2_element.find_elements(By.XPATH, './/a[@href]')\n",
    "    \n",
    "    # Extrae las URLs de los elementos <a> y las agrega a la lista\n",
    "    urls = [a.get_attribute('href') for a in a_elements]\n",
    "    all_urls.extend(urls)\n",
    "\n",
    "# Imprime las URLs encontradas\n",
    "all_urls\n",
    "# Cierra el navegador\n"
   ]
  },
  {
   "cell_type": "code",
   "execution_count": 15,
   "metadata": {},
   "outputs": [],
   "source": [
    "product_ids = [30,29,28,27,25,24,23,22,21,20,19,18,17,16,15,14,13,12,11,10,9,7,6,5]\n"
   ]
  },
  {
   "cell_type": "code",
   "execution_count": null,
   "metadata": {},
   "outputs": [],
   "source": [
    "## AMAZON"
   ]
  },
  {
   "cell_type": "code",
   "execution_count": 25,
   "metadata": {},
   "outputs": [
    {
     "name": "stderr",
     "output_type": "stream",
     "text": [
      "Neither CUDA nor MPS are available - defaulting to CPU. Note: This module is much faster with a GPU.\n"
     ]
    },
    {
     "name": "stderr",
     "output_type": "stream",
     "text": [
      "C:\\Users\\ferna\\AppData\\Local\\Temp\\ipykernel_14428\\2619780671.py:8: DeprecationWarning: executable_path has been deprecated, please pass in a Service object\n",
      "  driver = webdriver.Chrome(ChromeDriverManager().install(), options=chrome_options)\n"
     ]
    }
   ],
   "source": [
    "num_capturas = 374  \n",
    "\n",
    "product_ids = [30,29,28,27,25,24,23,22,21,20,19,18,17,16,15,14,13,12,11,10,9,7,6,5]\n",
    "\n",
    "reader = easyocr.Reader(['en'])\n",
    "\n",
    "for i in range(len(all_urls)):\n",
    "    driver = webdriver.Chrome(ChromeDriverManager().install(), options=chrome_options)\n",
    "    driver.get(all_urls[i])\n",
    "    \n",
    "    x = 80\n",
    "    y = 925\n",
    "\n",
    "    time.sleep(7)\n",
    "\n",
    "    pyautogui.click(x, y)\n",
    "\n",
    "    time.sleep(2)\n",
    "\n",
    "    pyautogui.click(x, y)\n",
    "\n",
    "    x_inicial = 112\n",
    "    y_inicial = 495\n",
    "\n",
    "    with open(f'extracciones_amazon2.csv', 'a', newline='') as csvfile:\n",
    "        csv_writer = csv.writer(csvfile)\n",
    "        product_id = product_ids[i]\n",
    "        product_url = all_urls[i]\n",
    "        shop_id = 1\n",
    "        # Añadir una columna \"Product ID\"\n",
    "        csv_writer.writerow(['Product ID', 'N_Extracción', 'Fecha', 'Precio', 'Shop_id', 'product_url', 'texto_entreno'])  # Encabezado del CSV\n",
    "\n",
    "        for j in range(num_capturas):\n",
    "            # Definir las coordenadas de recorte (a, b, width, height)\n",
    "            a, b, width, height = (110, 370, 750, 48)\n",
    "\n",
    "            # Mueve el ratón a la nueva posición\n",
    "            pyautogui.moveTo(x_inicial, y_inicial)\n",
    "            \n",
    "            # Toma una captura de pantalla\n",
    "            screenshot = driver.get_screenshot_as_png()\n",
    "            image = Image.open(BytesIO(screenshot))\n",
    "\n",
    "            # Recorta la imagen y guárdala con un número distinto cada vez\n",
    "            image_cortada = image.crop((a, b, a + width, b + height))\n",
    "            image_cortada.save(f\"ventana_flotante_{i}_{j}.png\")\n",
    "\n",
    "            texto_extraído = reader.readtext(f\"ventana_flotante_{i}_{j}.png\")\n",
    "\n",
    "            fecha = \"0\"\n",
    "            precio = 0.0\n",
    "\n",
    "            try:\n",
    "    # Intentar extraer la fecha\n",
    "                fecha = texto_extraído[0][1].replace('.', ':')  # Formatear la fecha si es necesario\n",
    "\n",
    "    # Intentar extraer el precio y formatearlo\n",
    "                precio_str = texto_extraído[1][1].split(' ')[0]  # Eliminar el símbolo de euro\n",
    "                precio = precio_str.replace(',', '.')  # Convertir ',' a '.' y redondear a dos decimales\n",
    "\n",
    "            except IndexError:\n",
    "    # Manejar la excepción si hay un error de índice\n",
    "                fecha = \"0\"\n",
    "                precio = 0.0\n",
    "\n",
    "            csv_writer.writerow([product_id, f\"Extracción {j}\", fecha, precio, shop_id, product_url, texto_extraído])\n",
    "\n",
    "            os.remove(f\"ventana_flotante_{i}_{j}.png\")\n",
    "\n",
    "            x_inicial += 1.95\n",
    "\n",
    "\n",
    "    driver.quit()\n",
    "\n",
    "# Cierra el navegador al final de todas las repeticiones\n",
    "driver.quit()"
   ]
  },
  {
   "cell_type": "code",
   "execution_count": 15,
   "metadata": {},
   "outputs": [],
   "source": [
    "a, b, width, height = (110, 370, 750, 46)\n",
    "image_cortada = image.crop((a, b, a + width, b + height))\n",
    "image_cortada.save(f\"ventana_flotante_292.png\")\n",
    "\n",
    "texto_extraído = pytesseract.image_to_string(image_cortada)\n"
   ]
  },
  {
   "cell_type": "code",
   "execution_count": 31,
   "metadata": {},
   "outputs": [
    {
     "data": {
      "text/plain": [
       "[]"
      ]
     },
     "execution_count": 31,
     "metadata": {},
     "output_type": "execute_result"
    }
   ],
   "source": [
    "texto_extraído"
   ]
  },
  {
   "cell_type": "code",
   "execution_count": 19,
   "metadata": {},
   "outputs": [
    {
     "name": "stderr",
     "output_type": "stream",
     "text": [
      "Neither CUDA nor MPS are available - defaulting to CPU. Note: This module is much faster with a GPU.\n"
     ]
    }
   ],
   "source": [
    "import easyocr\n",
    "\n",
    "\n",
    "result = reader.readtext('ventana_flotante_292.png')\n",
    "                    \n"
   ]
  },
  {
   "cell_type": "code",
   "execution_count": 20,
   "metadata": {},
   "outputs": [
    {
     "data": {
      "text/plain": [
       "[([[387, 3], [539, 3], [539, 23], [387, 23]],\n",
       "  '2023/10/23 18.26.30',\n",
       "  0.803336917945538),\n",
       " ([[387, 25], [453, 25], [453, 45], [387, 45]],\n",
       "  '879.00 €',\n",
       "  0.9878565611862324)]"
      ]
     },
     "execution_count": 20,
     "metadata": {},
     "output_type": "execute_result"
    }
   ],
   "source": [
    "result"
   ]
  },
  {
   "cell_type": "code",
   "execution_count": 29,
   "metadata": {},
   "outputs": [
    {
     "name": "stdout",
     "output_type": "stream",
     "text": [
      "Fecha: 2023/10/23 18:26:30\n",
      "Precio: 879.0\n"
     ]
    }
   ],
   "source": [
    "# Resultado proporcionado\n",
    "\n",
    "# Extraer la fecha y el precio\n",
    "fecha = result[0][1]  # La fecha se encuentra en la primera tupla en la segunda posición\n",
    "precio_str = result[1][1]  # El precio se encuentra en la segunda tupla en la segunda posición\n",
    "\n",
    "# Formatear la fecha\n",
    "# Si es necesario convertir el formato de '2023/10/23 18.26.30' a '2023/10/23 18:26:30'\n",
    "fecha = fecha.replace('.', ':')\n",
    "\n",
    "# Convertir el precio a un formato numérico\n",
    "precio = float(precio_str.split(' ')[0].replace(',', '.'))  # Eliminar el símbolo de euro y convertir ',' a '.'\n",
    "\n",
    "# Imprimir los resultados\n",
    "print(\"Fecha:\", fecha)\n",
    "print(\"Precio:\", precio)\n"
   ]
  },
  {
   "cell_type": "code",
   "execution_count": 20,
   "metadata": {},
   "outputs": [
    {
     "name": "stderr",
     "output_type": "stream",
     "text": [
      "C:\\Users\\ferna\\AppData\\Local\\Temp\\ipykernel_14428\\313595303.py:3: DeprecationWarning: executable_path has been deprecated, please pass in a Service object\n",
      "  driver = webdriver.Chrome(ChromeDriverManager().install(), options=chrome_options)\n"
     ]
    }
   ],
   "source": [
    "url= 'https://www.amazon.es/hz/wishlist/ls?requiresSignIn=1&ref_=nav_AccountFlyout_wl'\n",
    "\n",
    "driver = webdriver.Chrome(ChromeDriverManager().install(), options=chrome_options)\n",
    "driver.get(url)\n"
   ]
  },
  {
   "cell_type": "code",
   "execution_count": 5,
   "metadata": {},
   "outputs": [],
   "source": [
    "enlaces = driver.find_elements(By.XPATH, '//a[@title]')\n",
    "urls = [enlace.get_attribute('href') for enlace in enlaces]\n"
   ]
  },
  {
   "cell_type": "code",
   "execution_count": 6,
   "metadata": {},
   "outputs": [
    {
     "data": {
      "text/plain": [
       "188"
      ]
     },
     "execution_count": 6,
     "metadata": {},
     "output_type": "execute_result"
    }
   ],
   "source": [
    "len(urls)"
   ]
  },
  {
   "cell_type": "code",
   "execution_count": 21,
   "metadata": {},
   "outputs": [
    {
     "data": {
      "text/plain": [
       "['https://www.amazon.es/dp/B0CDMXJ7N6/?coliid=I120B7QWX1XSQG&colid=5M7C23FQFP2M&psc=1&ref_=list_c_wl_lv_ov_lig_dp_it',\n",
       " 'https://www.amazon.es/dp/B0BZQVWYHT/?coliid=I2TH4E7HPLITPG&colid=5M7C23FQFP2M&psc=0&ref_=list_c_wl_lv_ov_lig_dp_it',\n",
       " 'https://www.amazon.es/dp/B0BK94F97M/?coliid=I1SSAV2TNBFDPQ&colid=5M7C23FQFP2M&psc=1&ref_=list_c_wl_lv_ov_lig_dp_it',\n",
       " 'https://www.amazon.es/dp/B09NMBJSCL/?coliid=I3D4ROYTWMHHOF&colid=5M7C23FQFP2M&psc=1&ref_=list_c_wl_lv_ov_lig_dp_it',\n",
       " 'https://www.amazon.es/dp/B09XXXZNB5/?coliid=I1L0FS89891ULR&colid=5M7C23FQFP2M&psc=1&ref_=list_c_wl_lv_ov_lig_dp_it',\n",
       " 'https://www.amazon.es/dp/B086D26RCX/?coliid=I51I013S5RX28&colid=5M7C23FQFP2M&psc=1&ref_=list_c_wl_lv_ov_lig_dp_it',\n",
       " 'https://www.amazon.es/dp/B086BR2Y7H/?coliid=I1IZ3XXKQC8RX1&colid=5M7C23FQFP2M&psc=1&ref_=list_c_wl_lv_ov_lig_dp_it',\n",
       " 'https://www.amazon.es/dp/B08F2TKVHN/?coliid=I21046DT19AWC6&colid=5M7C23FQFP2M&psc=1&ref_=list_c_wl_lv_ov_lig_dp_it',\n",
       " 'https://www.amazon.es/dp/B0865YZWGP/?coliid=I268ZE7PBUJ9Q&colid=5M7C23FQFP2M&psc=1&ref_=list_c_wl_lv_ov_lig_dp_it',\n",
       " 'https://www.amazon.es/dp/B00BFAHLLK/?coliid=I2WAL0DMJ7QYIB&colid=5M7C23FQFP2M&psc=1&ref_=list_c_wl_lv_ov_lig_dp_it',\n",
       " 'https://www.amazon.es/dp/B08JMC6MHF/?coliid=I1QD55I7D4WFCU&colid=5M7C23FQFP2M&psc=1&ref_=list_c_wl_lv_ov_lig_dp_it',\n",
       " 'https://www.amazon.es/dp/B08DGK825Q/?coliid=IPXF2OVC95V7F&colid=5M7C23FQFP2M&psc=1&ref_=list_c_wl_lv_ov_lig_dp_it',\n",
       " 'https://www.amazon.es/dp/B00LPG2KBA/?coliid=I7UX1LXLNMSEA&colid=5M7C23FQFP2M&psc=1&ref_=list_c_wl_lv_ov_lig_dp_it',\n",
       " 'https://www.amazon.es/dp/B0BS72Q8C2/?coliid=I282G31IV70NLJ&colid=5M7C23FQFP2M&psc=1&ref_=list_c_wl_lv_ov_lig_dp_it',\n",
       " 'https://www.amazon.es/dp/B076L63TL2/?coliid=I8FOOOVYHGP1L&colid=5M7C23FQFP2M&psc=1&ref_=list_c_wl_lv_ov_lig_dp_it',\n",
       " 'https://www.amazon.es/dp/B01LVWLWM9/?coliid=I2QPDXEIZNKSCI&colid=5M7C23FQFP2M&psc=1&ref_=list_c_wl_lv_ov_lig_dp_it',\n",
       " 'https://www.amazon.es/dp/B079FYLBP9/?coliid=I1YHV5B1X3KOB&colid=5M7C23FQFP2M&psc=1&ref_=list_c_wl_lv_ov_lig_dp_it',\n",
       " 'https://www.amazon.es/dp/B01FLQSL30/?coliid=I3R6NVJDKZ7JTF&colid=5M7C23FQFP2M&psc=1&ref_=list_c_wl_lv_ov_lig_dp_it',\n",
       " 'https://www.amazon.es/dp/B0055ZONUS/?coliid=I33LZ6V3SUKTAY&colid=5M7C23FQFP2M&psc=1&ref_=list_c_wl_lv_ov_lig_dp_it',\n",
       " 'https://www.amazon.es/dp/B09YVQZ4NF/?coliid=I2PXKPZPOU633N&colid=5M7C23FQFP2M&psc=1&ref_=list_c_wl_lv_ov_lig_dp_it',\n",
       " 'https://www.amazon.es/dp/B08HNHNN4R/?coliid=IOTA1A6T0O4K0&colid=5M7C23FQFP2M&psc=1&ref_=list_c_wl_lv_ov_lig_dp_it',\n",
       " 'https://www.amazon.es/dp/B09YVQZ4M3/?coliid=I29DWS4G3QKXF9&colid=5M7C23FQFP2M&psc=1&ref_=list_c_wl_lv_ov_lig_dp_it',\n",
       " 'https://www.amazon.es/dp/B0C6B1QPCW/?coliid=I2MRH8EMVJXP5V&colid=5M7C23FQFP2M&psc=1&ref_=list_c_wl_lv_ov_lig_dp_it',\n",
       " 'https://www.amazon.es/dp/B0B2J9F8GC/?coliid=I3AL864F3V7U6Q&colid=5M7C23FQFP2M&psc=1&ref_=list_c_wl_lv_ov_lig_dp_it',\n",
       " 'https://www.amazon.es/dp/B01LY856ZO/?coliid=I1XUOJZBFMB2GX&colid=5M7C23FQFP2M&psc=1&ref_=list_c_wl_lv_ov_lig_dp_it',\n",
       " 'https://www.amazon.es/dp/B094V96DJQ/?coliid=I2HAL0D8W3ZXM3&colid=5M7C23FQFP2M&psc=1&ref_=list_c_wl_lv_ov_lig_dp_it',\n",
       " 'https://www.amazon.es/dp/B07CP9X7RF/?coliid=I2TTXQKGY1JVNJ&colid=5M7C23FQFP2M&psc=1&ref_=list_c_wl_lv_ov_lig_dp_it',\n",
       " 'https://www.amazon.es/dp/B07QFGLQ2W/?coliid=I283H23A1O21BH&colid=5M7C23FQFP2M&psc=1&ref_=list_c_wl_lv_ov_lig_dp_it',\n",
       " 'https://www.amazon.es/dp/B01FH8JY6U/?coliid=I2RV03VHL90I3&colid=5M7C23FQFP2M&psc=1&ref_=list_c_wl_lv_ov_lig_dp_it',\n",
       " 'https://www.amazon.es/dp/B0969H1D3F/?coliid=I2KKZIRPI7TPCS&colid=5M7C23FQFP2M&psc=1&ref_=list_c_wl_lv_ov_lig_dp_it',\n",
       " 'https://www.amazon.es/dp/B08DFLPTW7/?coliid=I27P955Q0UT1G6&colid=5M7C23FQFP2M&psc=0&ref_=list_c_wl_lv_ov_lig_dp_it',\n",
       " 'https://www.amazon.es/dp/B09647MVLZ/?coliid=I3RIK62FCT1GI7&colid=5M7C23FQFP2M&psc=1&ref_=list_c_wl_lv_ov_lig_dp_it',\n",
       " 'https://www.amazon.es/dp/B0BHTPSTVN/?coliid=I1NVC7X0QBI4WN&colid=5M7C23FQFP2M&psc=1&ref_=list_c_wl_lv_ov_lig_dp_it',\n",
       " 'https://www.amazon.es/dp/B01LXWYTGQ/?coliid=I32QHSPCOQ9SG9&colid=5M7C23FQFP2M&psc=1&ref_=list_c_wl_lv_ov_lig_dp_it',\n",
       " 'https://www.amazon.es/dp/B0BHTQ99B6/?coliid=I2YSTVTVKHCWN0&colid=5M7C23FQFP2M&psc=1&ref_=list_c_wl_lv_ov_lig_dp_it',\n",
       " 'https://www.amazon.es/dp/B099FLQN6R/?coliid=I16DTO1TAOOPAP&colid=5M7C23FQFP2M&psc=0&ref_=list_c_wl_lv_ov_lig_dp_it',\n",
       " 'https://www.amazon.es/dp/B0BXF4BL8T/?coliid=I3TBEAT2A8NR9C&colid=5M7C23FQFP2M&psc=1&ref_=list_c_wl_lv_ov_lig_dp_it',\n",
       " 'https://www.amazon.es/dp/B085M7LQ9S/?coliid=I3N1H5N68QM3LN&colid=5M7C23FQFP2M&psc=1&ref_=list_c_wl_lv_ov_lig_dp_it',\n",
       " 'https://www.amazon.es/dp/B083PCSNN9/?coliid=I2PPE44BO0UVP0&colid=5M7C23FQFP2M&psc=1&ref_=list_c_wl_lv_ov_lig_dp_it',\n",
       " 'https://www.amazon.es/dp/B08LBYQG11/?coliid=I1D9SYPTEAMRQA&colid=5M7C23FQFP2M&psc=0&ref_=list_c_wl_lv_ov_lig_dp_it',\n",
       " 'https://www.amazon.es/dp/B0CHX9WTR6/?coliid=I1KDQI2S1ELHRN&colid=5M7C23FQFP2M&psc=1&ref_=list_c_wl_lv_ov_lig_dp_it',\n",
       " 'https://www.amazon.es/dp/B0CGTYQVC7/?coliid=I1FXPKN9EZP95S&colid=5M7C23FQFP2M&psc=0&ref_=list_c_wl_lv_ov_lig_dp_it',\n",
       " 'https://www.amazon.es/dp/B099SG1PDM/?coliid=IUHHNQJDH0QFL&colid=5M7C23FQFP2M&psc=1&ref_=list_c_wl_lv_ov_lig_dp_it',\n",
       " 'https://www.amazon.es/dp/B07H297ZHS/?coliid=I272G1066U28GT&colid=5M7C23FQFP2M&psc=0&ref_=list_c_wl_lv_ov_lig_dp_it',\n",
       " 'https://www.amazon.es/dp/B0B8J4Z5DW/?coliid=I3FZGICVV62JZK&colid=5M7C23FQFP2M&psc=1&ref_=list_c_wl_lv_ov_lig_dp_it',\n",
       " 'https://www.amazon.es/dp/B09V5B4HVR/?coliid=I3A3WQZ0ULORT&colid=5M7C23FQFP2M&psc=1&ref_=list_c_wl_lv_ov_lig_dp_it',\n",
       " 'https://www.amazon.es/dp/B0C6B4831Z/?coliid=I3GS5DNFXYXLKP&colid=5M7C23FQFP2M&psc=1&ref_=list_c_wl_lv_ov_lig_dp_it',\n",
       " 'https://www.amazon.es/dp/B09B2S8WKD/?coliid=I13UA4ED4K25JN&colid=5M7C23FQFP2M&psc=1&ref_=list_c_wl_lv_ov_lig_dp_it',\n",
       " 'https://www.amazon.es/dp/B0C4B5BTTN/?coliid=I25KRZR6VHU7BA&colid=5M7C23FQFP2M&psc=1&ref_=list_c_wl_lv_ov_lig_dp_it',\n",
       " 'https://www.amazon.es/dp/B098BYN3X3/?coliid=I1726LP1U680C7&colid=5M7C23FQFP2M&psc=1&ref_=list_c_wl_lv_ov_lig_dp_it',\n",
       " 'https://www.amazon.es/dp/B0BBNF88L7/?coliid=I2JX7CDE2O1VB&colid=5M7C23FQFP2M&psc=0&ref_=list_c_wl_lv_ov_lig_dp_it',\n",
       " 'https://www.amazon.es/dp/B0BRYF8XL8/?coliid=I1OGALQOX5IPHN&colid=5M7C23FQFP2M&psc=1&ref_=list_c_wl_lv_ov_lig_dp_it',\n",
       " 'https://www.amazon.es/dp/B09X5G16ZM/?coliid=I3S64K6496E3V7&colid=5M7C23FQFP2M&psc=1&ref_=list_c_wl_lv_ov_lig_dp_it',\n",
       " 'https://www.amazon.es/dp/B0C7L3DZ69/?coliid=I2VLLAHIVH9Q1Z&colid=5M7C23FQFP2M&psc=1&ref_=list_c_wl_lv_ov_lig_dp_it',\n",
       " 'https://www.amazon.es/dp/B07YTJCYY9/?coliid=I3HI58A3DXSFBH&colid=5M7C23FQFP2M&psc=1&ref_=list_c_wl_lv_ov_lig_dp_it',\n",
       " 'https://www.amazon.es/dp/B0CHX92K1P/?coliid=IFG9B46DRZDM&colid=5M7C23FQFP2M&psc=1&ref_=list_c_wl_lv_ov_lig_dp_it',\n",
       " 'https://www.amazon.es/dp/B0C5JS7GRX/?coliid=I1BG14VBSU913T&colid=5M7C23FQFP2M&psc=1&ref_=list_c_wl_lv_ov_lig_dp_it',\n",
       " 'https://www.amazon.es/dp/B0B97V9BH5/?coliid=I2ZFEUADWQ317L&colid=5M7C23FQFP2M&psc=0&ref_=list_c_wl_lv_ov_lig_dp_it',\n",
       " 'https://www.amazon.es/dp/B0BZSM3SNW/?coliid=I2KT17JPR02HO1&colid=5M7C23FQFP2M&psc=1&ref_=list_c_wl_lv_ov_lig_dp_it',\n",
       " 'https://www.amazon.es/dp/B01LW30PQZ/?coliid=I1E9TWEQODIA9E&colid=5M7C23FQFP2M&psc=1&ref_=list_c_wl_lv_ov_lig_dp_it',\n",
       " 'https://www.amazon.es/dp/B098TVZ6TS/?coliid=I2WHLG1PHI9FP2&colid=5M7C23FQFP2M&psc=1&ref_=list_c_wl_lv_ov_lig_dp_it',\n",
       " 'https://www.amazon.es/dp/B0127HAGK2/?coliid=I29E4U3NZWLEBM&colid=5M7C23FQFP2M&psc=1&ref_=list_c_wl_lv_ov_lig_dp_it',\n",
       " 'https://www.amazon.es/dp/B0CCB284SJ/?coliid=IOBT28E7QPEGK&colid=5M7C23FQFP2M&psc=0&ref_=list_c_wl_lv_ov_lig_dp_it',\n",
       " 'https://www.amazon.es/dp/B0BDKKF3QC/?coliid=I3E1AMPB32CMGX&colid=5M7C23FQFP2M&psc=1&ref_=list_c_wl_lv_ov_lig_dp_it',\n",
       " 'https://www.amazon.es/dp/B07VNTFHD5/?coliid=I3SD40RVNBSNT0&colid=5M7C23FQFP2M&psc=0&ref_=list_c_wl_lv_ov_lig_dp_it',\n",
       " 'https://www.amazon.es/dp/B0BTDX26B2/?coliid=I1X8NUINB6AU08&colid=5M7C23FQFP2M&psc=1&ref_=list_c_wl_lv_ov_lig_dp_it',\n",
       " 'https://www.amazon.es/dp/B09KLXSZLR/?coliid=IT9KOPJJHXZPY&colid=5M7C23FQFP2M&psc=1&ref_=list_c_wl_lv_ov_lig_dp_it',\n",
       " 'https://www.amazon.es/dp/B0CDTX52V6/?coliid=I10ZQQK0CRTDS7&colid=5M7C23FQFP2M&psc=1&ref_=list_c_wl_lv_ov_lig_dp_it',\n",
       " 'https://www.amazon.es/dp/B09NMLRY89/?coliid=I3DQ9WQ4D14UOC&colid=5M7C23FQFP2M&psc=0&ref_=list_c_wl_lv_ov_lig_dp_it',\n",
       " 'https://www.amazon.es/dp/B0BZSN6K47/?coliid=I1KEU68U5DIXX5&colid=5M7C23FQFP2M&psc=1&ref_=list_c_wl_lv_ov_lig_dp_it',\n",
       " 'https://www.amazon.es/dp/B0BHTQLM4K/?coliid=I3K0WK0E8833FG&colid=5M7C23FQFP2M&psc=1&ref_=list_c_wl_lv_ov_lig_dp_it',\n",
       " 'https://www.amazon.es/dp/B095YN4TML/?coliid=I1SC0K0B6JWK2D&colid=5M7C23FQFP2M&psc=1&ref_=list_c_wl_lv_ov_lig_dp_it',\n",
       " 'https://www.amazon.es/dp/B0BV6TXW8W/?coliid=I1GIDOWFQTC9CA&colid=5M7C23FQFP2M&psc=1&ref_=list_c_wl_lv_ov_lig_dp_it',\n",
       " 'https://www.amazon.es/dp/B09WZNL9FP/?coliid=I4OXYSIKA9E2K&colid=5M7C23FQFP2M&psc=1&ref_=list_c_wl_lv_ov_lig_dp_it',\n",
       " 'https://www.amazon.es/dp/B0888P87V2/?coliid=I14A4LCXTBYVZE&colid=5M7C23FQFP2M&psc=1&ref_=list_c_wl_lv_ov_lig_dp_it',\n",
       " 'https://www.amazon.es/dp/B0C4P9W7KD/?coliid=I3I3781CNG5HGU&colid=5M7C23FQFP2M&psc=1&ref_=list_c_wl_lv_ov_lig_dp_it',\n",
       " 'https://www.amazon.es/dp/B010RXXY48/?coliid=I1WYVYF76KBAAE&colid=5M7C23FQFP2M&psc=1&ref_=list_c_wl_lv_ov_lig_dp_it',\n",
       " 'https://www.amazon.es/dp/B0BPY7HSC4/?coliid=I3D0AJU945I5BL&colid=5M7C23FQFP2M&psc=1&ref_=list_c_wl_lv_ov_lig_dp_it',\n",
       " 'https://www.amazon.es/dp/B0B59NW3V2/?coliid=I3LG935PKYLAPV&colid=5M7C23FQFP2M&psc=1&ref_=list_c_wl_lv_ov_lig_dp_it',\n",
       " 'https://www.amazon.es/dp/B0B6ZVSQ1N/?coliid=I3ENM0QVH22TQ0&colid=5M7C23FQFP2M&psc=1&ref_=list_c_wl_lv_ov_lig_dp_it',\n",
       " 'https://www.amazon.es/dp/B0814Y7KFD/?coliid=I5RTGA0AV107P&colid=5M7C23FQFP2M&psc=1&ref_=list_c_wl_lv_ov_lig_dp_it',\n",
       " 'https://www.amazon.es/dp/B00INSX904/?coliid=I6P8IKGN1V0BO&colid=5M7C23FQFP2M&psc=1&ref_=list_c_wl_lv_ov_lig_dp_it',\n",
       " 'https://www.amazon.es/dp/B0BQSS5RKM/?coliid=I3V9MPVECH5UVM&colid=5M7C23FQFP2M&psc=1&ref_=list_c_wl_lv_ov_lig_dp_it',\n",
       " 'https://www.amazon.es/dp/B0BBH27L1S/?coliid=I35QNC9SEKIWFE&colid=5M7C23FQFP2M&psc=1&ref_=list_c_wl_lv_ov_lig_dp_it',\n",
       " 'https://www.amazon.es/dp/B0BL1PYL4Z/?coliid=IQ5CYT295FC3E&colid=5M7C23FQFP2M&psc=0&ref_=list_c_wl_lv_ov_lig_dp_it',\n",
       " 'https://www.amazon.es/dp/B0C7X5Q6R1/?coliid=I1T2HKKE978IMS&colid=5M7C23FQFP2M&psc=1&ref_=list_c_wl_lv_ov_lig_dp_it',\n",
       " 'https://www.amazon.es/dp/B09MTTYZP1/?coliid=I1A0VJKZC9O71X&colid=5M7C23FQFP2M&psc=1&ref_=list_c_wl_lv_ov_lig_dp_it',\n",
       " 'https://www.amazon.es/dp/B0BZJK1ZTY/?coliid=IO9YP9UU7PQ0B&colid=5M7C23FQFP2M&psc=1&ref_=list_c_wl_lv_ov_lig_dp_it']"
      ]
     },
     "execution_count": 21,
     "metadata": {},
     "output_type": "execute_result"
    }
   ],
   "source": [
    "from selenium import webdriver\n",
    "from selenium.webdriver.common.by import By\n",
    "\n",
    "# Inicia el navegador (asegúrate de tener el driver correspondiente instalado y en el PATH)\n",
    "\n",
    "# Encuentra todos los elementos <h2>\n",
    "h2_elements = driver.find_elements(By.XPATH, '//h2')\n",
    "\n",
    "# Inicializa una lista para almacenar las URLs encontradas\n",
    "all_urls = []\n",
    "\n",
    "# Itera sobre los elementos <h2> y encuentra los elementos <a> dentro de cada uno\n",
    "for h2_element in h2_elements:\n",
    "    # Encuentra los elementos <a> dentro del elemento <h2>\n",
    "    a_elements = h2_element.find_elements(By.XPATH, './/a[@href]')\n",
    "    \n",
    "    # Extrae las URLs de los elementos <a> y las agrega a la lista\n",
    "    urls = [a.get_attribute('href') for a in a_elements]\n",
    "    all_urls.extend(urls)\n",
    "\n",
    "# Imprime las URLs encontradas\n",
    "all_urls\n",
    "# Cierra el navegador\n"
   ]
  },
  {
   "cell_type": "code",
   "execution_count": 10,
   "metadata": {},
   "outputs": [
    {
     "data": {
      "text/plain": [
       "88"
      ]
     },
     "execution_count": 10,
     "metadata": {},
     "output_type": "execute_result"
    }
   ],
   "source": [
    "len(all_urls)"
   ]
  },
  {
   "cell_type": "code",
   "execution_count": 65,
   "metadata": {},
   "outputs": [
    {
     "data": {
      "text/plain": [
       "['https://www.amazon.es/dp/B0CDMXJ7N6/?coliid=I120B7QWX1XSQG&colid=5M7C23FQFP2M&psc=1&ref_=list_c_wl_lv_ov_lig_dp_it_im',\n",
       " 'https://www.amazon.es/dp/B0CDMXJ7N6/?coliid=I120B7QWX1XSQG&colid=5M7C23FQFP2M&psc=1&ref_=list_c_wl_lv_ov_lig_dp_it',\n",
       " 'https://www.amazon.es/dp/B0BZQVWYHT/?coliid=I2TH4E7HPLITPG&colid=5M7C23FQFP2M&psc=0&ref_=list_c_wl_lv_ov_lig_dp_it_im',\n",
       " 'https://www.amazon.es/dp/B0BZQVWYHT/?coliid=I2TH4E7HPLITPG&colid=5M7C23FQFP2M&psc=0&ref_=list_c_wl_lv_ov_lig_dp_it',\n",
       " 'https://www.amazon.es/dp/B0BK94F97M/?coliid=I1SSAV2TNBFDPQ&colid=5M7C23FQFP2M&psc=1&ref_=list_c_wl_lv_ov_lig_dp_it_im',\n",
       " 'https://www.amazon.es/dp/B0BK94F97M/?coliid=I1SSAV2TNBFDPQ&colid=5M7C23FQFP2M&psc=1&ref_=list_c_wl_lv_ov_lig_dp_it',\n",
       " 'https://www.amazon.es/dp/B09NMBJSCL/?coliid=I3D4ROYTWMHHOF&colid=5M7C23FQFP2M&psc=1&ref_=list_c_wl_lv_ov_lig_dp_it_im',\n",
       " 'https://www.amazon.es/dp/B09NMBJSCL/?coliid=I3D4ROYTWMHHOF&colid=5M7C23FQFP2M&psc=1&ref_=list_c_wl_lv_ov_lig_dp_it',\n",
       " 'https://www.amazon.es/dp/B09XXXZNB5/?coliid=I1L0FS89891ULR&colid=5M7C23FQFP2M&psc=1&ref_=list_c_wl_lv_ov_lig_dp_it_im',\n",
       " 'https://www.amazon.es/dp/B09XXXZNB5/?coliid=I1L0FS89891ULR&colid=5M7C23FQFP2M&psc=1&ref_=list_c_wl_lv_ov_lig_dp_it',\n",
       " 'https://www.amazon.es/dp/B086D26RCX/?coliid=I51I013S5RX28&colid=5M7C23FQFP2M&psc=1&ref_=list_c_wl_lv_ov_lig_dp_it_im',\n",
       " 'https://www.amazon.es/dp/B086D26RCX/?coliid=I51I013S5RX28&colid=5M7C23FQFP2M&psc=1&ref_=list_c_wl_lv_ov_lig_dp_it',\n",
       " 'https://www.amazon.es/dp/B086BR2Y7H/?coliid=I1IZ3XXKQC8RX1&colid=5M7C23FQFP2M&psc=1&ref_=list_c_wl_lv_ov_lig_dp_it_im',\n",
       " 'https://www.amazon.es/dp/B086BR2Y7H/?coliid=I1IZ3XXKQC8RX1&colid=5M7C23FQFP2M&psc=1&ref_=list_c_wl_lv_ov_lig_dp_it',\n",
       " 'https://www.amazon.es/dp/B08F2TKVHN/?coliid=I21046DT19AWC6&colid=5M7C23FQFP2M&psc=1&ref_=list_c_wl_lv_ov_lig_dp_it_im',\n",
       " 'https://www.amazon.es/dp/B08F2TKVHN/?coliid=I21046DT19AWC6&colid=5M7C23FQFP2M&psc=1&ref_=list_c_wl_lv_ov_lig_dp_it',\n",
       " 'https://www.amazon.es/dp/B0865YZWGP/?coliid=I268ZE7PBUJ9Q&colid=5M7C23FQFP2M&psc=1&ref_=list_c_wl_lv_ov_lig_dp_it_im',\n",
       " 'https://www.amazon.es/dp/B0865YZWGP/?coliid=I268ZE7PBUJ9Q&colid=5M7C23FQFP2M&psc=1&ref_=list_c_wl_lv_ov_lig_dp_it',\n",
       " 'https://www.amazon.es/dp/B00BFAHLLK/?coliid=I2WAL0DMJ7QYIB&colid=5M7C23FQFP2M&psc=1&ref_=list_c_wl_lv_ov_lig_dp_it_im',\n",
       " 'https://www.amazon.es/dp/B00BFAHLLK/?coliid=I2WAL0DMJ7QYIB&colid=5M7C23FQFP2M&psc=1&ref_=list_c_wl_lv_ov_lig_dp_it',\n",
       " 'https://www.amazon.es/product-reviews/B0BZQVWYHT/ref=acr_wishlistList_hist_5?ie=UTF8&filterByStar=five_star&reviewerType=all_reviews#reviews-filter-bar',\n",
       " 'https://www.amazon.es/product-reviews/B0BZQVWYHT/ref=acr_wishlistList_hist_5?ie=UTF8&filterByStar=five_star&reviewerType=all_reviews#reviews-filter-bar',\n",
       " 'https://www.amazon.es/product-reviews/B0BZQVWYHT/ref=acr_wishlistList_hist_5?ie=UTF8&filterByStar=five_star&reviewerType=all_reviews#reviews-filter-bar',\n",
       " 'https://www.amazon.es/product-reviews/B0BZQVWYHT/ref=acr_wishlistList_hist_4?ie=UTF8&filterByStar=four_star&reviewerType=all_reviews#reviews-filter-bar',\n",
       " 'https://www.amazon.es/product-reviews/B0BZQVWYHT/ref=acr_wishlistList_hist_4?ie=UTF8&filterByStar=four_star&reviewerType=all_reviews#reviews-filter-bar',\n",
       " 'https://www.amazon.es/product-reviews/B0BZQVWYHT/ref=acr_wishlistList_hist_4?ie=UTF8&filterByStar=four_star&reviewerType=all_reviews#reviews-filter-bar',\n",
       " 'https://www.amazon.es/product-reviews/B0BZQVWYHT/ref=acr_wishlistList_hist_3?ie=UTF8&filterByStar=three_star&reviewerType=all_reviews#reviews-filter-bar',\n",
       " 'https://www.amazon.es/product-reviews/B0BZQVWYHT/ref=acr_wishlistList_hist_3?ie=UTF8&filterByStar=three_star&reviewerType=all_reviews#reviews-filter-bar',\n",
       " 'https://www.amazon.es/product-reviews/B0BZQVWYHT/ref=acr_wishlistList_hist_3?ie=UTF8&filterByStar=three_star&reviewerType=all_reviews#reviews-filter-bar',\n",
       " 'https://www.amazon.es/product-reviews/B0BZQVWYHT/ref=acr_wishlistList_hist_1?ie=UTF8&filterByStar=one_star&reviewerType=all_reviews#reviews-filter-bar',\n",
       " 'https://www.amazon.es/product-reviews/B0BZQVWYHT/ref=acr_wishlistList_hist_1?ie=UTF8&filterByStar=one_star&reviewerType=all_reviews#reviews-filter-bar',\n",
       " 'https://www.amazon.es/product-reviews/B0BZQVWYHT/ref=acr_wishlistList_hist_1?ie=UTF8&filterByStar=one_star&reviewerType=all_reviews#reviews-filter-bar']"
      ]
     },
     "execution_count": 65,
     "metadata": {},
     "output_type": "execute_result"
    }
   ],
   "source": [
    "urls = "
   ]
  },
  {
   "cell_type": "code",
   "execution_count": null,
   "metadata": {},
   "outputs": [],
   "source": [
    "num_capturas = 374  \n",
    "\n",
    "product_ids = [1,2,4,3,103,104,102,100,96,95,94,93,92,91,90,89,88,87,86,85,84,83,82,81,80,79,78,77,76,75,74,73,72]\n",
    "\n",
    "reader = easyocr.Reader(['en'])\n",
    "\n",
    "for i in range(len(urls)):\n",
    "    driver = webdriver.Chrome(ChromeDriverManager().install(), options=chrome_options)\n",
    "    driver.get(urls[i])\n",
    "    \n",
    "    x = 80\n",
    "    y = 925\n",
    "\n",
    "    time.sleep(4)\n",
    "\n",
    "    pyautogui.click(x, y)\n",
    "\n",
    "    time.sleep(2)\n",
    "\n",
    "    pyautogui.click(x, y)\n",
    "\n",
    "    x_inicial = 112\n",
    "    y_inicial = 495\n",
    "\n",
    "    with open(f'extracciones_worten2.csv', 'a', newline='') as csvfile:\n",
    "        csv_writer = csv.writer(csvfile)\n",
    "        product_id = product_ids[i]\n",
    "        product_url = urls[i]\n",
    "        shop_id = 1\n",
    "        # Añadir una columna \"Product ID\"\n",
    "        csv_writer.writerow(['Product ID', 'N_Extracción', 'Fecha', 'Precio', 'Shop_id', 'product_url', 'texto_entreno'])  # Encabezado del CSV\n",
    "\n",
    "        for j in range(num_capturas):\n",
    "            # Definir las coordenadas de recorte (a, b, width, height)\n",
    "            a, b, width, height = (110, 370, 750, 48)\n",
    "\n",
    "            # Mueve el ratón a la nueva posición\n",
    "            pyautogui.moveTo(x_inicial, y_inicial)\n",
    "            \n",
    "            # Toma una captura de pantalla\n",
    "            screenshot = driver.get_screenshot_as_png()\n",
    "            image = Image.open(BytesIO(screenshot))\n",
    "\n",
    "            # Recorta la imagen y guárdala con un número distinto cada vez\n",
    "            image_cortada = image.crop((a, b, a + width, b + height))\n",
    "            image_cortada.save(f\"ventana_flotante_{i}_{j}.png\")\n",
    "\n",
    "            texto_extraído = reader.readtext(f\"ventana_flotante_{i}_{j}.png\")\n",
    "\n",
    "            fecha = \"0\"\n",
    "            precio = 0.0\n",
    "\n",
    "            try:\n",
    "    # Intentar extraer la fecha\n",
    "                fecha = texto_extraído[0][1].replace('.', ':')  # Formatear la fecha si es necesario\n",
    "\n",
    "    # Intentar extraer el precio y formatearlo\n",
    "                precio_str = texto_extraído[1][1].split(' ')[0]  # Eliminar el símbolo de euro\n",
    "                precio = precio_str.replace(',', '.')  # Convertir ',' a '.' y redondear a dos decimales\n",
    "\n",
    "            except IndexError:\n",
    "    # Manejar la excepción si hay un error de índice\n",
    "                fecha = \"0\"\n",
    "                precio = 0.0\n",
    "\n",
    "            csv_writer.writerow([product_id, f\"Extracción {j}\", fecha, precio, shop_id, product_url, texto_extraído])\n",
    "\n",
    "            os.remove(f\"ventana_flotante_{i}_{j}.png\")\n",
    "\n",
    "            x_inicial += 1.95\n",
    "\n",
    "\n",
    "    driver.quit()\n",
    "\n",
    "# Cierra el navegador al final de todas las repeticiones\n",
    "driver.quit()"
   ]
  },
  {
   "cell_type": "code",
   "execution_count": 16,
   "metadata": {},
   "outputs": [],
   "source": [
    "df = pd.read_csv('../data/CSV/extracciones_worten1.csv')"
   ]
  },
  {
   "cell_type": "code",
   "execution_count": 17,
   "metadata": {},
   "outputs": [],
   "source": [
    "df = df[['Product ID', 'N_Extracci�n', 'Fecha', 'Precio', 'Shop_id', 'product_url']]\n"
   ]
  },
  {
   "cell_type": "code",
   "execution_count": 18,
   "metadata": {},
   "outputs": [],
   "source": [
    "df.to_csv('extracciones_worten_final_1.csv')"
   ]
  }
 ],
 "metadata": {
  "kernelspec": {
   "display_name": "Python 3",
   "language": "python",
   "name": "python3"
  },
  "language_info": {
   "codemirror_mode": {
    "name": "ipython",
    "version": 3
   },
   "file_extension": ".py",
   "mimetype": "text/x-python",
   "name": "python",
   "nbconvert_exporter": "python",
   "pygments_lexer": "ipython3",
   "version": "3.11.6"
  }
 },
 "nbformat": 4,
 "nbformat_minor": 2
}
