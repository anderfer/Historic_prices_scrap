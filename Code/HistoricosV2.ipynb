{
 "cells": [
  {
   "cell_type": "code",
   "execution_count": 117,
   "metadata": {},
   "outputs": [],
   "source": [
    "from selenium import webdriver\n",
    "from selenium.webdriver.common.by import By\n",
    "from selenium.webdriver.common.keys import Keys\n",
    "from webdriver_manager.chrome import ChromeDriverManager\n",
    "from selenium.webdriver.common.action_chains import ActionChains\n",
    "from selenium.common.exceptions import NoSuchElementException\n",
    "from PIL import Image\n",
    "from io import BytesIO\n",
    "import pytesseract\n",
    "import pyautogui\n",
    "import csv\n",
    "import os\n",
    "import time\n",
    "import re\n",
    "import pandas as pd\n",
    "pytesseract.pytesseract.tesseract_cmd = r'C:\\Archivos de programa\\Tesseract-OCR\\tesseract.exe'\n",
    "path = r\"C:\\Users\\ferna\\Desktop\\IRONHACK\\Web Scraping\\your-code\\driver\\chromedriver.exe\"\n",
    "\n",
    "chrome_options = webdriver.ChromeOptions()\n",
    "chrome_options.add_extension(r'driver/Chollometro-Info-de-precios-alertas-y-más.crx')\n",
    "chrome_options.add_argument(r'user-data-dir=C:\\Users\\ferna\\Desktop\\IRONHACK\\Web Scraping\\your-code\\cookies') \n",
    "chrome_options.add_argument('--start-maximized')\n"
   ]
  },
  {
   "cell_type": "code",
   "execution_count": null,
   "metadata": {},
   "outputs": [],
   "source": [
    "## EXTRACCION WISHLIST MEDIAMARKT"
   ]
  },
  {
   "cell_type": "code",
   "execution_count": 77,
   "metadata": {},
   "outputs": [
    {
     "name": "stderr",
     "output_type": "stream",
     "text": [
      "C:\\Users\\ferna\\AppData\\Local\\Temp\\ipykernel_19316\\3414075825.py:1: DeprecationWarning: executable_path has been deprecated, please pass in a Service object\n",
      "  driver = webdriver.Chrome(ChromeDriverManager().install(), options=chrome_options)\n"
     ]
    }
   ],
   "source": [
    "driver = webdriver.Chrome(ChromeDriverManager().install(), options=chrome_options)\n",
    "url = 'https://www.mediamarkt.es/es/myaccount/wishlist'\n",
    "driver.get(url)\n"
   ]
  },
  {
   "cell_type": "code",
   "execution_count": 78,
   "metadata": {},
   "outputs": [],
   "source": [
    "for _ in range(16):  \n",
    "    mas_productos = driver.find_element(By.CSS_SELECTOR, \"div.sc-490debc5-0.jhMMyN > div > div.sc-b059e63d-0.ieqQPD > div.sc-ee3c983c-0.gERmRW > div > div > button\").click()\n",
    "    time.sleep(0.75)"
   ]
  },
  {
   "cell_type": "code",
   "execution_count": 79,
   "metadata": {},
   "outputs": [],
   "source": [
    "time.sleep(0.5)\n",
    "wishlist = driver.find_elements(By.CSS_SELECTOR, \"a.sc-db43135e-1.gpEOUZ.sc-bbf5ad0d-0.gVPHRt[data-test='wishlist-tile-product-link']\")\n",
    "matching_urls = [item.get_attribute('href') for item in wishlist]\n",
    "\n"
   ]
  },
  {
   "cell_type": "code",
   "execution_count": 81,
   "metadata": {},
   "outputs": [
    {
     "data": {
      "text/plain": [
       "100"
      ]
     },
     "execution_count": 81,
     "metadata": {},
     "output_type": "execute_result"
    }
   ],
   "source": [
    "len(wishlist)"
   ]
  },
  {
   "cell_type": "code",
   "execution_count": 47,
   "metadata": {},
   "outputs": [],
   "source": [
    "mas_productos = driver.find_element(By.CSS_SELECTOR, \"div.sc-490debc5-0.jhMMyN > div > div.sc-b059e63d-0.ieqQPD > div.sc-ee3c983c-0.gERmRW > div > div > button\").click()\n",
    "mas_productos = driver.find_element(By.CSS_SELECTOR, \"div.sc-490debc5-0.jhMMyN > div > div.sc-b059e63d-0.ieqQPD > div.sc-ee3c983c-0.gERmRW > div > div > button\").click()\n",
    "mas_productos = driver.find_element(By.CSS_SELECTOR, \"div.sc-490debc5-0.jhMMyN > div > div.sc-b059e63d-0.ieqQPD > div.sc-ee3c983c-0.gERmRW > div > div > button\").click()\n",
    "mas_productos = driver.find_element(By.CSS_SELECTOR, \"div.sc-490debc5-0.jhMMyN > div > div.sc-b059e63d-0.ieqQPD > div.sc-ee3c983c-0.gERmRW > div > div > button\").click()\n",
    "mas_productos = driver.find_element(By.CSS_SELECTOR, \"div.sc-490debc5-0.jhMMyN > div > div.sc-b059e63d-0.ieqQPD > div.sc-ee3c983c-0.gERmRW > div > div > button\").click()\n",
    "mas_productos = driver.find_element(By.CSS_SELECTOR, \"div.sc-490debc5-0.jhMMyN > div > div.sc-b059e63d-0.ieqQPD > div.sc-ee3c983c-0.gERmRW > div > div > button\").click()\n",
    "mas_productos = driver.find_element(By.CSS_SELECTOR, \"div.sc-490debc5-0.jhMMyN > div > div.sc-b059e63d-0.ieqQPD > div.sc-ee3c983c-0.gERmRW > div > div > button\").click()\n",
    "mas_productos = driver.find_element(By.CSS_SELECTOR, \"div.sc-490debc5-0.jhMMyN > div > div.sc-b059e63d-0.ieqQPD > div.sc-ee3c983c-0.gERmRW > div > div > button\").click()\n",
    "mas_productos = driver.find_element(By.CSS_SELECTOR, \"div.sc-490debc5-0.jhMMyN > div > div.sc-b059e63d-0.ieqQPD > div.sc-ee3c983c-0.gERmRW > div > div > button\").click()\n",
    "mas_productos = driver.find_element(By.CSS_SELECTOR, \"div.sc-490debc5-0.jhMMyN > div > div.sc-b059e63d-0.ieqQPD > div.sc-ee3c983c-0.gERmRW > div > div > button\").click()\n",
    "mas_productos = driver.find_element(By.CSS_SELECTOR, \"div.sc-490debc5-0.jhMMyN > div > div.sc-b059e63d-0.ieqQPD > div.sc-ee3c983c-0.gERmRW > div > div > button\").click()\n",
    "mas_productos = driver.find_element(By.CSS_SELECTOR, \"div.sc-490debc5-0.jhMMyN > div > div.sc-b059e63d-0.ieqQPD > div.sc-ee3c983c-0.gERmRW > div > div > button\").click()\n",
    "mas_productos = driver.find_element(By.CSS_SELECTOR, \"div.sc-490debc5-0.jhMMyN > div > div.sc-b059e63d-0.ieqQPD > div.sc-ee3c983c-0.gERmRW > div > div > button\").click()\n",
    "mas_productos = driver.find_element(By.CSS_SELECTOR, \"div.sc-490debc5-0.jhMMyN > div > div.sc-b059e63d-0.ieqQPD > div.sc-ee3c983c-0.gERmRW > div > div > button\").click()\n",
    "mas_productos = driver.find_element(By.CSS_SELECTOR, \"div.sc-490debc5-0.jhMMyN > div > div.sc-b059e63d-0.ieqQPD > div.sc-ee3c983c-0.gERmRW > div > div > button\").click()\n",
    "mas_productos = driver.find_element(By.CSS_SELECTOR, \"div.sc-490debc5-0.jhMMyN > div > div.sc-b059e63d-0.ieqQPD > div.sc-ee3c983c-0.gERmRW > div > div > button\").click()"
   ]
  },
  {
   "cell_type": "code",
   "execution_count": 29,
   "metadata": {},
   "outputs": [],
   "source": [
    "wishlist = driver.find_elements(By.CSS_SELECTOR, \"a.sc-db43135e-1.gpEOUZ.sc-bbf5ad0d-0.gVPHRt[data-test='wishlist-tile-product-link']\")[1].click()\n"
   ]
  },
  {
   "cell_type": "code",
   "execution_count": 25,
   "metadata": {},
   "outputs": [
    {
     "ename": "TypeError",
     "evalue": "object of type 'WebElement' has no len()",
     "output_type": "error",
     "traceback": [
      "\u001b[1;31m---------------------------------------------------------------------------\u001b[0m",
      "\u001b[1;31mTypeError\u001b[0m                                 Traceback (most recent call last)",
      "\u001b[1;32mc:\\Users\\ferna\\Desktop\\IRONHACK\\Historic_prices_scrap\\Code\\HistoricosV2.ipynb Cell 5\u001b[0m line \u001b[0;36m1\n\u001b[1;32m----> <a href='vscode-notebook-cell:/c%3A/Users/ferna/Desktop/IRONHACK/Historic_prices_scrap/Code/HistoricosV2.ipynb#X10sZmlsZQ%3D%3D?line=0'>1</a>\u001b[0m \u001b[39mlen\u001b[39;49m(wishlist)\n",
      "\u001b[1;31mTypeError\u001b[0m: object of type 'WebElement' has no len()"
     ]
    }
   ],
   "source": [
    "product_ids = [64, 65, 68, 70, 86, 98, 8, 1, 2, 4, 3, 103, 104, 102, 101, 100, 96, 95, 94, 93, 92, 91, 90, 89, 88, 85, 84, 83, 82, 80, 79, 78, 77, 76, 75, 74, 73, 72, 71, 69, 67, 66, 63, 62, 61, 60, 59, 58, 57, 56, 55, 54, 53, 52, 51, 50, 49, 48, 47, 46, 45, 44, 43, 42, 41, 40, 39,38,37,36,35,34,33,32,31,30,29,28,27,26,25,24,23,22,21,20,19,18,17,16,15,14,13,12,11,10,9,7,6,5]"
   ]
  },
  {
   "cell_type": "code",
   "execution_count": 119,
   "metadata": {},
   "outputs": [
    {
     "ename": "TypeError",
     "evalue": "object of type 'WebElement' has no len()",
     "output_type": "error",
     "traceback": [
      "\u001b[1;31m---------------------------------------------------------------------------\u001b[0m",
      "\u001b[1;31mTypeError\u001b[0m                                 Traceback (most recent call last)",
      "\u001b[1;32mc:\\Users\\ferna\\Desktop\\IRONHACK\\Historic_prices_scrap\\Code\\HistoricosV2.ipynb Cell 10\u001b[0m line \u001b[0;36m1\n\u001b[1;32m----> <a href='vscode-notebook-cell:/c%3A/Users/ferna/Desktop/IRONHACK/Historic_prices_scrap/Code/HistoricosV2.ipynb#X11sZmlsZQ%3D%3D?line=0'>1</a>\u001b[0m \u001b[39mlen\u001b[39;49m(wishlist)\n",
      "\u001b[1;31mTypeError\u001b[0m: object of type 'WebElement' has no len()"
     ]
    }
   ],
   "source": [
    "len(wishlist)"
   ]
  },
  {
   "cell_type": "code",
   "execution_count": 187,
   "metadata": {},
   "outputs": [
    {
     "data": {
      "text/plain": [
       "10"
      ]
     },
     "execution_count": 187,
     "metadata": {},
     "output_type": "execute_result"
    }
   ],
   "source": [
    "##product_ids = [65, 68, 70, 86, 98, 8, 1, 2, 4, 3, 103, 104, 102, 101, 100, 96, 95, 94, 93, 92, 91, 90, 89, 88, 85, 84, 83, 82, 80, 79, 78, 77, 76, 75, 74, 73, 72, 71, 69, 67, 66, 63, 62, 61, 60, 59, 58, 57, 56, 55, 54, 53, 52, 51, 50, 49, 48, 47, 46, 45, 44, 43, 42, 41, 40, 39,38,37,36,35,34,33,32,31,30,29,28,27,26,25,24,23,22,21,20,19,18,17,16,15,14,13,12,11,10,9,7,6,5]\n",
    "\n",
    "product_ids = [15,14,13,12,11,10,9,7,6,5]\n",
    "\n",
    "len(product_ids)"
   ]
  },
  {
   "cell_type": "code",
   "execution_count": 198,
   "metadata": {},
   "outputs": [
    {
     "name": "stderr",
     "output_type": "stream",
     "text": [
      "C:\\Users\\ferna\\AppData\\Local\\Temp\\ipykernel_10364\\2521338005.py:1: DeprecationWarning: executable_path has been deprecated, please pass in a Service object\n",
      "  driver = webdriver.Chrome(ChromeDriverManager().install(), options=chrome_options)\n"
     ]
    },
    {
     "name": "stdout",
     "output_type": "stream",
     "text": [
      "La extensión no fue encontrada. Regresando a la pantalla anterior.\n",
      "La extensión no fue encontrada. Regresando a la pantalla anterior.\n",
      "La extensión no fue encontrada. Regresando a la pantalla anterior.\n"
     ]
    },
    {
     "ename": "ElementClickInterceptedException",
     "evalue": "Message: element click intercepted: Element <button type=\"button\" aria-disabled=\"false\" class=\"sc-21f2092b-1 iCqLfA\" translate=\"no\" data-test=\"wishlist-loadMore\" aria-label=\"Cargar otros artículos\">...</button> is not clickable at point (631, 305). Other element would receive the click: <div class=\"sc-835d3f28-0 kTdeVZ\">...</div>\n  (Session info: chrome=119.0.6045.160)\nStacktrace:\n\tGetHandleVerifier [0x012272A3+45731]\n\t(No symbol) [0x011B2D51]\n\t(No symbol) [0x010A880D]\n\t(No symbol) [0x010E07AB]\n\t(No symbol) [0x010DF2AF]\n\t(No symbol) [0x010DD89B]\n\t(No symbol) [0x010DCBA1]\n\t(No symbol) [0x010D4FC0]\n\t(No symbol) [0x010F7FDC]\n\t(No symbol) [0x010D4A4E]\n\t(No symbol) [0x010F8254]\n\t(No symbol) [0x0110B7A2]\n\t(No symbol) [0x010F7DD6]\n\t(No symbol) [0x010D31F6]\n\t(No symbol) [0x010D439D]\n\tGetHandleVerifier [0x01530716+3229462]\n\tGetHandleVerifier [0x015784C8+3523784]\n\tGetHandleVerifier [0x0157214C+3498316]\n\tGetHandleVerifier [0x012B1680+611968]\n\t(No symbol) [0x011BCCCC]\n\t(No symbol) [0x011B8DF8]\n\t(No symbol) [0x011B8F1D]\n\t(No symbol) [0x011AB2C7]\n\tBaseThreadInitThunk [0x75E6FCC9+25]\n\tRtlGetAppContainerNamedObjectPath [0x76F47C6E+286]\n\tRtlGetAppContainerNamedObjectPath [0x76F47C3E+238]\n",
     "output_type": "error",
     "traceback": [
      "\u001b[1;31m---------------------------------------------------------------------------\u001b[0m",
      "\u001b[1;31mElementClickInterceptedException\u001b[0m          Traceback (most recent call last)",
      "\u001b[1;32mc:\\Users\\ferna\\Desktop\\IRONHACK\\Historic_prices_scrap\\Code\\HistoricosV2.ipynb Cell 12\u001b[0m line \u001b[0;36m3\n\u001b[0;32m     <a href='vscode-notebook-cell:/c%3A/Users/ferna/Desktop/IRONHACK/Historic_prices_scrap/Code/HistoricosV2.ipynb#W2sZmlsZQ%3D%3D?line=29'>30</a>\u001b[0m time\u001b[39m.\u001b[39msleep(\u001b[39m2\u001b[39m)\n\u001b[0;32m     <a href='vscode-notebook-cell:/c%3A/Users/ferna/Desktop/IRONHACK/Historic_prices_scrap/Code/HistoricosV2.ipynb#W2sZmlsZQ%3D%3D?line=31'>32</a>\u001b[0m \u001b[39mfor\u001b[39;00m _ \u001b[39min\u001b[39;00m \u001b[39mrange\u001b[39m(\u001b[39m16\u001b[39m):  \u001b[39m# ## Clickar para mostrar todos los productos del wishlist\u001b[39;00m\n\u001b[1;32m---> <a href='vscode-notebook-cell:/c%3A/Users/ferna/Desktop/IRONHACK/Historic_prices_scrap/Code/HistoricosV2.ipynb#W2sZmlsZQ%3D%3D?line=32'>33</a>\u001b[0m     mas_productos \u001b[39m=\u001b[39m driver\u001b[39m.\u001b[39;49mfind_element(By\u001b[39m.\u001b[39;49mCSS_SELECTOR, \u001b[39m\"\u001b[39;49m\u001b[39mdiv.sc-490debc5-0.jhMMyN > div > div.sc-b059e63d-0.ieqQPD > div.sc-ee3c983c-0.gERmRW > div > div > button\u001b[39;49m\u001b[39m\"\u001b[39;49m)\u001b[39m.\u001b[39;49mclick()\n\u001b[0;32m     <a href='vscode-notebook-cell:/c%3A/Users/ferna/Desktop/IRONHACK/Historic_prices_scrap/Code/HistoricosV2.ipynb#W2sZmlsZQ%3D%3D?line=33'>34</a>\u001b[0m     time\u001b[39m.\u001b[39msleep(\u001b[39m1\u001b[39m)\n\u001b[0;32m     <a href='vscode-notebook-cell:/c%3A/Users/ferna/Desktop/IRONHACK/Historic_prices_scrap/Code/HistoricosV2.ipynb#W2sZmlsZQ%3D%3D?line=35'>36</a>\u001b[0m time\u001b[39m.\u001b[39msleep(\u001b[39m1\u001b[39m)\n",
      "File \u001b[1;32m~\\AppData\\Local\\Packages\\PythonSoftwareFoundation.Python.3.11_qbz5n2kfra8p0\\LocalCache\\local-packages\\Python311\\site-packages\\selenium\\webdriver\\remote\\webelement.py:93\u001b[0m, in \u001b[0;36mWebElement.click\u001b[1;34m(self)\u001b[0m\n\u001b[0;32m     91\u001b[0m \u001b[39mdef\u001b[39;00m \u001b[39mclick\u001b[39m(\u001b[39mself\u001b[39m) \u001b[39m-\u001b[39m\u001b[39m>\u001b[39m \u001b[39mNone\u001b[39;00m:\n\u001b[0;32m     92\u001b[0m \u001b[39m    \u001b[39m\u001b[39m\"\"\"Clicks the element.\"\"\"\u001b[39;00m\n\u001b[1;32m---> 93\u001b[0m     \u001b[39mself\u001b[39;49m\u001b[39m.\u001b[39;49m_execute(Command\u001b[39m.\u001b[39;49mCLICK_ELEMENT)\n",
      "File \u001b[1;32m~\\AppData\\Local\\Packages\\PythonSoftwareFoundation.Python.3.11_qbz5n2kfra8p0\\LocalCache\\local-packages\\Python311\\site-packages\\selenium\\webdriver\\remote\\webelement.py:410\u001b[0m, in \u001b[0;36mWebElement._execute\u001b[1;34m(self, command, params)\u001b[0m\n\u001b[0;32m    408\u001b[0m     params \u001b[39m=\u001b[39m {}\n\u001b[0;32m    409\u001b[0m params[\u001b[39m\"\u001b[39m\u001b[39mid\u001b[39m\u001b[39m\"\u001b[39m] \u001b[39m=\u001b[39m \u001b[39mself\u001b[39m\u001b[39m.\u001b[39m_id\n\u001b[1;32m--> 410\u001b[0m \u001b[39mreturn\u001b[39;00m \u001b[39mself\u001b[39;49m\u001b[39m.\u001b[39;49m_parent\u001b[39m.\u001b[39;49mexecute(command, params)\n",
      "File \u001b[1;32m~\\AppData\\Local\\Packages\\PythonSoftwareFoundation.Python.3.11_qbz5n2kfra8p0\\LocalCache\\local-packages\\Python311\\site-packages\\selenium\\webdriver\\remote\\webdriver.py:444\u001b[0m, in \u001b[0;36mWebDriver.execute\u001b[1;34m(self, driver_command, params)\u001b[0m\n\u001b[0;32m    442\u001b[0m response \u001b[39m=\u001b[39m \u001b[39mself\u001b[39m\u001b[39m.\u001b[39mcommand_executor\u001b[39m.\u001b[39mexecute(driver_command, params)\n\u001b[0;32m    443\u001b[0m \u001b[39mif\u001b[39;00m response:\n\u001b[1;32m--> 444\u001b[0m     \u001b[39mself\u001b[39;49m\u001b[39m.\u001b[39;49merror_handler\u001b[39m.\u001b[39;49mcheck_response(response)\n\u001b[0;32m    445\u001b[0m     response[\u001b[39m\"\u001b[39m\u001b[39mvalue\u001b[39m\u001b[39m\"\u001b[39m] \u001b[39m=\u001b[39m \u001b[39mself\u001b[39m\u001b[39m.\u001b[39m_unwrap_value(response\u001b[39m.\u001b[39mget(\u001b[39m\"\u001b[39m\u001b[39mvalue\u001b[39m\u001b[39m\"\u001b[39m, \u001b[39mNone\u001b[39;00m))\n\u001b[0;32m    446\u001b[0m     \u001b[39mreturn\u001b[39;00m response\n",
      "File \u001b[1;32m~\\AppData\\Local\\Packages\\PythonSoftwareFoundation.Python.3.11_qbz5n2kfra8p0\\LocalCache\\local-packages\\Python311\\site-packages\\selenium\\webdriver\\remote\\errorhandler.py:249\u001b[0m, in \u001b[0;36mErrorHandler.check_response\u001b[1;34m(self, response)\u001b[0m\n\u001b[0;32m    247\u001b[0m         alert_text \u001b[39m=\u001b[39m value[\u001b[39m\"\u001b[39m\u001b[39malert\u001b[39m\u001b[39m\"\u001b[39m]\u001b[39m.\u001b[39mget(\u001b[39m\"\u001b[39m\u001b[39mtext\u001b[39m\u001b[39m\"\u001b[39m)\n\u001b[0;32m    248\u001b[0m     \u001b[39mraise\u001b[39;00m exception_class(message, screen, stacktrace, alert_text)  \u001b[39m# type: ignore[call-arg]  # mypy is not smart enough here\u001b[39;00m\n\u001b[1;32m--> 249\u001b[0m \u001b[39mraise\u001b[39;00m exception_class(message, screen, stacktrace)\n",
      "\u001b[1;31mElementClickInterceptedException\u001b[0m: Message: element click intercepted: Element <button type=\"button\" aria-disabled=\"false\" class=\"sc-21f2092b-1 iCqLfA\" translate=\"no\" data-test=\"wishlist-loadMore\" aria-label=\"Cargar otros artículos\">...</button> is not clickable at point (631, 305). Other element would receive the click: <div class=\"sc-835d3f28-0 kTdeVZ\">...</div>\n  (Session info: chrome=119.0.6045.160)\nStacktrace:\n\tGetHandleVerifier [0x012272A3+45731]\n\t(No symbol) [0x011B2D51]\n\t(No symbol) [0x010A880D]\n\t(No symbol) [0x010E07AB]\n\t(No symbol) [0x010DF2AF]\n\t(No symbol) [0x010DD89B]\n\t(No symbol) [0x010DCBA1]\n\t(No symbol) [0x010D4FC0]\n\t(No symbol) [0x010F7FDC]\n\t(No symbol) [0x010D4A4E]\n\t(No symbol) [0x010F8254]\n\t(No symbol) [0x0110B7A2]\n\t(No symbol) [0x010F7DD6]\n\t(No symbol) [0x010D31F6]\n\t(No symbol) [0x010D439D]\n\tGetHandleVerifier [0x01530716+3229462]\n\tGetHandleVerifier [0x015784C8+3523784]\n\tGetHandleVerifier [0x0157214C+3498316]\n\tGetHandleVerifier [0x012B1680+611968]\n\t(No symbol) [0x011BCCCC]\n\t(No symbol) [0x011B8DF8]\n\t(No symbol) [0x011B8F1D]\n\t(No symbol) [0x011AB2C7]\n\tBaseThreadInitThunk [0x75E6FCC9+25]\n\tRtlGetAppContainerNamedObjectPath [0x76F47C6E+286]\n\tRtlGetAppContainerNamedObjectPath [0x76F47C3E+238]\n"
     ]
    }
   ],
   "source": [
    "driver = webdriver.Chrome(ChromeDriverManager().install(), options=chrome_options)\n",
    "url = 'https://www.mediamarkt.es/es/myaccount/wishlist'\n",
    "\n",
    "num_capturas = 374  \n",
    "\n",
    "## product_ids = [64, 65, 68, 70, 86, 98, 8, 1, 2, 4, 3, 103, 104, 102, 101, 100, 96, 95, 94, 93, 92, 91, 90, 89, 88, 85, 84, 83, 82, 80, 79, 78, 77, 76, 75, 74, 73, 72, 71, 69, 67, 66, 63, 62, 61, 60, 59, 58, 57, 56, 55, 54, 53, 52, 51, 50, 49, 48, 47, 46, 45, 44, 43, 42, 41, 40, 39,38,37,36,35,34,33,32,31,30,29,28,27,26,25,24,23,22,21,20,19,18,17,16,15,14,13,12,11,10,9,7,6,5]\n",
    "\n",
    "product_ids = [12,11,10,9,7,6,5]\n",
    "\n",
    "driver.get(url)\n",
    "\n",
    "## Clickar para mostrar todos los productos del wishlist\n",
    "\n",
    "for _ in range(16):  \n",
    "    mas_productos = driver.find_element(By.CSS_SELECTOR, \"div.sc-490debc5-0.jhMMyN > div > div.sc-b059e63d-0.ieqQPD > div.sc-ee3c983c-0.gERmRW > div > div > button\").click()\n",
    "    time.sleep(0.75)\n",
    "\n",
    "# Obtén todos los elementos 'wishlist'\n",
    "\n",
    "wishlist = driver.find_elements(By.CSS_SELECTOR, \"a.sc-db43135e-1.gpEOUZ.sc-bbf5ad0d-0.gVPHRt[data-test='wishlist-tile-product-link']\")[92:]\n",
    "\n",
    "# Obtén todos las url de cada producto en la 'wishlist'\n",
    "\n",
    "matching_urls = [item.get_attribute('href') for item in wishlist]\n",
    "\n",
    "\n",
    "for i in range(len(wishlist)):\n",
    "    driver.get(url)\n",
    "\n",
    "    time.sleep(2)\n",
    "\n",
    "    for _ in range(16):  # ## Clickar para mostrar todos los productos del wishlist\n",
    "        mas_productos = driver.find_element(By.CSS_SELECTOR, \"div.sc-490debc5-0.jhMMyN > div > div.sc-b059e63d-0.ieqQPD > div.sc-ee3c983c-0.gERmRW > div > div > button\").click()\n",
    "        time.sleep(1)\n",
    "    \n",
    "    time.sleep(1)\n",
    "    # Haz clic en el elemento\n",
    "    wishlist = driver.find_elements(By.CSS_SELECTOR, \"a.sc-db43135e-1.gpEOUZ.sc-bbf5ad0d-0.gVPHRt[data-test='wishlist-tile-product-link']\")[92:]\n",
    "    wishlist[i].click()\n",
    "    \n",
    "    try:\n",
    "        extension = driver.find_element(By.CSS_SELECTOR, '#assistant')\n",
    "        shadow_root = driver.execute_script('return arguments[0].shadowRoot', extension)\n",
    "\n",
    "        time.sleep(4)\n",
    "        shadow_root.find_elements(By.CSS_SELECTOR, 'div > div > div > div > div._logoContainer_1rkzr_42._opacity-100_1rkzr_52 > svg > path:nth-child(1)')[0].click()\n",
    "        time.sleep(2)\n",
    "        shadow_root.find_elements(By.CSS_SELECTOR, 'div > div > div > div > div._iconContainer_1rkzr_20 > div._container_6oko0_1.productStats > div._icon_6oko0_18 > svg')[0].click()\n",
    "    except IndexError:\n",
    "        print(\"La extensión no fue encontrada. Regresando a la pantalla anterior.\")\n",
    "        driver.back()\n",
    "\n",
    "    # Vuelve a intentar encontrar la extensión después de retroceder\n",
    "        try:\n",
    "            extension = driver.find_element(By.CSS_SELECTOR, '#assistant')\n",
    "            shadow_root = driver.execute_script('return arguments[0].shadowRoot', extension)\n",
    "\n",
    "            time.sleep(4)\n",
    "            shadow_root.find_elements(By.CSS_SELECTOR, 'div > div > div > div > div._logoContainer_1rkzr_42._opacity-100_1rkzr_52 > svg > path:nth-child(1)')[0].click()\n",
    "            time.sleep(2)\n",
    "            shadow_root.find_elements(By.CSS_SELECTOR, 'div > div > div > div > div._iconContainer_1rkzr_20 > div._container_6oko0_1.productStats > div._icon_6oko0_18 > svg')[0].click()\n",
    "        \n",
    "        except IndexError:\n",
    "            print(\"La extensión sigue sin encontrarse. Revisa el flujo del programa.\")\n",
    "\n",
    "    x_inicial = 112\n",
    "    y_inicial = 495\n",
    "\n",
    "    with open(f'extracciones_mediamarkt4.csv', 'a', newline='') as csvfile:\n",
    "        csv_writer = csv.writer(csvfile)\n",
    "        product_id = product_ids[i]\n",
    "        product_url = matching_urls[i]\n",
    "        shop_id = 1\n",
    "        # Añadir una columna \"Product ID\"\n",
    "        csv_writer.writerow(['Product ID', 'N_Extracción', 'Fecha', 'Precio', 'Shop_id', 'product_url', 'texto_entreno'])  # Encabezado del CSV\n",
    "\n",
    "        for j in range(num_capturas):\n",
    "            # Definir las coordenadas de recorte (a, b, width, height)\n",
    "            a, b, width, height = (110, 370, 750, 48)\n",
    "\n",
    "            # Mueve el ratón a la nueva posición\n",
    "            pyautogui.moveTo(x_inicial, y_inicial)\n",
    "            ##time.sleep(0.5)\n",
    "            # Toma una captura de pantalla\n",
    "            screenshot = driver.get_screenshot_as_png()\n",
    "            image = Image.open(BytesIO(screenshot))\n",
    "\n",
    "            # Recorta la imagen y guárdala con un número distinto cada vez\n",
    "            image_cortada = image.crop((a, b, a + width, b + height))\n",
    "            image_cortada.save(f\"ventana_flotante_{i}_{j}.png\")\n",
    "\n",
    "            texto_extraído = pytesseract.image_to_string(image_cortada)\n",
    "\n",
    "            patron_1 = r'\\d+\\s+(\\d{4}/\\d{2}/\\d{2} \\d{2}:\\d{2}:\\d{2})\\n[iI]\\s?([\\d.,]+)\\s?[€]'\n",
    "            patron_2 = r'(\\d{4}/\\d{2}/\\d{2} \\d{2}:\\d{2}:\\d{2})\\n([\\d.,]+)\\s?[€{]'\n",
    "            patron_3 = r'(\\d{4}/\\d{2}/\\d{2} \\d{2}:\\d{2}:\\d{2})\\s—[A-Z]\\n([\\d.,]+)\\s?[€]'\n",
    "            patron_4 = r'(\\d{4}/\\d{2}/\\d{2} \\d{2}:\\d{2}:\\d{2}) \\|[\\n\\s]*(\\d+\\.\\d{2})[^\\d]'\n",
    "            patron_5 = r'_ l __ (\\d{4}/\\d{2}/\\d{2} \\d{2}:\\d{2}:\\d{2}), \\| (\\d+\\.\\d{2})[^\\d]'\n",
    "            patron_6 = r'l \\| (\\d{4}/\\d{2}/\\d{2} \\d{2}:\\d{2}:\\d{2}) m T� (\\d+\\.\\d{2})[^\\d]'\n",
    "            patron_7 = r'l H (\\d{4}/\\d{2}/\\d{2} \\d{2}:\\d{2}:\\d{2}) -.*? (\\d+\\.\\d{2})[^\\d]'\n",
    "            patron_8 = r'l \\d+ (\\d{4}/\\d{2}/\\d{2} \\d{2}:\\d{2}:\\d{2}) \\w+\\s? (\\d+\\.\\d{2})[^\\d]'\n",
    "            patron_9 = r'(\\d{4}/\\d{2}/\\d{2} \\d{2}:\\d{2}:\\d{2})[^\\d]+(\\d+\\.\\d{2})[^\\d]'\n",
    "\n",
    "\n",
    "# Intenta buscar coincidencias con el primer patrón\n",
    "            coincidencias = re.search(patron_1, texto_extraído)\n",
    "\n",
    "# Si no hay coincidencias con el primer patrón, intenta con el segundo\n",
    "            if not coincidencias:\n",
    "                coincidencias = re.search(patron_2, texto_extraído)\n",
    "\n",
    "# Si no hay coincidencias con el segundo patrón, intenta con el tercero\n",
    "            if not coincidencias:\n",
    "                coincidencias = re.search(patron_3, texto_extraído)\n",
    "\n",
    "            if not coincidencias:\n",
    "                coincidencias = re.search(patron_4, texto_extraído)\n",
    "\n",
    "            if not coincidencias:\n",
    "                coincidencias = re.search(patron_5, texto_extraído)\n",
    "            \n",
    "            if not coincidencias:\n",
    "                coincidencias = re.search(patron_6, texto_extraído)\n",
    "\n",
    "            if not coincidencias:\n",
    "                coincidencias = re.search(patron_7, texto_extraído)\n",
    "\n",
    "            if not coincidencias:\n",
    "                coincidencias = re.search(patron_8, texto_extraído)\n",
    "\n",
    "            if not coincidencias:\n",
    "                coincidencias = re.search(patron_9, texto_extraído)\n",
    "        \n",
    "# Extrae la fecha y la cantidad si hay coincidencias\n",
    "            if coincidencias:\n",
    "                fecha = coincidencias.group(1)\n",
    "                cantidad = coincidencias.group(2)\n",
    "            else:\n",
    "                fecha = 0\n",
    "                cantidad = 0\n",
    "\n",
    "\n",
    "            csv_writer.writerow([product_id, f\"Extracción {j}\", fecha, cantidad, shop_id, product_url, texto_extraído])\n",
    "\n",
    "            os.remove(f\"ventana_flotante_{i}_{j}.png\")\n",
    "\n",
    "            x_inicial += 1.95\n",
    "\n",
    "    # Retrocede a la pantalla anterior después de cada bucle\n",
    "   \n",
    "\n",
    "# Cierra el navegador al final de todas las repeticiones\n",
    "driver.quit()"
   ]
  },
  {
   "cell_type": "code",
   "execution_count": 199,
   "metadata": {},
   "outputs": [
    {
     "data": {
      "text/plain": [
       "'—_—\\n2023/12/01 04:20:42\\n1299.00 € Ry\\n'"
      ]
     },
     "execution_count": 199,
     "metadata": {},
     "output_type": "execute_result"
    }
   ],
   "source": [
    "texto_extraído = pytesseract.image_to_string(image_cortada)\n",
    "texto_extraído"
   ]
  },
  {
   "cell_type": "code",
   "execution_count": 183,
   "metadata": {},
   "outputs": [
    {
     "data": {
      "text/plain": [
       "54"
      ]
     },
     "execution_count": 183,
     "metadata": {},
     "output_type": "execute_result"
    }
   ],
   "source": [
    "product_ids = [59, 58, 57, 56, 55, 54, 53, 52, 51, 50, 49, 48, 47, 46, 45, 44, 43, 42, 41, 40, 39,38,37,36,35,34,33,32,31,30,29,28,27,26,25,24,23,22,21,20,19,18,17,16,15,14,13,12,11,10,9,7,6,5]\n",
    "\n",
    "len(product_ids)"
   ]
  },
  {
   "cell_type": "code",
   "execution_count": 175,
   "metadata": {},
   "outputs": [
    {
     "data": {
      "text/plain": [
       "'649.00'"
      ]
     },
     "execution_count": 175,
     "metadata": {},
     "output_type": "execute_result"
    }
   ],
   "source": [
    "fecha"
   ]
  },
  {
   "cell_type": "code",
   "execution_count": 176,
   "metadata": {},
   "outputs": [
    {
     "data": {
      "text/plain": [
       "'649.00'"
      ]
     },
     "execution_count": 176,
     "metadata": {},
     "output_type": "execute_result"
    }
   ],
   "source": [
    "cantidad"
   ]
  },
  {
   "cell_type": "code",
   "execution_count": 167,
   "metadata": {},
   "outputs": [
    {
     "data": {
      "text/plain": [
       "62"
      ]
     },
     "execution_count": 167,
     "metadata": {},
     "output_type": "execute_result"
    }
   ],
   "source": [
    "product_id"
   ]
  },
  {
   "cell_type": "code",
   "execution_count": null,
   "metadata": {},
   "outputs": [],
   "source": [
    "### PRUEBAS CON UN SOLO PRODUCTO"
   ]
  },
  {
   "cell_type": "code",
   "execution_count": 49,
   "metadata": {},
   "outputs": [
    {
     "name": "stderr",
     "output_type": "stream",
     "text": [
      "C:\\Users\\ferna\\AppData\\Local\\Temp\\ipykernel_10364\\143233683.py:1: DeprecationWarning: executable_path has been deprecated, please pass in a Service object\n",
      "  driver = webdriver.Chrome(ChromeDriverManager().install(), options=chrome_options)\n"
     ]
    }
   ],
   "source": [
    "driver = webdriver.Chrome(ChromeDriverManager().install(), options=chrome_options)\n",
    "url = 'https://www.mediamarkt.es/es/myaccount/wishlist'\n",
    "\n",
    "num_capturas = 372  \n",
    "\n",
    "product_ids = [64]\n",
    "\n",
    "driver.get(url)\n",
    "\n",
    "time.sleep(1)\n",
    "\n",
    "## Clickar para mostrar todos los productos del wishlist\n",
    "\n",
    "wishlist = driver.find_element(By.CSS_SELECTOR, \"a.sc-db43135e-1.gpEOUZ.sc-bbf5ad0d-0.gVPHRt[data-test='wishlist-tile-product-link']\")\n",
    "\n",
    "# Obtén todos las url de cada producto en la 'wishlist'\n",
    "\n",
    "matching_url = wishlist.get_attribute('href')\n",
    "\n",
    "wishlist = driver.find_element(By.CSS_SELECTOR, \"a.sc-db43135e-1.gpEOUZ.sc-bbf5ad0d-0.gVPHRt[data-test='wishlist-tile-product-link']\").click()\n",
    "\n",
    "extension = driver.find_element(By.CSS_SELECTOR, '#assistant')\n",
    "shadow_root = driver.execute_script('return arguments[0].shadowRoot', extension)\n",
    "\n",
    "time.sleep(4)\n",
    "shadow_root.find_elements(By.CSS_SELECTOR, 'div > div > div > div > div._logoContainer_1rkzr_42._opacity-100_1rkzr_52 > svg > path:nth-child(1)')[0].click()\n",
    "time.sleep(2)\n",
    "shadow_root.find_elements(By.CSS_SELECTOR, 'div > div > div > div > div._iconContainer_1rkzr_20 > div._container_6oko0_1.productStats > div._icon_6oko0_18 > svg')[0].click()\n",
    "    \n",
    "x_inicial = 112\n",
    "y_inicial = 495\n",
    "\n",
    "with open(f'extracciones_mediamarkt.csv', 'a', newline='') as csvfile:\n",
    "        csv_writer = csv.writer(csvfile)\n",
    "        product_id = product_ids\n",
    "        product_url = matching_url\n",
    "        shop_id = 1\n",
    "        # Añadir una columna \"Product ID\"\n",
    "        csv_writer.writerow(['Product ID', 'N_Extracción', 'Fecha', 'Precio', 'Shop_id', 'product_url'])  # Encabezado del CSV\n",
    "\n",
    "        for j in range(num_capturas):\n",
    "            # Definir las coordenadas de recorte (a, b, width, height)\n",
    "            a, b, width, height = (110, 370, 750, 48)\n",
    "\n",
    "            # Mueve el ratón a la nueva posición\n",
    "            pyautogui.moveTo(x_inicial, y_inicial)\n",
    "            time.sleep(0.5)\n",
    "            # Toma una captura de pantalla\n",
    "            screenshot = driver.get_screenshot_as_png()\n",
    "            image = Image.open(BytesIO(screenshot))\n",
    "\n",
    "            # Recorta la imagen y guárdala con un número distinto cada vez\n",
    "            image_cortada = image.crop((a, b, a + width, b + height))\n",
    "            image_cortada.save(f\"ventana_flotante_{j}.png\")\n",
    "\n",
    "            texto_extraído = pytesseract.image_to_string(image_cortada)\n",
    "\n",
    "            patron = r'(\\d{4}/\\d{2}/\\d{2} \\d{2}:\\d{2}:\\d{2})\\n.*?([\\d.]+)'\n",
    "\n",
    "# Buscar coincidencias en la cadena\n",
    "            coincidencias = re.search(patron, texto_extraído)\n",
    "\n",
    "# Verificar si se encontraron coincidencias\n",
    "            if coincidencias:\n",
    "                fecha = coincidencias.group(1)\n",
    "                cantidad = coincidencias.group(2)\n",
    "            else:\n",
    "                fecha = 0\n",
    "                cantidad = 0\n",
    "\n",
    "            csv_writer.writerow([product_id, f\"Extracción {j}\", fecha, cantidad, shop_id, product_url])\n",
    "\n",
    "            ##os.remove(f\"ventana_flotante_{i}_{j}.png\")\n",
    "\n",
    "            x_inicial += 1.95\n",
    "\n",
    "    # Retrocede a la pantalla anterior después de cada bucle\n",
    "   \n",
    "\n",
    "# Cierra el navegador al final de todas las repeticiones\n",
    "driver.quit()\n"
   ]
  },
  {
   "cell_type": "code",
   "execution_count": 4,
   "metadata": {},
   "outputs": [
    {
     "name": "stderr",
     "output_type": "stream",
     "text": [
      "C:\\Users\\ferna\\AppData\\Local\\Temp\\ipykernel_10364\\3399981924.py:1: DeprecationWarning: executable_path has been deprecated, please pass in a Service object\n",
      "  driver = webdriver.Chrome(ChromeDriverManager().install(), options=chrome_options)\n"
     ]
    }
   ],
   "source": [
    "driver = webdriver.Chrome(ChromeDriverManager().install(), options=chrome_options)\n",
    "url = 'https://www.mediamarkt.es/es/myaccount/wishlist'\n",
    "\n",
    "num_capturas = 251  \n",
    "\n",
    "product_ids = [64]\n",
    "\n",
    "driver.get(url)\n",
    "\n",
    "time.sleep(1)\n",
    "\n",
    "## Clickar para mostrar todos los productos del wishlist\n",
    "\n",
    "wishlist = driver.find_element(By.CSS_SELECTOR, \"a.sc-db43135e-1.gpEOUZ.sc-bbf5ad0d-0.gVPHRt[data-test='wishlist-tile-product-link']\")\n",
    "\n",
    "# Obtén todos las url de cada producto en la 'wishlist'\n",
    "\n",
    "matching_url = wishlist.get_attribute('href')\n",
    "\n",
    "wishlist = driver.find_element(By.CSS_SELECTOR, \"a.sc-db43135e-1.gpEOUZ.sc-bbf5ad0d-0.gVPHRt[data-test='wishlist-tile-product-link']\").click()\n",
    "\n",
    "extension = driver.find_element(By.CSS_SELECTOR, '#assistant')\n",
    "shadow_root = driver.execute_script('return arguments[0].shadowRoot', extension)\n",
    "\n",
    "time.sleep(4)\n",
    "shadow_root.find_elements(By.CSS_SELECTOR, 'div > div > div > div > div._logoContainer_1rkzr_42._opacity-100_1rkzr_52 > svg > path:nth-child(1)')[0].click()\n",
    "time.sleep(2)\n",
    "shadow_root.find_elements(By.CSS_SELECTOR, 'div > div > div > div > div._iconContainer_1rkzr_20 > div._container_6oko0_1.productStats > div._icon_6oko0_18 > svg')[0].click()\n",
    "    \n",
    "\n",
    "\n"
   ]
  },
  {
   "cell_type": "code",
   "execution_count": 32,
   "metadata": {},
   "outputs": [],
   "source": [
    "x_inicial = 112\n",
    "y_inicial = 495\n",
    "pyautogui.moveTo(x_inicial, y_inicial)\n",
    "time.sleep(2)\n",
    "screenshot = driver.get_screenshot_as_png()"
   ]
  },
  {
   "cell_type": "code",
   "execution_count": 35,
   "metadata": {},
   "outputs": [],
   "source": [
    "a, b, width, height = (110, 370, 750, 48)\n",
    "image = Image.open(BytesIO(screenshot))\n",
    "\n",
    "            # Recorta la imagen y guárdala con un número distinto cada vez\n",
    "image_cortada = image.crop((a, b, a + width, b + height))\n",
    "image_cortada.save(f\"ventana_flotante.png\")"
   ]
  },
  {
   "cell_type": "code",
   "execution_count": 138,
   "metadata": {},
   "outputs": [
    {
     "data": {
      "text/plain": [
       "'2023/08/10 19:\\n513.00 €\\n\\n'"
      ]
     },
     "execution_count": 138,
     "metadata": {},
     "output_type": "execute_result"
    }
   ],
   "source": [
    "texto_extraído = pytesseract.image_to_string(image_cortada)\n",
    "texto_extraído"
   ]
  },
  {
   "cell_type": "code",
   "execution_count": 154,
   "metadata": {},
   "outputs": [],
   "source": [
    "texto_extraído = pytesseract.image_to_string(image_cortada)\n",
    "\n",
    "patron = r'(\\d{4}/\\d{2}/\\d{2})'\n",
    "\n",
    "# Buscar coincidencias en la cadena\n",
    "coincidencias = re.search(patron, texto_extraído)"
   ]
  },
  {
   "cell_type": "code",
   "execution_count": 155,
   "metadata": {},
   "outputs": [
    {
     "data": {
      "text/plain": [
       "<re.Match object; span=(0, 10), match='2023/08/10'>"
      ]
     },
     "execution_count": 155,
     "metadata": {},
     "output_type": "execute_result"
    }
   ],
   "source": [
    "coincidencias"
   ]
  },
  {
   "cell_type": "code",
   "execution_count": 93,
   "metadata": {},
   "outputs": [
    {
     "data": {
      "text/plain": [
       "'7 2023/06/08 20:27:14\\ni 153.75€\\n'"
      ]
     },
     "execution_count": 93,
     "metadata": {},
     "output_type": "execute_result"
    }
   ],
   "source": [
    "texto = '7 2023/06/08 20:27:14\\ni 153.75€\\n'\n",
    "texto"
   ]
  },
  {
   "cell_type": "code",
   "execution_count": 177,
   "metadata": {},
   "outputs": [
    {
     "data": {
      "text/plain": [
       "<re.Match object; span=(0, 29), match='2023/10/17 11:30:38 |\\n649.00 '>"
      ]
     },
     "execution_count": 177,
     "metadata": {},
     "output_type": "execute_result"
    }
   ],
   "source": [
    "patron = r'(\\d{4}/\\d{2}/\\d{2} \\d{2}:\\d{2}:\\d{2}) \\|[\\n\\s]*(\\d+\\.\\d{2})[^\\d]'\n",
    "\n",
    "\n",
    "# Buscar coincidencias en la cadena\n",
    "coincidencias = re.search(patron, texto_extraído)\n",
    "coincidencias"
   ]
  },
  {
   "cell_type": "code",
   "execution_count": null,
   "metadata": {},
   "outputs": [],
   "source": [
    "patron_1 = r'\\d+\\s+(\\d{4}/\\d{2}/\\d{2} \\d{2}:\\d{2}:\\d{2})\\n[iI]\\s?([\\d.,]+)\\s?[€]'\n",
    "patron_2 = r'(\\d{4}/\\d{2}/\\d{2} \\d{2}:\\d{2}:\\d{2})\\n([\\d.,]+)\\s?[€{]'\n",
    "patron_3 = r'(\\d{4}/\\d{2}/\\d{2} \\d{2}:\\d{2}:\\d{2})\\s—[A-Z]\\n([\\d.,]+)\\s?[€]'\n",
    "patron_4 = r'(\\d+\\.\\d{2})\\s?[€}]'\n",
    "patron_5 = r'(\\d{4}/\\d{2}/\\d{2} \\d{2}:\\d{2}:\\d{2}) \\|[\\n\\s]*(\\d+\\.\\d{2})[^\\d]'\n",
    "\n"
   ]
  },
  {
   "cell_type": "code",
   "execution_count": 109,
   "metadata": {},
   "outputs": [],
   "source": [
    "texto2 = '2023/11/30 08:29:30 —U\\n8990.00 € {\\n'"
   ]
  },
  {
   "cell_type": "code",
   "execution_count": 178,
   "metadata": {},
   "outputs": [
    {
     "name": "stdout",
     "output_type": "stream",
     "text": [
      "Fecha: 2023/10/17 11:30:38\n",
      "Cantidad: 649.00\n"
     ]
    }
   ],
   "source": [
    "texto_extraído = pytesseract.image_to_string(image_cortada)\n",
    "patron_1 = r'\\d+\\s+(\\d{4}/\\d{2}/\\d{2} \\d{2}:\\d{2}:\\d{2})\\n[iI]\\s?([\\d.,]+)\\s?[€]'\n",
    "patron_2 = r'(\\d{4}/\\d{2}/\\d{2} \\d{2}:\\d{2}:\\d{2})\\n([\\d.,]+)\\s?[€{]'\n",
    "patron_3 = r'(\\d{4}/\\d{2}/\\d{2} \\d{2}:\\d{2}:\\d{2}) \\|[\\n\\s]*(\\d+\\.\\d{2})[^\\d]'\n",
    "\n",
    "# Intenta buscar coincidencias con el primer patrón\n",
    "coincidencias = re.search(patron_1, texto_extraído)\n",
    "\n",
    "# Si no hay coincidencias con el primer patrón, intenta con el segundo\n",
    "if not coincidencias:\n",
    "    coincidencias = re.search(patron_2, texto_extraído)\n",
    "\n",
    "# Si no hay coincidencias con el segundo patrón, intenta con el tercero\n",
    "if not coincidencias:\n",
    "    coincidencias = re.search(patron_3, texto_extraído)\n",
    "\n",
    "# Extrae la fecha y la cantidad si hay coincidencias\n",
    "if coincidencias:\n",
    "    fecha = coincidencias.group(1)\n",
    "    cantidad = coincidencias.group(2)\n",
    "else:\n",
    "    fecha = 0\n",
    "    cantidad = 0\n",
    "\n",
    "print(\"Fecha:\", fecha)\n",
    "print(\"Cantidad:\", cantidad)\n"
   ]
  },
  {
   "cell_type": "code",
   "execution_count": 200,
   "metadata": {},
   "outputs": [
    {
     "name": "stderr",
     "output_type": "stream",
     "text": [
      "C:\\Users\\ferna\\AppData\\Local\\Temp\\ipykernel_10364\\757447924.py:1: DeprecationWarning: executable_path has been deprecated, please pass in a Service object\n",
      "  driver = webdriver.Chrome(ChromeDriverManager().install(), options=chrome_options)\n"
     ]
    }
   ],
   "source": [
    "driver = webdriver.Chrome(ChromeDriverManager().install(), options=chrome_options)\n",
    "url = 'https://www.mediamarkt.es/es/myaccount/wishlist'\n",
    "\n",
    "num_capturas = 374  \n",
    "\n",
    "product_ids = [12,11,10,9,7,6,5]\n",
    "\n",
    "driver.get(url)\n",
    "\n",
    "## Clickar para mostrar todos los productos del wishlist\n",
    "\n",
    "driver.find_element(By.CSS_SELECTOR, \"div.sc-490debc5-0.jhMMyN > div > div.sc-b059e63d-0.ieqQPD > div.sc-ee3c983c-0.gERmRW > div > div > button\").click()\n",
    "time.sleep(0.75)\n",
    "\n",
    "# Obtén todos los elementos 'wishlist'\n",
    "\n",
    "wishlist = driver.find_elements(By.CSS_SELECTOR, \"a.sc-db43135e-1.gpEOUZ.sc-bbf5ad0d-0.gVPHRt[data-test='wishlist-tile-product-link']\")\n",
    "\n",
    "# Obtén todos las url de cada producto en la 'wishlist'\n",
    "\n",
    "matching_urls = [item.get_attribute('href') for item in wishlist]\n",
    "\n",
    "\n",
    "for i in range(len(wishlist)):\n",
    "    driver.get(url)\n",
    "\n",
    "    time.sleep(2)\n",
    "    \n",
    "    driver.find_element(By.CSS_SELECTOR, \"div.sc-490debc5-0.jhMMyN > div > div.sc-b059e63d-0.ieqQPD > div.sc-ee3c983c-0.gERmRW > div > div > button\").click()\n",
    "    \n",
    "    time.sleep(1)\n",
    "    # Haz clic en el elemento\n",
    "    wishlist = driver.find_elements(By.CSS_SELECTOR, \"a.sc-db43135e-1.gpEOUZ.sc-bbf5ad0d-0.gVPHRt[data-test='wishlist-tile-product-link']\")\n",
    "    wishlist[i].click()\n",
    "    \n",
    "    try:\n",
    "        extension = driver.find_element(By.CSS_SELECTOR, '#assistant')\n",
    "        shadow_root = driver.execute_script('return arguments[0].shadowRoot', extension)\n",
    "\n",
    "        time.sleep(4)\n",
    "        shadow_root.find_elements(By.CSS_SELECTOR, 'div > div > div > div > div._logoContainer_1rkzr_42._opacity-100_1rkzr_52 > svg > path:nth-child(1)')[0].click()\n",
    "        time.sleep(2)\n",
    "        shadow_root.find_elements(By.CSS_SELECTOR, 'div > div > div > div > div._iconContainer_1rkzr_20 > div._container_6oko0_1.productStats > div._icon_6oko0_18 > svg')[0].click()\n",
    "    except IndexError:\n",
    "        print(\"La extensión no fue encontrada. Regresando a la pantalla anterior.\")\n",
    "        driver.back()\n",
    "\n",
    "    # Vuelve a intentar encontrar la extensión después de retroceder\n",
    "        try:\n",
    "            extension = driver.find_element(By.CSS_SELECTOR, '#assistant')\n",
    "            shadow_root = driver.execute_script('return arguments[0].shadowRoot', extension)\n",
    "\n",
    "            time.sleep(4)\n",
    "            shadow_root.find_elements(By.CSS_SELECTOR, 'div > div > div > div > div._logoContainer_1rkzr_42._opacity-100_1rkzr_52 > svg > path:nth-child(1)')[0].click()\n",
    "            time.sleep(2)\n",
    "            shadow_root.find_elements(By.CSS_SELECTOR, 'div > div > div > div > div._iconContainer_1rkzr_20 > div._container_6oko0_1.productStats > div._icon_6oko0_18 > svg')[0].click()\n",
    "        \n",
    "        except IndexError:\n",
    "            print(\"La extensión sigue sin encontrarse. Revisa el flujo del programa.\")\n",
    "\n",
    "    x_inicial = 112\n",
    "    y_inicial = 495\n",
    "\n",
    "    with open(f'extracciones_mediamarkt4.csv', 'a', newline='') as csvfile:\n",
    "        csv_writer = csv.writer(csvfile)\n",
    "        product_id = product_ids[i]\n",
    "        product_url = matching_urls[i]\n",
    "        shop_id = 1\n",
    "        # Añadir una columna \"Product ID\"\n",
    "        csv_writer.writerow(['Product ID', 'N_Extracción', 'Fecha', 'Precio', 'Shop_id', 'product_url', 'texto_entreno'])  # Encabezado del CSV\n",
    "\n",
    "        for j in range(num_capturas):\n",
    "            # Definir las coordenadas de recorte (a, b, width, height)\n",
    "            a, b, width, height = (110, 370, 750, 48)\n",
    "\n",
    "            # Mueve el ratón a la nueva posición\n",
    "            pyautogui.moveTo(x_inicial, y_inicial)\n",
    "            ##time.sleep(0.5)\n",
    "            # Toma una captura de pantalla\n",
    "            screenshot = driver.get_screenshot_as_png()\n",
    "            image = Image.open(BytesIO(screenshot))\n",
    "\n",
    "            # Recorta la imagen y guárdala con un número distinto cada vez\n",
    "            image_cortada = image.crop((a, b, a + width, b + height))\n",
    "            image_cortada.save(f\"ventana_flotante_{i}_{j}.png\")\n",
    "\n",
    "            texto_extraído = pytesseract.image_to_string(image_cortada)\n",
    "\n",
    "            patron_1 = r'\\d+\\s+(\\d{4}/\\d{2}/\\d{2} \\d{2}:\\d{2}:\\d{2})\\n[iI]\\s?([\\d.,]+)\\s?[€]'\n",
    "            patron_2 = r'(\\d{4}/\\d{2}/\\d{2} \\d{2}:\\d{2}:\\d{2})\\n([\\d.,]+)\\s?[€{]'\n",
    "            patron_3 = r'(\\d{4}/\\d{2}/\\d{2} \\d{2}:\\d{2}:\\d{2})\\s—[A-Z]\\n([\\d.,]+)\\s?[€]'\n",
    "            patron_4 = r'(\\d{4}/\\d{2}/\\d{2} \\d{2}:\\d{2}:\\d{2}) \\|[\\n\\s]*(\\d+\\.\\d{2})[^\\d]'\n",
    "            patron_5 = r'_ l __ (\\d{4}/\\d{2}/\\d{2} \\d{2}:\\d{2}:\\d{2}), \\| (\\d+\\.\\d{2})[^\\d]'\n",
    "            patron_6 = r'l \\| (\\d{4}/\\d{2}/\\d{2} \\d{2}:\\d{2}:\\d{2}) m T� (\\d+\\.\\d{2})[^\\d]'\n",
    "            patron_7 = r'l H (\\d{4}/\\d{2}/\\d{2} \\d{2}:\\d{2}:\\d{2}) -.*? (\\d+\\.\\d{2})[^\\d]'\n",
    "            patron_8 = r'l \\d+ (\\d{4}/\\d{2}/\\d{2} \\d{2}:\\d{2}:\\d{2}) \\w+\\s? (\\d+\\.\\d{2})[^\\d]'\n",
    "            patron_9 = r'(\\d{4}/\\d{2}/\\d{2} \\d{2}:\\d{2}:\\d{2})[^\\d]+(\\d+\\.\\d{2})[^\\d]'\n",
    "            patron_10 = r'\\d{4}/\\d{2}/\\d{2} \\d{2}:\\d{2}:\\d{2}[^\\d]+(\\d+\\.\\d{2})[^\\d]'\n",
    "            patron_11 = r'/n(\\d{4}/\\d{2}/\\d{2} \\d{2}:\\d{2}:\\d{2})[^\\d]+(\\d+\\.\\d{2})[^\\d]'\n",
    "            patron_12 = r'\\n(\\d{4}/\\d{2}/\\d{2} \\d{2}:\\d{2})[^\\d]+(\\d+\\.\\d{2})[^\\d]' ## Este siempre debe ir el ultimo\n",
    "\n",
    "\n",
    "\n",
    "\n",
    "# Intenta buscar coincidencias con el primer patrón\n",
    "            coincidencias = re.search(patron_1, texto_extraído)\n",
    "\n",
    "# Si no hay coincidencias con el primer patrón, intenta con el segundo\n",
    "            if not coincidencias:\n",
    "                coincidencias = re.search(patron_2, texto_extraído)\n",
    "\n",
    "# Si no hay coincidencias con el segundo patrón, intenta con el tercero\n",
    "            if not coincidencias:\n",
    "                coincidencias = re.search(patron_3, texto_extraído)\n",
    "\n",
    "            if not coincidencias:\n",
    "                coincidencias = re.search(patron_4, texto_extraído)\n",
    "\n",
    "            if not coincidencias:\n",
    "                coincidencias = re.search(patron_5, texto_extraído)\n",
    "            \n",
    "            if not coincidencias:\n",
    "                coincidencias = re.search(patron_6, texto_extraído)\n",
    "\n",
    "            if not coincidencias:\n",
    "                coincidencias = re.search(patron_7, texto_extraído)\n",
    "\n",
    "            if not coincidencias:\n",
    "                coincidencias = re.search(patron_8, texto_extraído)\n",
    "\n",
    "            if not coincidencias:\n",
    "                coincidencias = re.search(patron_9, texto_extraído)\n",
    "\n",
    "            if not coincidencias:\n",
    "                coincidencias = re.search(patron_10, texto_extraído)\n",
    "\n",
    "            if not coincidencias:\n",
    "                coincidencias = re.search(patron_11, texto_extraído)\n",
    "\n",
    "            if not coincidencias:\n",
    "                coincidencias = re.search(patron_12, texto_extraído)\n",
    "        \n",
    "# Extrae la fecha y la cantidad si hay coincidencias\n",
    "            if coincidencias:\n",
    "                fecha = coincidencias.group(1)\n",
    "                cantidad = coincidencias.group(2)\n",
    "            else:\n",
    "                fecha = 0\n",
    "                cantidad = 0\n",
    "\n",
    "\n",
    "            csv_writer.writerow([product_id, f\"Extracción {j}\", fecha, cantidad, shop_id, product_url, texto_extraído])\n",
    "\n",
    "            os.remove(f\"ventana_flotante_{i}_{j}.png\")\n",
    "\n",
    "            x_inicial += 1.95\n",
    "\n",
    "    # Retrocede a la pantalla anterior después de cada bucle\n",
    "   \n",
    "\n",
    "# Cierra el navegador al final de todas las repeticiones\n",
    "driver.quit()"
   ]
  },
  {
   "cell_type": "code",
   "execution_count": null,
   "metadata": {},
   "outputs": [
    {
     "name": "stderr",
     "output_type": "stream",
     "text": [
      "C:\\Users\\ferna\\AppData\\Local\\Temp\\ipykernel_10364\\757447924.py:1: DeprecationWarning: executable_path has been deprecated, please pass in a Service object\n",
      "  driver = webdriver.Chrome(ChromeDriverManager().install(), options=chrome_options)\n"
     ]
    }
   ],
   "source": [
    "driver = webdriver.Chrome(ChromeDriverManager().install(), options=chrome_options)\n",
    "url = 'https://www.mediamarkt.es/es/myaccount/wishlist'\n",
    "\n",
    "num_capturas = 374  \n",
    "\n",
    "product_ids = [12,11,10,9,7,6,5]\n",
    "\n",
    "driver.get(url)\n",
    "\n",
    "## Clickar para mostrar todos los productos del wishlist\n",
    "\n",
    "driver.find_element(By.CSS_SELECTOR, \"div.sc-490debc5-0.jhMMyN > div > div.sc-b059e63d-0.ieqQPD > div.sc-ee3c983c-0.gERmRW > div > div > button\").click()\n",
    "time.sleep(0.75)\n",
    "\n",
    "# Obtén todos los elementos 'wishlist'\n",
    "\n",
    "wishlist = driver.find_elements(By.CSS_SELECTOR, \"a.sc-db43135e-1.gpEOUZ.sc-bbf5ad0d-0.gVPHRt[data-test='wishlist-tile-product-link']\")\n",
    "\n",
    "# Obtén todos las url de cada producto en la 'wishlist'\n",
    "\n",
    "matching_urls = [item.get_attribute('href') for item in wishlist]\n",
    "\n",
    "\n",
    "for i in range(len(wishlist)):\n",
    "    driver.get(url)\n",
    "\n",
    "    time.sleep(2)\n",
    "    \n",
    "    driver.find_element(By.CSS_SELECTOR, \"div.sc-490debc5-0.jhMMyN > div > div.sc-b059e63d-0.ieqQPD > div.sc-ee3c983c-0.gERmRW > div > div > button\").click()\n",
    "    \n",
    "    time.sleep(1)\n",
    "    # Haz clic en el elemento\n",
    "    wishlist = driver.find_elements(By.CSS_SELECTOR, \"a.sc-db43135e-1.gpEOUZ.sc-bbf5ad0d-0.gVPHRt[data-test='wishlist-tile-product-link']\")\n",
    "    wishlist[i].click()\n",
    "    \n",
    "    try:\n",
    "        extension = driver.find_element(By.CSS_SELECTOR, '#assistant')\n",
    "        shadow_root = driver.execute_script('return arguments[0].shadowRoot', extension)\n",
    "\n",
    "        time.sleep(4)\n",
    "        shadow_root.find_elements(By.CSS_SELECTOR, 'div > div > div > div > div._logoContainer_1rkzr_42._opacity-100_1rkzr_52 > svg > path:nth-child(1)')[0].click()\n",
    "        time.sleep(2)\n",
    "        shadow_root.find_elements(By.CSS_SELECTOR, 'div > div > div > div > div._iconContainer_1rkzr_20 > div._container_6oko0_1.productStats > div._icon_6oko0_18 > svg')[0].click()\n",
    "    except IndexError:\n",
    "        print(\"La extensión no fue encontrada. Regresando a la pantalla anterior.\")\n",
    "        driver.back()\n",
    "\n",
    "    # Vuelve a intentar encontrar la extensión después de retroceder\n",
    "        try:\n",
    "            extension = driver.find_element(By.CSS_SELECTOR, '#assistant')\n",
    "            shadow_root = driver.execute_script('return arguments[0].shadowRoot', extension)\n",
    "\n",
    "            time.sleep(4)\n",
    "            shadow_root.find_elements(By.CSS_SELECTOR, 'div > div > div > div > div._logoContainer_1rkzr_42._opacity-100_1rkzr_52 > svg > path:nth-child(1)')[0].click()\n",
    "            time.sleep(2)\n",
    "            shadow_root.find_elements(By.CSS_SELECTOR, 'div > div > div > div > div._iconContainer_1rkzr_20 > div._container_6oko0_1.productStats > div._icon_6oko0_18 > svg')[0].click()\n",
    "        \n",
    "        except IndexError:\n",
    "            print(\"La extensión sigue sin encontrarse. Revisa el flujo del programa.\")\n",
    "\n",
    "    x_inicial = 112\n",
    "    y_inicial = 495\n",
    "\n",
    "    with open(f'extracciones_mediamarkt4.csv', 'a', newline='') as csvfile:\n",
    "        csv_writer = csv.writer(csvfile)\n",
    "        product_id = product_ids[i]\n",
    "        product_url = matching_urls[i]\n",
    "        shop_id = 1\n",
    "        # Añadir una columna \"Product ID\"\n",
    "        csv_writer.writerow(['Product ID', 'N_Extracción', 'Fecha', 'Precio', 'Shop_id', 'product_url', 'texto_entreno'])  # Encabezado del CSV\n",
    "\n",
    "        for j in range(num_capturas):\n",
    "            # Definir las coordenadas de recorte (a, b, width, height)\n",
    "            a, b, width, height = (110, 370, 750, 48)\n",
    "\n",
    "            # Mueve el ratón a la nueva posición\n",
    "            pyautogui.moveTo(x_inicial, y_inicial)\n",
    "            ##time.sleep(0.5)\n",
    "            # Toma una captura de pantalla\n",
    "            screenshot = driver.get_screenshot_as_png()\n",
    "            image = Image.open(BytesIO(screenshot))\n",
    "\n",
    "            # Recorta la imagen y guárdala con un número distinto cada vez\n",
    "            image_cortada = image.crop((a, b, a + width, b + height))\n",
    "            image_cortada.save(f\"ventana_flotante_{i}_{j}.png\")\n",
    "\n",
    "            texto_extraído = pytesseract.image_to_string(image_cortada)\n",
    "\n",
    "            patron_1 = r'\\d+\\s+(\\d{4}/\\d{2}/\\d{2} \\d{2}:\\d{2}:\\d{2})\\n[iI]\\s?([\\d.,]+)\\s?[€]'\n",
    "            patron_2 = r'(\\d{4}/\\d{2}/\\d{2} \\d{2}:\\d{2}:\\d{2})\\n([\\d.,]+)\\s?[€{]'\n",
    "            patron_3 = r'(\\d{4}/\\d{2}/\\d{2} \\d{2}:\\d{2}:\\d{2})\\s—[A-Z]\\n([\\d.,]+)\\s?[€]'\n",
    "            patron_4 = r'(\\d{4}/\\d{2}/\\d{2} \\d{2}:\\d{2}:\\d{2}) \\|[\\n\\s]*(\\d+\\.\\d{2})[^\\d]'\n",
    "            patron_5 = r'_ l __ (\\d{4}/\\d{2}/\\d{2} \\d{2}:\\d{2}:\\d{2}), \\| (\\d+\\.\\d{2})[^\\d]'\n",
    "            patron_6 = r'l \\| (\\d{4}/\\d{2}/\\d{2} \\d{2}:\\d{2}:\\d{2}) m T� (\\d+\\.\\d{2})[^\\d]'\n",
    "            patron_7 = r'l H (\\d{4}/\\d{2}/\\d{2} \\d{2}:\\d{2}:\\d{2}) -.*? (\\d+\\.\\d{2})[^\\d]'\n",
    "            patron_8 = r'l \\d+ (\\d{4}/\\d{2}/\\d{2} \\d{2}:\\d{2}:\\d{2}) \\w+\\s? (\\d+\\.\\d{2})[^\\d]'\n",
    "            patron_9 = r'(\\d{4}/\\d{2}/\\d{2} \\d{2}:\\d{2}:\\d{2})[^\\d]+(\\d+\\.\\d{2})[^\\d]'\n",
    "            patron_10 = r'\\d{4}/\\d{2}/\\d{2} \\d{2}:\\d{2}:\\d{2}[^\\d]+(\\d+\\.\\d{2})[^\\d]'\n",
    "            patron_11 = r'/n(\\d{4}/\\d{2}/\\d{2} \\d{2}:\\d{2}:\\d{2})[^\\d]+(\\d+\\.\\d{2})[^\\d]'\n",
    "            patron_12 = r'\\n(\\d{4}/\\d{2}/\\d{2} \\d{2}:\\d{2})[^\\d]+(\\d+\\.\\d{2})[^\\d]' ## Este siempre debe ir el ultimo\n",
    "\n",
    "\n",
    "\n",
    "\n",
    "# Intenta buscar coincidencias con el primer patrón\n",
    "            coincidencias = re.search(patron_1, texto_extraído)\n",
    "\n",
    "# Si no hay coincidencias con el primer patrón, intenta con el segundo\n",
    "            if not coincidencias:\n",
    "                coincidencias = re.search(patron_2, texto_extraído)\n",
    "\n",
    "# Si no hay coincidencias con el segundo patrón, intenta con el tercero\n",
    "            if not coincidencias:\n",
    "                coincidencias = re.search(patron_3, texto_extraído)\n",
    "\n",
    "            if not coincidencias:\n",
    "                coincidencias = re.search(patron_4, texto_extraído)\n",
    "\n",
    "            if not coincidencias:\n",
    "                coincidencias = re.search(patron_5, texto_extraído)\n",
    "            \n",
    "            if not coincidencias:\n",
    "                coincidencias = re.search(patron_6, texto_extraído)\n",
    "\n",
    "            if not coincidencias:\n",
    "                coincidencias = re.search(patron_7, texto_extraído)\n",
    "\n",
    "            if not coincidencias:\n",
    "                coincidencias = re.search(patron_8, texto_extraído)\n",
    "\n",
    "            if not coincidencias:\n",
    "                coincidencias = re.search(patron_9, texto_extraído)\n",
    "\n",
    "            if not coincidencias:\n",
    "                coincidencias = re.search(patron_10, texto_extraído)\n",
    "\n",
    "            if not coincidencias:\n",
    "                coincidencias = re.search(patron_11, texto_extraído)\n",
    "\n",
    "            if not coincidencias:\n",
    "                coincidencias = re.search(patron_12, texto_extraído)\n",
    "        \n",
    "# Extrae la fecha y la cantidad si hay coincidencias\n",
    "            if coincidencias:\n",
    "                fecha = coincidencias.group(1)\n",
    "                cantidad = coincidencias.group(2)\n",
    "            else:\n",
    "                fecha = 0\n",
    "                cantidad = 0\n",
    "\n",
    "\n",
    "            csv_writer.writerow([product_id, f\"Extracción {j}\", fecha, cantidad, shop_id, product_url, texto_extraído])\n",
    "\n",
    "            os.remove(f\"ventana_flotante_{i}_{j}.png\")\n",
    "\n",
    "            x_inicial += 1.95\n",
    "\n",
    "    # Retrocede a la pantalla anterior después de cada bucle\n",
    "   \n",
    "\n",
    "# Cierra el navegador al final de todas las repeticiones\n",
    "driver.quit()"
   ]
  },
  {
   "cell_type": "code",
   "execution_count": null,
   "metadata": {},
   "outputs": [],
   "source": []
  }
 ],
 "metadata": {
  "kernelspec": {
   "display_name": "Python 3",
   "language": "python",
   "name": "python3"
  },
  "language_info": {
   "codemirror_mode": {
    "name": "ipython",
    "version": 3
   },
   "file_extension": ".py",
   "mimetype": "text/x-python",
   "name": "python",
   "nbconvert_exporter": "python",
   "pygments_lexer": "ipython3",
   "version": "3.11.6"
  }
 },
 "nbformat": 4,
 "nbformat_minor": 2
}
