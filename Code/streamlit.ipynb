{
 "cells": [
  {
   "cell_type": "code",
   "execution_count": 17,
   "metadata": {},
   "outputs": [],
   "source": [
    "## PRUEBAS PARA FUTURO\n",
    "\n",
    "## NO MERECE LA PENA HACERLO AHORA MISMO"
   ]
  },
  {
   "cell_type": "code",
   "execution_count": null,
   "metadata": {},
   "outputs": [],
   "source": [
    "with open('blackfriday.py', 'w') as f:\n",
    "    f.write('''\n",
    "            \n",
    "import streamlit as st\n",
    "           \n",
    "st.markdown(\"<iframe title=\"Dashboard BlackFriday\" width='100%' height='100%' src=\"https://app.powerbi.com/reportEmbed?reportId=dc5a3ebe-f5d6-4917-b189-7b26bef61773&autoAuth=true&ctid=62b8e19a-039a-445f-908d-acf0744462f5\" frameborder=\"0\" allowFullScreen=\"true\"></iframe>\", unsafe_allow_html=True)\n",
    "  \n",
    "''')"
   ]
  }
 ],
 "metadata": {
  "kernelspec": {
   "display_name": "Python 3",
   "language": "python",
   "name": "python3"
  },
  "language_info": {
   "codemirror_mode": {
    "name": "ipython",
    "version": 3
   },
   "file_extension": ".py",
   "mimetype": "text/x-python",
   "name": "python",
   "nbconvert_exporter": "python",
   "pygments_lexer": "ipython3",
   "version": "3.10.13"
  }
 },
 "nbformat": 4,
 "nbformat_minor": 2
}
